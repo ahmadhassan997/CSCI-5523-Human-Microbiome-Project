{
 "cells": [
  {
   "cell_type": "markdown",
   "metadata": {
    "collapsed": true,
    "pycharm": {
     "name": "#%% md\n"
    }
   },
   "source": [
    "# Clustering\n"
   ]
  },
  {
   "cell_type": "code",
   "execution_count": 1,
   "outputs": [],
   "source": [
    "from os import path\n",
    "import context\n",
    "import numpy as np\n",
    "import pandas as pd\n",
    "\n",
    "from xgboost import XGBClassifier\n",
    "import xgboost as xgb\n",
    "\n",
    "import sklearn\n",
    "from sklearn import metrics\n",
    "from sklearn import preprocessing\n",
    "from sklearn.model_selection import StratifiedKFold\n",
    "from sklearn.model_selection import train_test_split\n",
    "from sklearn.metrics import f1_score, roc_auc_score, confusion_matrix, precision_recall_curve, auc, roc_curve, recall_score\n",
    "\n",
    "import seaborn as sns\n",
    "import scikitplot as skplt\n",
    "import matplotlib.pyplot as plt"
   ],
   "metadata": {
    "collapsed": false,
    "pycharm": {
     "name": "#%%\n"
    }
   }
  },
  {
   "cell_type": "code",
   "execution_count": 25,
   "outputs": [],
   "source": [
    "import warnings\n",
    "from sklearn.exceptions import DataConversionWarning\n",
    "warnings.filterwarnings(action='ignore', category=DataConversionWarning)\n",
    "warnings.filterwarnings(action='ignore', category=UserWarning)\n",
    "\n",
    "# Meta parameters\n",
    "VERBOSE = 0\n",
    "FOLDS = 5\n",
    "\n",
    "show_fold_stats = False\n",
    "# show_fold_stats = False # set to True if all OOF results wanted\n",
    "\n",
    "do_plot_ROC = True # set to True to plot ROC when predicting cirrhosis\n",
    "\n",
    "# test_train_split_SEED = 1970\n",
    "test_train_split_SEED = 1971"
   ],
   "metadata": {
    "collapsed": false,
    "pycharm": {
     "name": "#%%\n"
    }
   }
  },
  {
   "cell_type": "code",
   "execution_count": 3,
   "outputs": [],
   "source": [
    "def plot_ROC(fpr, tpr, m_name):\n",
    "    roc_auc = sklearn.metrics.auc(fpr, tpr)\n",
    "    plt.figure(figsize=(6, 6))\n",
    "    lw = 2\n",
    "    plt.plot(fpr, tpr, color='darkorange',\n",
    "             lw=lw, label='ROC curve (area = %0.2f)' % roc_auc, alpha=0.5)\n",
    "\n",
    "    plt.plot([0, 1], [0, 1], color='navy', lw=lw, linestyle='--', alpha=0.5)\n",
    "\n",
    "    plt.xlim([0.0, 1.0])\n",
    "    plt.ylim([0.0, 1.05])\n",
    "    plt.xticks(fontsize=16)\n",
    "    plt.yticks(fontsize=16)\n",
    "    plt.grid(True)\n",
    "    plt.xlabel('False Positive Rate', fontsize=16)\n",
    "    plt.ylabel('True Positive Rate', fontsize=16)\n",
    "    plt.title('ROC for %s'%m_name, fontsize=20)\n",
    "    plt.legend(loc=\"lower right\", fontsize=16)\n",
    "    plt.show()"
   ],
   "metadata": {
    "collapsed": false,
    "pycharm": {
     "name": "#%%\n"
    }
   }
  },
  {
   "cell_type": "code",
   "execution_count": 4,
   "outputs": [
    {
     "name": "stdout",
     "output_type": "stream",
     "text": [
      "n                             2054\n",
      "nd                             475\n",
      "t2d                            223\n",
      "obesity                        164\n",
      "ibd_ulcerative_colitis         148\n",
      "cirrhosis                      118\n",
      "leaness                         89\n",
      "stec2-positive                  52\n",
      "impaired_glucose_tolerance      49\n",
      "cancer                          48\n",
      "n_relative                      47\n",
      "y                               36\n",
      "small_adenoma                   26\n",
      "ibd_crohn_disease               25\n",
      " -                              20\n",
      "large_adenoma                   13\n",
      "overweight                      10\n",
      "-                                7\n",
      "obese                            5\n",
      "underweight                      1\n",
      "Name: disease, dtype: int64\n",
      "hmp                                  762\n",
      "doyle_bt2                            458\n",
      "Neilsen_genome_assembly              382\n",
      "Segre_Human_Skin                     291\n",
      "t2dmeta_long                         290\n",
      "Chatelier_gut_obesity                278\n",
      "Quin_gut_liver_cirrhosis             232\n",
      "hmpii                                219\n",
      "WT2D                                 145\n",
      "Zeller_fecal_colorectal_cancer       134\n",
      "metahit                              110\n",
      "t2dmeta_short                         73\n",
      "Psoriasis_2014                        70\n",
      "Tito_subsistence_gut                  58\n",
      "Loman2013_EcoliOutbreak_DNA_HiSeq     44\n",
      "Candela_Africa                        38\n",
      "VerticalTransmissionPilot             17\n",
      "Loman2013_EcoliOutbreak_DNA_MiSeq      9\n",
      "Name: dataset_name, dtype: int64\n"
     ]
    },
    {
     "name": "stderr",
     "output_type": "stream",
     "text": [
      "/home/ahmad/myenvs/python3-env/lib/python3.6/site-packages/IPython/core/interactiveshell.py:3072: DtypeWarning: Columns (2,5,9,20,26,42,47,51,52,59,61,68,76,77,78,79) have mixed types.Specify dtype option on import or set low_memory=False.\n",
      "  interactivity=interactivity, compiler=compiler, result=result)\n"
     ]
    }
   ],
   "source": [
    "pd_abundance = pd.read_csv(path.join(context.proj_dir, 'data', 'abundance.csv'))\n",
    "pd_abundance = pd_abundance.loc[:,(pd_abundance!=0).sum()>10]\n",
    "disease = pd_abundance.loc[:,'disease']\n",
    "d_name = pd_abundance.loc[:,'dataset_name']\n",
    "print(disease.value_counts())\n",
    "print(d_name.value_counts())\n",
    "\n",
    "# list of diseases we want to analyze and predict\n",
    "diseases = ['obesity', 'cirrhosis', 't2d', 'cancer']"
   ],
   "metadata": {
    "collapsed": false,
    "pycharm": {
     "name": "#%%\n"
    }
   }
  },
  {
   "cell_type": "code",
   "execution_count": 5,
   "outputs": [],
   "source": [
    "cols = pd_abundance.columns.tolist()\n",
    "species = [x for x in cols if (x.startswith('k_') and \"s__\" in x)]\n",
    "metadata = [x for x in cols if not x.startswith('k_')]\n",
    "pd_abundance_conv = pd_abundance.copy()\n",
    "pd_abundance_conv = pd_abundance_conv[species].astype('float64')\n",
    "pd_abundance_conv = pd.concat([pd_abundance[metadata], pd_abundance_conv], axis = 1)\n",
    "\n",
    "# controls/healthy samples from Human Microbiome Project coded 'hmp' and 'hmpii'.\n",
    "# 't2d' stands for Type 2 Diabetes. We will combine a few studies into single dataset.\n",
    "data_sets = {'control':['hmp', 'hmpii'],'t2d':['WT2D','t2dmeta_long','t2dmeta_short'], 'cirrhosis' : ['Quin_gut_liver_cirrhosis'],\n",
    "             'cancer' : ['Zeller_fecal_colorectal_cancer'], 'obesity' : ['Chatelier_gut_obesity']}\n",
    "# combine controls from different studies into one\n",
    "pd_abundance_conv['disease'] = pd_abundance_conv['disease'].apply(lambda x: 'control' if ((x == 'n') or (x == 'nd') or (x == 'leaness')) else x)\n",
    "# separate controls and diseases into 2 dataframes\n",
    "pd_control = pd_abundance_conv.loc[pd_abundance_conv['disease'] == 'control']\n",
    "pd_disease = pd_abundance_conv.loc[pd_abundance_conv['disease'] != 'control']\n",
    "\n",
    "# we won't consider diseases from this list\n",
    "not_disease = [d for d in pd_disease.disease.unique().tolist() if d not in diseases]\n",
    "for d in not_disease:\n",
    "    pd_disease = pd_disease.drop(pd_disease.loc[pd_disease['disease'] == d].index, axis = 0)"
   ],
   "metadata": {
    "collapsed": false,
    "pycharm": {
     "name": "#%%\n"
    }
   }
  },
  {
   "cell_type": "code",
   "execution_count": 6,
   "outputs": [
    {
     "data": {
      "text/plain": "(3610, 1727)"
     },
     "execution_count": 6,
     "metadata": {},
     "output_type": "execute_result"
    }
   ],
   "source": [
    "pd_abundance_conv.shape"
   ],
   "metadata": {
    "collapsed": false,
    "pycharm": {
     "name": "#%%\n"
    }
   }
  },
  {
   "cell_type": "code",
   "execution_count": 34,
   "outputs": [],
   "source": [
    "def disease_distinction(d, counter_d, seed):\n",
    "    print('-' * 80)\n",
    "    print('Discriminate %s from %s'%(d,counter_d))\n",
    "\n",
    "    skf = StratifiedKFold(n_splits = FOLDS, shuffle = True, random_state = seed)\n",
    "    models = []\n",
    "    oof_scores= []\n",
    "    ds_names = data_sets[d]\n",
    "    if len(ds_names) == 1:\n",
    "        pd_cont = pd_control.loc[pd_control['dataset_name'] == ds_names[0]]\n",
    "        pd_dis = pd_disease.loc[pd_disease['dataset_name'] == ds_names[0]]\n",
    "    else:\n",
    "        pd_cont = pd_control.loc[pd_control['dataset_name'] == ds_names[0]]\n",
    "        pd_dis = pd_disease.loc[(pd_disease['disease'] == d) & (pd_disease['dataset_name'] == ds_names[0])]\n",
    "        for ds in ds_names[1:]:\n",
    "            pd_cont = pd.concat([pd_cont, pd_control.loc[pd_control['dataset_name'] == ds]], axis = 0)\n",
    "            pd_dis = pd.concat([pd_dis, pd_disease.loc[(pd_disease['disease'] == d) & (pd_disease['dataset_name'] == ds)]], axis = 0)\n",
    "\n",
    "    #     create dataset with all other diseases, target set to 0\n",
    "    pd_others = pd_disease.loc[(pd_disease['disease'] == counter_d)]\n",
    "    target_others = pd_others['disease'].apply(lambda x: 1 if x == d else 0)\n",
    "\n",
    "    pd_train = pd.concat([pd_cont, pd_dis], axis = 0)\n",
    "    #     adding control data from healthy subject, data by HMP\n",
    "    pd_train = pd.concat([pd_train, pd_control.loc[pd_control['dataset_name'] == 'hmp']], axis = 0)\n",
    "    pd_train = pd.concat([pd_train, pd_control.loc[pd_control['dataset_name'] == 'hmpii']], axis = 0)\n",
    "    target = pd_train['disease']\n",
    "    #     convert text target into binary\n",
    "    binary_target = target.apply(lambda x: 1 if x == d else 0)\n",
    "    # binary_target.value_counts()\n",
    "    #     use only abundance data for training\n",
    "    pd_others = pd_others[species]\n",
    "    pd_train  = pd_train[species]\n",
    "\n",
    "    #     this split provides us with preserved test set\n",
    "    disease_train, disease_test, disease_y_train, disease_y_test = train_test_split(pd_train, binary_target, test_size = 0.10,\n",
    "#                                                                                     stratify = binary_target,\n",
    "                                                                                    random_state = test_train_split_SEED)\n",
    "\n",
    "    #     combining preserved test set with other diseases samples\n",
    "    full_test = pd.concat([disease_test, pd_others])\n",
    "    full_y_test = pd.concat([disease_y_test, target_others])\n",
    "\n",
    "    disease_y_test.value_counts()\n",
    "    disease_y_train.value_counts()\n",
    "    preds = np.zeros(disease_y_test.shape[0])\n",
    "    full_preds = np.zeros(full_y_test.shape[0])\n",
    "\n",
    "    for fold, (idxT,idxV) in enumerate(skf.split(disease_train, disease_y_train)):\n",
    "\n",
    "        X_train = disease_train.iloc[idxT]\n",
    "        X_val = disease_train.iloc[idxV]\n",
    "        y_train = disease_y_train.iloc[idxT]\n",
    "        y_val = disease_y_train.iloc[idxV]\n",
    "\n",
    "        XGB_model = XGBClassifier(n_estimators=5000, max_depth=None,\n",
    "                            learning_rate=0.05,\n",
    "                            objective='binary:logistic',\n",
    "                            metric='auc',\n",
    "                            verbosity  = VERBOSE,\n",
    "                            n_jobs=-1, random_state  = seed, silent=True)\n",
    "\n",
    "        if show_fold_stats:\n",
    "            print('-' * 80)\n",
    "            print('Fold : %s'%(fold+1))\n",
    "\n",
    "        XGB_model.fit(X_train, y_train,\n",
    "                        eval_set = [(X_val, y_val)],\n",
    "                        eval_metric=['logloss'],\n",
    "                        early_stopping_rounds = 100, verbose=VERBOSE )\n",
    "\n",
    "        XGB_preds = XGB_model.predict_proba(X_val)\n",
    "        XGB_score = metrics.roc_auc_score(y_val, XGB_preds[:,1])\n",
    "        XGB_class = XGB_model.predict(X_val)\n",
    "\n",
    "        XGB_test = XGB_model.predict_proba(disease_test)\n",
    "        XGB_test_score = metrics.roc_auc_score(disease_y_test, XGB_test[:,1])\n",
    "        XGB_test_class = XGB_model.predict(disease_test)\n",
    "\n",
    "        full_test_preds = XGB_model.predict_proba(full_test)\n",
    "        full_test_score = metrics.roc_auc_score(full_y_test, full_test_preds[:,1])\n",
    "        full_test_class = XGB_model.predict(full_test)\n",
    "\n",
    "        f1s = f1_score(y_val, XGB_class)\n",
    "        recall = metrics.recall_score(y_val, XGB_class)\n",
    "        precision_score = metrics.precision_score(y_val, XGB_class)\n",
    "\n",
    "        f1_test = f1_score(disease_y_test, XGB_test_class)\n",
    "        recall_test = metrics.recall_score(disease_y_test, XGB_test_class)\n",
    "        precision_score_test = metrics.precision_score(disease_y_test, XGB_test_class)\n",
    "\n",
    "        f1_full_test = f1_score(full_y_test, full_test_class)\n",
    "        recall_full_test = metrics.recall_score(full_y_test, full_test_class)\n",
    "        precision_full_test = metrics.precision_score(full_y_test, full_test_class)\n",
    "\n",
    "        if show_fold_stats:\n",
    "            print('ROC AUC score for XGBoost model valid set: %.4f'%XGB_score)\n",
    "            print('F1 score: %0.4f'%f1s)\n",
    "            print(confusion_matrix(y_val, XGB_class))\n",
    "\n",
    "            print('ROC AUC score for XGBoost model test set: %.4f'%XGB_test_score)\n",
    "            print('F1 score: %0.4f'%f1_test)\n",
    "            print(confusion_matrix(disease_y_test, XGB_test_class))\n",
    "\n",
    "            print('ROC AUC score for full test set including other diseases used as false controls: %.4f'%full_test_score)\n",
    "            print('F1 score: %0.4f'%f1_full_test)\n",
    "            print(confusion_matrix(full_y_test, full_test_class))\n",
    "\n",
    "        preds += XGB_test[:,1] / FOLDS\n",
    "        full_preds += full_test_preds[:,1] / FOLDS\n",
    "\n",
    "        fold_score = [XGB_score,f1s,recall,precision_score, XGB_test_score,f1_test,recall_test,precision_score_test]\n",
    "        oof_scores.append({fold : fold_score})\n",
    "        models.append(XGB_model)\n",
    "\n",
    "    avg_test_score = metrics.roc_auc_score(disease_y_test, preds)\n",
    "    avg_class = np.where(preds < 0.5, 0, 1)\n",
    "    avg_f1_test = f1_score(disease_y_test, avg_class)\n",
    "    avg_recall_test = metrics.recall_score(disease_y_test, avg_class)\n",
    "    avg_precision_score_test = metrics.precision_score(disease_y_test, avg_class)\n",
    "\n",
    "    avg_full_test_score = metrics.roc_auc_score(full_y_test, full_preds)\n",
    "    avg_class_full = np.where(full_preds < 0.5, 0, 1)\n",
    "    avg_f1_test_full = f1_score(full_y_test, avg_class_full)\n",
    "    avg_recall_full_test = metrics.recall_score(full_y_test, avg_class_full)\n",
    "    avg_precision_full_test = metrics.precision_score(full_y_test, avg_class_full)\n",
    "\n",
    "    if show_fold_stats:\n",
    "        print('-' * 80)\n",
    "        print('ROC AUC score for %s averaged over %i folds: %.4f'%(d, FOLDS, avg_test_score))\n",
    "        print('F1 : %.4f, Recall : %.4f , Precision : %.4f'%(avg_f1_test, avg_recall_test, avg_precision_score_test))\n",
    "        print('Confusion matrix for %s averaged across %i folds '%(d,FOLDS))\n",
    "        print(confusion_matrix(disease_y_test, avg_class))\n",
    "\n",
    "\n",
    "    print('ROC AUC score for %s against %s averaged over %i folds : %.4f'%(d, counter_d, FOLDS, avg_full_test_score ))\n",
    "    print('F1 : %.4f, Recall : %.4f , Precision : %.4f'%(avg_f1_test_full, avg_recall_full_test, avg_precision_full_test))\n",
    "    print('Confusion matrix for %s against %s averaged across %i folds'%(d, counter_d, FOLDS))\n",
    "    print(confusion_matrix(full_y_test, avg_class_full))\n",
    "\n",
    "    # if do_plot_ROC:\n",
    "    #     (fpr, tpr, thresholds) = metrics.roc_curve(disease_y_test, preds)\n",
    "    #     plot_ROC(fpr, tpr, d)\n",
    "\n",
    "    return full_preds, full_y_test, \\\n",
    "           {d : (avg_test_score, avg_f1_test, avg_recall_test, avg_precision_score_test, oof_scores)}, \\\n",
    "           models"
   ],
   "metadata": {
    "collapsed": false,
    "pycharm": {
     "name": "#%%\n"
    }
   }
  },
  {
   "cell_type": "code",
   "execution_count": 35,
   "outputs": [
    {
     "name": "stdout",
     "output_type": "stream",
     "text": [
      "================================================================================\n",
      "Seed : 1970\n",
      "--------------------------------------------------------------------------------\n",
      "Discriminate cirrhosis from obesity\n",
      "ROC AUC score for cirrhosis against obesity averaged over 5 folds : 1.0000\n",
      "F1 : 1.0000, Recall : 1.0000 , Precision : 1.0000\n",
      "Confusion matrix for cirrhosis against obesity averaged across 5 folds\n",
      "[[279   0]\n",
      " [  0   7]]\n",
      "--------------------------------------------------------------------------------\n",
      "Discriminate cirrhosis from t2d\n",
      "ROC AUC score for cirrhosis against t2d averaged over 5 folds : 0.9996\n",
      "F1 : 0.5600, Recall : 1.0000 , Precision : 0.3889\n",
      "Confusion matrix for cirrhosis against t2d averaged across 5 folds\n",
      "[[327  11]\n",
      " [  0   7]]\n",
      "--------------------------------------------------------------------------------\n",
      "Discriminate cirrhosis from cancer\n",
      "ROC AUC score for cirrhosis against cancer averaged over 5 folds : 1.0000\n",
      "F1 : 0.8235, Recall : 1.0000 , Precision : 0.7000\n",
      "Confusion matrix for cirrhosis against cancer averaged across 5 folds\n",
      "[[160   3]\n",
      " [  0   7]]\n"
     ]
    }
   ],
   "source": [
    "full_predictions = []\n",
    "full_test_y = []\n",
    "other_metrics = []\n",
    "skf_models = []\n",
    "SEED = 1970\n",
    "print('=' * 80)\n",
    "print('Seed : %i'%SEED)\n",
    "d = 'cirrhosis'\n",
    "for counter in diseases:\n",
    "    if counter != d:\n",
    "        dc_pred, y_preds, other, model = disease_distinction(d, counter, SEED)\n",
    "        full_predictions.append(dc_pred)\n",
    "        full_test_y.append(y_preds)\n",
    "        other_metrics.append(other)\n",
    "        skf_models.append(model)"
   ],
   "metadata": {
    "collapsed": false,
    "pycharm": {
     "name": "#%%\n"
    }
   }
  },
  {
   "cell_type": "code",
   "execution_count": 16,
   "outputs": [],
   "source": [
    "other_disease_list = [dis for dis in diseases if dis != d]\n",
    "feature_list = []\n",
    "for i in range(3):\n",
    "    skf_model = skf_models[i][0]\n",
    "    imp_values = skf_model.get_booster().get_fscore()\n",
    "    for k,v in imp_values.items():\n",
    "        feature_list.append([other_disease_list[i], k,v])\n",
    "df_feature_imp = pd.DataFrame(feature_list, columns=['disc_disease', 'feature', 'value'])\n",
    "df_feature_imp.to_csv('../data_processed/cirrhosis_feature_importance.csv', index=False)"
   ],
   "metadata": {
    "collapsed": false,
    "pycharm": {
     "name": "#%%\n"
    }
   }
  },
  {
   "cell_type": "code",
   "execution_count": 17,
   "outputs": [
    {
     "data": {
      "text/plain": "['obesity', 't2d', 'cancer']"
     },
     "execution_count": 17,
     "metadata": {},
     "output_type": "execute_result"
    }
   ],
   "source": [],
   "metadata": {
    "collapsed": false,
    "pycharm": {
     "name": "#%%\n"
    }
   }
  },
  {
   "cell_type": "code",
   "execution_count": null,
   "outputs": [],
   "source": [],
   "metadata": {
    "collapsed": false,
    "pycharm": {
     "name": "#%%\n"
    }
   }
  }
 ],
 "metadata": {
  "kernelspec": {
   "display_name": "Python 3",
   "language": "python",
   "name": "python3"
  },
  "language_info": {
   "codemirror_mode": {
    "name": "ipython",
    "version": 2
   },
   "file_extension": ".py",
   "mimetype": "text/x-python",
   "name": "python",
   "nbconvert_exporter": "python",
   "pygments_lexer": "ipython2",
   "version": "2.7.6"
  }
 },
 "nbformat": 4,
 "nbformat_minor": 0
}