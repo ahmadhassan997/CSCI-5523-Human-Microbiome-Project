{
 "cells": [
  {
   "cell_type": "markdown",
   "source": [
    "### Import Libraries and Data\n"
   ],
   "metadata": {
    "collapsed": false
   }
  },
  {
   "cell_type": "code",
   "execution_count": 176,
   "outputs": [
    {
     "name": "stdout",
     "output_type": "stream",
     "text": [
      "Dataset size: (3610, 3513)\n"
     ]
    },
    {
     "name": "stderr",
     "output_type": "stream",
     "text": [
      "c:\\users\\ahmad\\myenvs\\python3-9-env\\lib\\site-packages\\IPython\\core\\interactiveshell.py:3165: DtypeWarning: Columns (2,5,9,20,26,42,47,51,52,59,61,68,76,77,78,79) have mixed types.Specify dtype option on import or set low_memory=False.\n",
      "  has_raised = await self.run_ast_nodes(code_ast.body, cell_name,\n"
     ]
    },
    {
     "data": {
      "text/plain": "     dataset_name sampleID subjectID bodysite disease age  gender   country  \\\n0  Candela_Africa      H10       h10    stool       n  40  female  tanzania   \n1  Candela_Africa      H11       h11    stool       n  29  female  tanzania   \n2  Candela_Africa      H12       h12    stool       n   8  female  tanzania   \n3  Candela_Africa      H13       h13    stool       n  34    male  tanzania   \n4  Candela_Africa      H14       h14    stool       n  30    male  tanzania   \n\n  sequencing_technology  pubmedid  ...  \\\n0              Illumina  25981789  ...   \n1              Illumina  25981789  ...   \n2              Illumina  25981789  ...   \n3              Illumina  25981789  ...   \n4              Illumina  25981789  ...   \n\n  k__Bacteria|p__Firmicutes|c__Bacilli|o__Lactobacillales|f__Enterococcaceae|g__Enterococcus|s__Enterococcus_gilvus|t__Enterococcus_gilvus_unclassified  \\\n0                                                0.0                                                                                                      \n1                                                0.0                                                                                                      \n2                                                0.0                                                                                                      \n3                                                0.0                                                                                                      \n4                                                0.0                                                                                                      \n\n  k__Bacteria|p__Firmicutes|c__Bacilli|o__Lactobacillales|f__Lactobacillaceae|g__Lactobacillus|s__Lactobacillus_otakiensis  \\\n0                                                0.0                                                                         \n1                                                0.0                                                                         \n2                                                0.0                                                                         \n3                                                0.0                                                                         \n4                                                0.0                                                                         \n\n  k__Bacteria|p__Firmicutes|c__Bacilli|o__Lactobacillales|f__Lactobacillaceae|g__Lactobacillus|s__Lactobacillus_otakiensis|t__GCF_000415925  \\\n0                                                0.0                                                                                          \n1                                                0.0                                                                                          \n2                                                0.0                                                                                          \n3                                                0.0                                                                                          \n4                                                0.0                                                                                          \n\n  k__Bacteria|p__Firmicutes|c__Clostridia|o__Clostridiales|f__Peptococcaceae  \\\n0                                                0.0                           \n1                                                0.0                           \n2                                                0.0                           \n3                                                0.0                           \n4                                                0.0                           \n\n  k__Bacteria|p__Firmicutes|c__Clostridia|o__Clostridiales|f__Peptococcaceae|g__Desulfotomaculum  \\\n0                                                0.0                                               \n1                                                0.0                                               \n2                                                0.0                                               \n3                                                0.0                                               \n4                                                0.0                                               \n\n  k__Bacteria|p__Firmicutes|c__Clostridia|o__Clostridiales|f__Peptococcaceae|g__Desulfotomaculum|s__Desulfotomaculum_ruminis  \\\n0                                                0.0                                                                           \n1                                                0.0                                                                           \n2                                                0.0                                                                           \n3                                                0.0                                                                           \n4                                                0.0                                                                           \n\n  k__Bacteria|p__Firmicutes|c__Clostridia|o__Clostridiales|f__Peptococcaceae|g__Desulfotomaculum|s__Desulfotomaculum_ruminis|t__GCF_000215085  \\\n0                                                0.0                                                                                            \n1                                                0.0                                                                                            \n2                                                0.0                                                                                            \n3                                                0.0                                                                                            \n4                                                0.0                                                                                            \n\n  k__Bacteria|p__Firmicutes|c__Clostridia|o__Clostridiales|f__Ruminococcaceae|g__Faecalibacterium|s__Faecalibacterium_prausnitzii|t__GCF_000209855  \\\n0                                                0.0                                                                                                 \n1                                                0.0                                                                                                 \n2                                                0.0                                                                                                 \n3                                                0.0                                                                                                 \n4                                                0.0                                                                                                 \n\n  k__Bacteria|p__Firmicutes|c__Negativicutes|o__Selenomonadales|f__Veillonellaceae|g__Megasphaera|s__Megasphaera_sp_BV3C16_1  \\\n0                                                0.0                                                                           \n1                                                0.0                                                                           \n2                                                0.0                                                                           \n3                                                0.0                                                                           \n4                                                0.0                                                                           \n\n  k__Bacteria|p__Firmicutes|c__Negativicutes|o__Selenomonadales|f__Veillonellaceae|g__Megasphaera|s__Megasphaera_sp_BV3C16_1|t__GCF_000478965  \n0                                                0.0                                                                                           \n1                                                0.0                                                                                           \n2                                                0.0                                                                                           \n3                                                0.0                                                                                           \n4                                                0.0                                                                                           \n\n[5 rows x 3513 columns]",
      "text/html": "<div>\n<style scoped>\n    .dataframe tbody tr th:only-of-type {\n        vertical-align: middle;\n    }\n\n    .dataframe tbody tr th {\n        vertical-align: top;\n    }\n\n    .dataframe thead th {\n        text-align: right;\n    }\n</style>\n<table border=\"1\" class=\"dataframe\">\n  <thead>\n    <tr style=\"text-align: right;\">\n      <th></th>\n      <th>dataset_name</th>\n      <th>sampleID</th>\n      <th>subjectID</th>\n      <th>bodysite</th>\n      <th>disease</th>\n      <th>age</th>\n      <th>gender</th>\n      <th>country</th>\n      <th>sequencing_technology</th>\n      <th>pubmedid</th>\n      <th>...</th>\n      <th>k__Bacteria|p__Firmicutes|c__Bacilli|o__Lactobacillales|f__Enterococcaceae|g__Enterococcus|s__Enterococcus_gilvus|t__Enterococcus_gilvus_unclassified</th>\n      <th>k__Bacteria|p__Firmicutes|c__Bacilli|o__Lactobacillales|f__Lactobacillaceae|g__Lactobacillus|s__Lactobacillus_otakiensis</th>\n      <th>k__Bacteria|p__Firmicutes|c__Bacilli|o__Lactobacillales|f__Lactobacillaceae|g__Lactobacillus|s__Lactobacillus_otakiensis|t__GCF_000415925</th>\n      <th>k__Bacteria|p__Firmicutes|c__Clostridia|o__Clostridiales|f__Peptococcaceae</th>\n      <th>k__Bacteria|p__Firmicutes|c__Clostridia|o__Clostridiales|f__Peptococcaceae|g__Desulfotomaculum</th>\n      <th>k__Bacteria|p__Firmicutes|c__Clostridia|o__Clostridiales|f__Peptococcaceae|g__Desulfotomaculum|s__Desulfotomaculum_ruminis</th>\n      <th>k__Bacteria|p__Firmicutes|c__Clostridia|o__Clostridiales|f__Peptococcaceae|g__Desulfotomaculum|s__Desulfotomaculum_ruminis|t__GCF_000215085</th>\n      <th>k__Bacteria|p__Firmicutes|c__Clostridia|o__Clostridiales|f__Ruminococcaceae|g__Faecalibacterium|s__Faecalibacterium_prausnitzii|t__GCF_000209855</th>\n      <th>k__Bacteria|p__Firmicutes|c__Negativicutes|o__Selenomonadales|f__Veillonellaceae|g__Megasphaera|s__Megasphaera_sp_BV3C16_1</th>\n      <th>k__Bacteria|p__Firmicutes|c__Negativicutes|o__Selenomonadales|f__Veillonellaceae|g__Megasphaera|s__Megasphaera_sp_BV3C16_1|t__GCF_000478965</th>\n    </tr>\n  </thead>\n  <tbody>\n    <tr>\n      <th>0</th>\n      <td>Candela_Africa</td>\n      <td>H10</td>\n      <td>h10</td>\n      <td>stool</td>\n      <td>n</td>\n      <td>40</td>\n      <td>female</td>\n      <td>tanzania</td>\n      <td>Illumina</td>\n      <td>25981789</td>\n      <td>...</td>\n      <td>0.0</td>\n      <td>0.0</td>\n      <td>0.0</td>\n      <td>0.0</td>\n      <td>0.0</td>\n      <td>0.0</td>\n      <td>0.0</td>\n      <td>0.0</td>\n      <td>0.0</td>\n      <td>0.0</td>\n    </tr>\n    <tr>\n      <th>1</th>\n      <td>Candela_Africa</td>\n      <td>H11</td>\n      <td>h11</td>\n      <td>stool</td>\n      <td>n</td>\n      <td>29</td>\n      <td>female</td>\n      <td>tanzania</td>\n      <td>Illumina</td>\n      <td>25981789</td>\n      <td>...</td>\n      <td>0.0</td>\n      <td>0.0</td>\n      <td>0.0</td>\n      <td>0.0</td>\n      <td>0.0</td>\n      <td>0.0</td>\n      <td>0.0</td>\n      <td>0.0</td>\n      <td>0.0</td>\n      <td>0.0</td>\n    </tr>\n    <tr>\n      <th>2</th>\n      <td>Candela_Africa</td>\n      <td>H12</td>\n      <td>h12</td>\n      <td>stool</td>\n      <td>n</td>\n      <td>8</td>\n      <td>female</td>\n      <td>tanzania</td>\n      <td>Illumina</td>\n      <td>25981789</td>\n      <td>...</td>\n      <td>0.0</td>\n      <td>0.0</td>\n      <td>0.0</td>\n      <td>0.0</td>\n      <td>0.0</td>\n      <td>0.0</td>\n      <td>0.0</td>\n      <td>0.0</td>\n      <td>0.0</td>\n      <td>0.0</td>\n    </tr>\n    <tr>\n      <th>3</th>\n      <td>Candela_Africa</td>\n      <td>H13</td>\n      <td>h13</td>\n      <td>stool</td>\n      <td>n</td>\n      <td>34</td>\n      <td>male</td>\n      <td>tanzania</td>\n      <td>Illumina</td>\n      <td>25981789</td>\n      <td>...</td>\n      <td>0.0</td>\n      <td>0.0</td>\n      <td>0.0</td>\n      <td>0.0</td>\n      <td>0.0</td>\n      <td>0.0</td>\n      <td>0.0</td>\n      <td>0.0</td>\n      <td>0.0</td>\n      <td>0.0</td>\n    </tr>\n    <tr>\n      <th>4</th>\n      <td>Candela_Africa</td>\n      <td>H14</td>\n      <td>h14</td>\n      <td>stool</td>\n      <td>n</td>\n      <td>30</td>\n      <td>male</td>\n      <td>tanzania</td>\n      <td>Illumina</td>\n      <td>25981789</td>\n      <td>...</td>\n      <td>0.0</td>\n      <td>0.0</td>\n      <td>0.0</td>\n      <td>0.0</td>\n      <td>0.0</td>\n      <td>0.0</td>\n      <td>0.0</td>\n      <td>0.0</td>\n      <td>0.0</td>\n      <td>0.0</td>\n    </tr>\n  </tbody>\n</table>\n<p>5 rows × 3513 columns</p>\n</div>"
     },
     "execution_count": 176,
     "metadata": {},
     "output_type": "execute_result"
    }
   ],
   "source": [
    "import numpy as np\n",
    "import pandas as pd\n",
    "import matplotlib.pyplot as plt\n",
    "import seaborn as sns\n",
    "\n",
    "import context\n",
    "from os import path\n",
    "\n",
    "\n",
    "%matplotlib inline\n",
    "sns.set_theme(style=\"whitegrid\")\n",
    "\n",
    "abundance_df = pd.read_csv(path.join(context.proj_dir, 'data', 'abundance.csv'))\n",
    "print(\"Dataset size: {}\".format(abundance_df.shape))\n",
    "abundance_df.head()"
   ],
   "metadata": {
    "collapsed": false,
    "pycharm": {
     "name": "#%%\n"
    }
   }
  },
  {
   "cell_type": "code",
   "execution_count": 177,
   "outputs": [
    {
     "data": {
      "text/plain": "dataset_name                       disease                   \nCandela_Africa                     n                              38\nChatelier_gut_obesity              obesity                       164\n                                   leaness                        89\n                                   n                              25\nLoman2013_EcoliOutbreak_DNA_HiSeq  stec2-positive                 43\n                                    -                              1\nLoman2013_EcoliOutbreak_DNA_MiSeq  stec2-positive                  9\nNeilsen_genome_assembly            n                             187\n                                   ibd_ulcerative_colitis        127\n                                   n_relative                     47\n                                   ibd_crohn_disease              21\nPsoriasis_2014                     y                              36\n                                   n                              34\nQuin_gut_liver_cirrhosis           cirrhosis                     118\n                                   n                             114\nSegre_Human_Skin                   n                             291\nTito_subsistence_gut               n                              35\n                                   overweight                     10\n                                   -                               7\n                                   obese                           5\n                                   underweight                     1\nVerticalTransmissionPilot          nd                             17\nWT2D                               t2d                            53\n                                   impaired_glucose_tolerance     49\n                                   n                              43\nZeller_fecal_colorectal_cancer     cancer                         48\n                                   n                              47\n                                   small_adenoma                  26\n                                   large_adenoma                  13\ndoyle_bt2                          nd                            458\nhmp                                n                             762\nhmpii                              n                             219\nmetahit                            n                              85\n                                   ibd_ulcerative_colitis         21\n                                   ibd_crohn_disease               4\nt2dmeta_long                       n                             136\n                                   t2d                           135\n                                    -                             19\nt2dmeta_short                      n                              38\n                                   t2d                            35\nName: disease, dtype: int64"
     },
     "execution_count": 177,
     "metadata": {},
     "output_type": "execute_result"
    }
   ],
   "source": [
    "## To check disease in datasets\n",
    "abundance_df.groupby('dataset_name')['disease'].value_counts()"
   ],
   "metadata": {
    "collapsed": false,
    "pycharm": {
     "name": "#%%\n"
    }
   }
  },
  {
   "cell_type": "markdown",
   "source": [
    "### Exploring/Cleaning Dataset"
   ],
   "metadata": {
    "collapsed": false
   }
  },
  {
   "cell_type": "code",
   "execution_count": 178,
   "outputs": [
    {
     "name": "stdout",
     "output_type": "stream",
     "text": [
      "(786, 3513)\n"
     ]
    },
    {
     "data": {
      "text/plain": "             dataset_name sampleID subjectID bodysite  disease  age gender  \\\n38  Chatelier_gut_obesity   MH0002    mh0002    stool        n  NaN    NaN   \n39  Chatelier_gut_obesity   MH0003    mh0003    stool  obesity  NaN    NaN   \n40  Chatelier_gut_obesity   MH0006    mh0006    stool  leaness  NaN    NaN   \n41  Chatelier_gut_obesity   MH0009    mh0009    stool        n  NaN    NaN   \n42  Chatelier_gut_obesity   MH0011    mh0011    stool  leaness  NaN    NaN   \n\n    country sequencing_technology  pubmedid  ...  \\\n38  denmark              Illumina  23985870  ...   \n39  denmark              Illumina  23985870  ...   \n40  denmark              Illumina  23985870  ...   \n41  denmark              Illumina  23985870  ...   \n42  denmark              Illumina  23985870  ...   \n\n    k__Bacteria|p__Firmicutes|c__Bacilli|o__Lactobacillales|f__Enterococcaceae|g__Enterococcus|s__Enterococcus_gilvus|t__Enterococcus_gilvus_unclassified  \\\n38                                                0.0                                                                                                       \n39                                                0.0                                                                                                       \n40                                                0.0                                                                                                       \n41                                                0.0                                                                                                       \n42                                                0.0                                                                                                       \n\n   k__Bacteria|p__Firmicutes|c__Bacilli|o__Lactobacillales|f__Lactobacillaceae|g__Lactobacillus|s__Lactobacillus_otakiensis  \\\n38                                                0.0                                                                         \n39                                                0.0                                                                         \n40                                                0.0                                                                         \n41                                                0.0                                                                         \n42                                                0.0                                                                         \n\n   k__Bacteria|p__Firmicutes|c__Bacilli|o__Lactobacillales|f__Lactobacillaceae|g__Lactobacillus|s__Lactobacillus_otakiensis|t__GCF_000415925  \\\n38                                                0.0                                                                                          \n39                                                0.0                                                                                          \n40                                                0.0                                                                                          \n41                                                0.0                                                                                          \n42                                                0.0                                                                                          \n\n   k__Bacteria|p__Firmicutes|c__Clostridia|o__Clostridiales|f__Peptococcaceae  \\\n38                                                0.0                           \n39                                                0.0                           \n40                                                0.0                           \n41                                                0.0                           \n42                                                0.0                           \n\n   k__Bacteria|p__Firmicutes|c__Clostridia|o__Clostridiales|f__Peptococcaceae|g__Desulfotomaculum  \\\n38                                                0.0                                               \n39                                                0.0                                               \n40                                                0.0                                               \n41                                                0.0                                               \n42                                                0.0                                               \n\n   k__Bacteria|p__Firmicutes|c__Clostridia|o__Clostridiales|f__Peptococcaceae|g__Desulfotomaculum|s__Desulfotomaculum_ruminis  \\\n38                                                0.0                                                                           \n39                                                0.0                                                                           \n40                                                0.0                                                                           \n41                                                0.0                                                                           \n42                                                0.0                                                                           \n\n   k__Bacteria|p__Firmicutes|c__Clostridia|o__Clostridiales|f__Peptococcaceae|g__Desulfotomaculum|s__Desulfotomaculum_ruminis|t__GCF_000215085  \\\n38                                                0.0                                                                                            \n39                                                0.0                                                                                            \n40                                                0.0                                                                                            \n41                                                0.0                                                                                            \n42                                                0.0                                                                                            \n\n   k__Bacteria|p__Firmicutes|c__Clostridia|o__Clostridiales|f__Ruminococcaceae|g__Faecalibacterium|s__Faecalibacterium_prausnitzii|t__GCF_000209855  \\\n38                                                0.0                                                                                                 \n39                                                0.0                                                                                                 \n40                                                0.0                                                                                                 \n41                                                0.0                                                                                                 \n42                                                0.0                                                                                                 \n\n   k__Bacteria|p__Firmicutes|c__Negativicutes|o__Selenomonadales|f__Veillonellaceae|g__Megasphaera|s__Megasphaera_sp_BV3C16_1  \\\n38                                                0.0                                                                           \n39                                                0.0                                                                           \n40                                                0.0                                                                           \n41                                                0.0                                                                           \n42                                                0.0                                                                           \n\n   k__Bacteria|p__Firmicutes|c__Negativicutes|o__Selenomonadales|f__Veillonellaceae|g__Megasphaera|s__Megasphaera_sp_BV3C16_1|t__GCF_000478965  \n38                                                0.0                                                                                           \n39                                                0.0                                                                                           \n40                                                0.0                                                                                           \n41                                                0.0                                                                                           \n42                                                0.0                                                                                           \n\n[5 rows x 3513 columns]",
      "text/html": "<div>\n<style scoped>\n    .dataframe tbody tr th:only-of-type {\n        vertical-align: middle;\n    }\n\n    .dataframe tbody tr th {\n        vertical-align: top;\n    }\n\n    .dataframe thead th {\n        text-align: right;\n    }\n</style>\n<table border=\"1\" class=\"dataframe\">\n  <thead>\n    <tr style=\"text-align: right;\">\n      <th></th>\n      <th>dataset_name</th>\n      <th>sampleID</th>\n      <th>subjectID</th>\n      <th>bodysite</th>\n      <th>disease</th>\n      <th>age</th>\n      <th>gender</th>\n      <th>country</th>\n      <th>sequencing_technology</th>\n      <th>pubmedid</th>\n      <th>...</th>\n      <th>k__Bacteria|p__Firmicutes|c__Bacilli|o__Lactobacillales|f__Enterococcaceae|g__Enterococcus|s__Enterococcus_gilvus|t__Enterococcus_gilvus_unclassified</th>\n      <th>k__Bacteria|p__Firmicutes|c__Bacilli|o__Lactobacillales|f__Lactobacillaceae|g__Lactobacillus|s__Lactobacillus_otakiensis</th>\n      <th>k__Bacteria|p__Firmicutes|c__Bacilli|o__Lactobacillales|f__Lactobacillaceae|g__Lactobacillus|s__Lactobacillus_otakiensis|t__GCF_000415925</th>\n      <th>k__Bacteria|p__Firmicutes|c__Clostridia|o__Clostridiales|f__Peptococcaceae</th>\n      <th>k__Bacteria|p__Firmicutes|c__Clostridia|o__Clostridiales|f__Peptococcaceae|g__Desulfotomaculum</th>\n      <th>k__Bacteria|p__Firmicutes|c__Clostridia|o__Clostridiales|f__Peptococcaceae|g__Desulfotomaculum|s__Desulfotomaculum_ruminis</th>\n      <th>k__Bacteria|p__Firmicutes|c__Clostridia|o__Clostridiales|f__Peptococcaceae|g__Desulfotomaculum|s__Desulfotomaculum_ruminis|t__GCF_000215085</th>\n      <th>k__Bacteria|p__Firmicutes|c__Clostridia|o__Clostridiales|f__Ruminococcaceae|g__Faecalibacterium|s__Faecalibacterium_prausnitzii|t__GCF_000209855</th>\n      <th>k__Bacteria|p__Firmicutes|c__Negativicutes|o__Selenomonadales|f__Veillonellaceae|g__Megasphaera|s__Megasphaera_sp_BV3C16_1</th>\n      <th>k__Bacteria|p__Firmicutes|c__Negativicutes|o__Selenomonadales|f__Veillonellaceae|g__Megasphaera|s__Megasphaera_sp_BV3C16_1|t__GCF_000478965</th>\n    </tr>\n  </thead>\n  <tbody>\n    <tr>\n      <th>38</th>\n      <td>Chatelier_gut_obesity</td>\n      <td>MH0002</td>\n      <td>mh0002</td>\n      <td>stool</td>\n      <td>n</td>\n      <td>NaN</td>\n      <td>NaN</td>\n      <td>denmark</td>\n      <td>Illumina</td>\n      <td>23985870</td>\n      <td>...</td>\n      <td>0.0</td>\n      <td>0.0</td>\n      <td>0.0</td>\n      <td>0.0</td>\n      <td>0.0</td>\n      <td>0.0</td>\n      <td>0.0</td>\n      <td>0.0</td>\n      <td>0.0</td>\n      <td>0.0</td>\n    </tr>\n    <tr>\n      <th>39</th>\n      <td>Chatelier_gut_obesity</td>\n      <td>MH0003</td>\n      <td>mh0003</td>\n      <td>stool</td>\n      <td>obesity</td>\n      <td>NaN</td>\n      <td>NaN</td>\n      <td>denmark</td>\n      <td>Illumina</td>\n      <td>23985870</td>\n      <td>...</td>\n      <td>0.0</td>\n      <td>0.0</td>\n      <td>0.0</td>\n      <td>0.0</td>\n      <td>0.0</td>\n      <td>0.0</td>\n      <td>0.0</td>\n      <td>0.0</td>\n      <td>0.0</td>\n      <td>0.0</td>\n    </tr>\n    <tr>\n      <th>40</th>\n      <td>Chatelier_gut_obesity</td>\n      <td>MH0006</td>\n      <td>mh0006</td>\n      <td>stool</td>\n      <td>leaness</td>\n      <td>NaN</td>\n      <td>NaN</td>\n      <td>denmark</td>\n      <td>Illumina</td>\n      <td>23985870</td>\n      <td>...</td>\n      <td>0.0</td>\n      <td>0.0</td>\n      <td>0.0</td>\n      <td>0.0</td>\n      <td>0.0</td>\n      <td>0.0</td>\n      <td>0.0</td>\n      <td>0.0</td>\n      <td>0.0</td>\n      <td>0.0</td>\n    </tr>\n    <tr>\n      <th>41</th>\n      <td>Chatelier_gut_obesity</td>\n      <td>MH0009</td>\n      <td>mh0009</td>\n      <td>stool</td>\n      <td>n</td>\n      <td>NaN</td>\n      <td>NaN</td>\n      <td>denmark</td>\n      <td>Illumina</td>\n      <td>23985870</td>\n      <td>...</td>\n      <td>0.0</td>\n      <td>0.0</td>\n      <td>0.0</td>\n      <td>0.0</td>\n      <td>0.0</td>\n      <td>0.0</td>\n      <td>0.0</td>\n      <td>0.0</td>\n      <td>0.0</td>\n      <td>0.0</td>\n    </tr>\n    <tr>\n      <th>42</th>\n      <td>Chatelier_gut_obesity</td>\n      <td>MH0011</td>\n      <td>mh0011</td>\n      <td>stool</td>\n      <td>leaness</td>\n      <td>NaN</td>\n      <td>NaN</td>\n      <td>denmark</td>\n      <td>Illumina</td>\n      <td>23985870</td>\n      <td>...</td>\n      <td>0.0</td>\n      <td>0.0</td>\n      <td>0.0</td>\n      <td>0.0</td>\n      <td>0.0</td>\n      <td>0.0</td>\n      <td>0.0</td>\n      <td>0.0</td>\n      <td>0.0</td>\n      <td>0.0</td>\n    </tr>\n  </tbody>\n</table>\n<p>5 rows × 3513 columns</p>\n</div>"
     },
     "execution_count": 178,
     "metadata": {},
     "output_type": "execute_result"
    }
   ],
   "source": [
    "# lets work with a few datasets only (diabetes, obesity, leanness)\n",
    "abundance_df = abundance_df.loc[(abundance_df.dataset_name == 'WT2D') |\n",
    "                                (abundance_df.dataset_name == 't2dmeta_long')|\n",
    "                                (abundance_df.dataset_name == 't2dmeta_short') |\n",
    "                                (abundance_df.dataset_name == 'Chatelier_gut_obesity'),:]\n",
    "# abundance_df = abundance_df.loc[(abundance_df.dataset_name == 'WT2D') |\n",
    "#                                 (abundance_df.dataset_name == 't2dmeta_long')|\n",
    "#                                 (abundance_df.dataset_name == 't2dmeta_short'),:]\n",
    "\n",
    "# change missing values to nan\n",
    "abundance_df = abundance_df.replace('nd', np.nan).replace('na', np.nan).replace('-', np.nan).replace(' -', np.nan)\n",
    "print(abundance_df.shape)\n",
    "abundance_df.head()"
   ],
   "metadata": {
    "collapsed": false,
    "pycharm": {
     "name": "#%%\n"
    }
   }
  },
  {
   "cell_type": "code",
   "execution_count": 179,
   "outputs": [
    {
     "data": {
      "text/plain": "<Figure size 432x288 with 1 Axes>",
      "image/png": "[encoded data removed]"
     },
     "metadata": {},
     "output_type": "display_data"
    }
   ],
   "source": [
    "# unique datasets\n",
    "df = abundance_df['dataset_name'].value_counts().plot.bar()"
   ],
   "metadata": {
    "collapsed": false,
    "pycharm": {
     "name": "#%%\n"
    }
   }
  },
  {
   "cell_type": "code",
   "execution_count": 180,
   "outputs": [
    {
     "data": {
      "text/plain": "<AxesSubplot:ylabel='dataset_name'>"
     },
     "execution_count": 180,
     "metadata": {},
     "output_type": "execute_result"
    },
    {
     "data": {
      "text/plain": "<Figure size 432x288 with 1 Axes>",
      "image/png": "[encoded data removed]"
     },
     "metadata": {},
     "output_type": "display_data"
    }
   ],
   "source": [
    "# Unique diseases in all datasets\n",
    "abundance_df.groupby('dataset_name')['disease'].value_counts().unstack().plot.barh()"
   ],
   "metadata": {
    "collapsed": false,
    "pycharm": {
     "name": "#%%\n"
    }
   }
  },
  {
   "cell_type": "code",
   "execution_count": 181,
   "outputs": [
    {
     "name": "stdout",
     "output_type": "stream",
     "text": [
      "Disease Metadata: (786, 211)\n",
      "Disease Species: (786, 3302)\n"
     ]
    }
   ],
   "source": [
    "# divided the abundance data to metadata and species data\n",
    "split_index = abundance_df.columns.get_loc('k__Archaea')\n",
    "disease_metadata = abundance_df.iloc[:, 0:split_index]\n",
    "disease_species = abundance_df.iloc[:, split_index:]\n",
    "print(\"Disease Metadata: {}\".format(disease_metadata.shape))\n",
    "print(\"Disease Species: {}\".format(disease_species.shape))"
   ],
   "metadata": {
    "collapsed": false,
    "pycharm": {
     "name": "#%%\n"
    }
   }
  },
  {
   "cell_type": "code",
   "execution_count": 182,
   "outputs": [
    {
     "data": {
      "text/plain": "(786, 61)"
     },
     "execution_count": 182,
     "metadata": {},
     "output_type": "execute_result"
    }
   ],
   "source": [
    "# finding the columns with entry as na\n",
    "cols = (  disease_metadata.isna().sum()  !=  len(disease_metadata)  )\n",
    "# deleting the columns with every entry as na\n",
    "disease_metadata_short = disease_metadata[cols[cols].index]\n",
    "disease_metadata_short.shape"
   ],
   "metadata": {
    "collapsed": false,
    "pycharm": {
     "name": "#%%\n"
    }
   }
  },
  {
   "cell_type": "code",
   "execution_count": 183,
   "outputs": [
    {
     "data": {
      "text/plain": "(786, 54)"
     },
     "execution_count": 183,
     "metadata": {},
     "output_type": "execute_result"
    }
   ],
   "source": [
    "# get rid of more redundant and unnecessary variables in metadata\n",
    "unimportant =['subjectID', 'sequencing_technology', 'pubmedid','#SampleID',\n",
    "           'diabetic','bodysite','classification']\n",
    "disease_metadata_short = disease_metadata_short.drop(columns = unimportant)\n",
    "disease_metadata_short.shape"
   ],
   "metadata": {
    "collapsed": false,
    "pycharm": {
     "name": "#%%\n"
    }
   }
  },
  {
   "cell_type": "code",
   "execution_count": 184,
   "outputs": [
    {
     "data": {
      "text/plain": "(786, 1715)"
     },
     "execution_count": 184,
     "metadata": {},
     "output_type": "execute_result"
    }
   ],
   "source": [
    "# finding the columns with max entry to zero to remove uninformative variables\n",
    "# All values for species >=0, so a column with a max entry of zero means has all zeroes\n",
    "cols = (  disease_species.max()  !=  0 )\n",
    "#subseting the species data to informative variables\n",
    "disease_species_short = disease_species[cols[cols].index]\n",
    "disease_species_short.shape\n"
   ],
   "metadata": {
    "collapsed": false,
    "pycharm": {
     "name": "#%%\n"
    }
   }
  },
  {
   "cell_type": "code",
   "execution_count": 185,
   "outputs": [
    {
     "data": {
      "text/plain": "             dataset_name sampleID  disease  age gender  country  \\\n38  Chatelier_gut_obesity   MH0002        n  NaN    NaN  denmark   \n39  Chatelier_gut_obesity   MH0003  obesity  NaN    NaN  denmark   \n40  Chatelier_gut_obesity   MH0006  leaness  NaN    NaN  denmark   \n41  Chatelier_gut_obesity   MH0009        n  NaN    NaN  denmark   \n42  Chatelier_gut_obesity   MH0011  leaness  NaN    NaN  denmark   \n\n   paired_end_insert_size read_length total_reads matched_reads  ...  \\\n38                139/370          75    46564054      28295708  ...   \n39                143/357          75    50381662      31800850  ...   \n40                    233       44/75   161145974     112203684  ...   \n41                146/373          75    58446132      34215593  ...   \n42                146/368          75    58492736      34218208  ...   \n\n   k__Bacteria|p__Planctomycetes|c__Planctomycetia|o__Planctomycetales|f__Planctomycetaceae|g__Rhodopirellula  \\\n38                                                0.0                                                           \n39                                                0.0                                                           \n40                                                0.0                                                           \n41                                                0.0                                                           \n42                                                0.0                                                           \n\n   k__Bacteria|p__Planctomycetes|c__Planctomycetia|o__Planctomycetales|f__Planctomycetaceae|g__Rhodopirellula|s__Rhodopirellula_unclassified  \\\n38                                                0.0                                                                                          \n39                                                0.0                                                                                          \n40                                                0.0                                                                                          \n41                                                0.0                                                                                          \n42                                                0.0                                                                                          \n\n   k__Bacteria|p__Proteobacteria|c__Gammaproteobacteria|o__Vibrionales|f__Vibrionaceae|g__Vibrio|s__Vibrio_furnissii  \\\n38                                                0.0                                                                  \n39                                                0.0                                                                  \n40                                                0.0                                                                  \n41                                                0.0                                                                  \n42                                                0.0                                                                  \n\n   k__Bacteria|p__Proteobacteria|c__Gammaproteobacteria|o__Vibrionales|f__Vibrionaceae|g__Vibrio|s__Vibrio_furnissii|t__Vibrio_furnissii_unclassified  \\\n38                                                0.0                                                                                                   \n39                                                0.0                                                                                                   \n40                                                0.0                                                                                                   \n41                                                0.0                                                                                                   \n42                                                0.0                                                                                                   \n\n   k__Bacteria|p__Bacteroidetes|c__Bacteroidia|o__Bacteroidales|f__Bacteroidaceae|g__Bacteroides|s__Bacteroides_sp_2_2_4  \\\n38                                                0.0                                                                      \n39                                                0.0                                                                      \n40                                                0.0                                                                      \n41                                                0.0                                                                      \n42                                                0.0                                                                      \n\n   k__Bacteria|p__Bacteroidetes|c__Bacteroidia|o__Bacteroidales|f__Bacteroidaceae|g__Bacteroides|s__Bacteroides_sp_2_2_4|t__GCF_000157055  \\\n38                                                0.0                                                                                       \n39                                                0.0                                                                                       \n40                                                0.0                                                                                       \n41                                                0.0                                                                                       \n42                                                0.0                                                                                       \n\n   k__Bacteria|p__Firmicutes|c__Bacilli|o__Bacillales|f__Bacillaceae|g__Lysinibacillus|s__Lysinibacillus_fusiformis  \\\n38                                                0.0                                                                 \n39                                                0.0                                                                 \n40                                                0.0                                                                 \n41                                                0.0                                                                 \n42                                                0.0                                                                 \n\n   k__Bacteria|p__Firmicutes|c__Bacilli|o__Bacillales|f__Bacillaceae|g__Lysinibacillus|s__Lysinibacillus_fusiformis|t__Lysinibacillus_fusiformis_unclassified  \\\n38                                                0.0                                                                                                           \n39                                                0.0                                                                                                           \n40                                                0.0                                                                                                           \n41                                                0.0                                                                                                           \n42                                                0.0                                                                                                           \n\n   k__Bacteria|p__Firmicutes|c__Bacilli|o__Bacillales|f__Bacillaceae|g__Lysinibacillus|s__Lysinibacillus_sphaericus  \\\n38                                                0.0                                                                 \n39                                                0.0                                                                 \n40                                                0.0                                                                 \n41                                                0.0                                                                 \n42                                                0.0                                                                 \n\n   k__Bacteria|p__Firmicutes|c__Bacilli|o__Bacillales|f__Bacillaceae|g__Lysinibacillus|s__Lysinibacillus_sphaericus|t__Lysinibacillus_sphaericus_unclassified  \n38                                                0.0                                                                                                          \n39                                                0.0                                                                                                          \n40                                                0.0                                                                                                          \n41                                                0.0                                                                                                          \n42                                                0.0                                                                                                          \n\n[5 rows x 1769 columns]",
      "text/html": "<div>\n<style scoped>\n    .dataframe tbody tr th:only-of-type {\n        vertical-align: middle;\n    }\n\n    .dataframe tbody tr th {\n        vertical-align: top;\n    }\n\n    .dataframe thead th {\n        text-align: right;\n    }\n</style>\n<table border=\"1\" class=\"dataframe\">\n  <thead>\n    <tr style=\"text-align: right;\">\n      <th></th>\n      <th>dataset_name</th>\n      <th>sampleID</th>\n      <th>disease</th>\n      <th>age</th>\n      <th>gender</th>\n      <th>country</th>\n      <th>paired_end_insert_size</th>\n      <th>read_length</th>\n      <th>total_reads</th>\n      <th>matched_reads</th>\n      <th>...</th>\n      <th>k__Bacteria|p__Planctomycetes|c__Planctomycetia|o__Planctomycetales|f__Planctomycetaceae|g__Rhodopirellula</th>\n      <th>k__Bacteria|p__Planctomycetes|c__Planctomycetia|o__Planctomycetales|f__Planctomycetaceae|g__Rhodopirellula|s__Rhodopirellula_unclassified</th>\n      <th>k__Bacteria|p__Proteobacteria|c__Gammaproteobacteria|o__Vibrionales|f__Vibrionaceae|g__Vibrio|s__Vibrio_furnissii</th>\n      <th>k__Bacteria|p__Proteobacteria|c__Gammaproteobacteria|o__Vibrionales|f__Vibrionaceae|g__Vibrio|s__Vibrio_furnissii|t__Vibrio_furnissii_unclassified</th>\n      <th>k__Bacteria|p__Bacteroidetes|c__Bacteroidia|o__Bacteroidales|f__Bacteroidaceae|g__Bacteroides|s__Bacteroides_sp_2_2_4</th>\n      <th>k__Bacteria|p__Bacteroidetes|c__Bacteroidia|o__Bacteroidales|f__Bacteroidaceae|g__Bacteroides|s__Bacteroides_sp_2_2_4|t__GCF_000157055</th>\n      <th>k__Bacteria|p__Firmicutes|c__Bacilli|o__Bacillales|f__Bacillaceae|g__Lysinibacillus|s__Lysinibacillus_fusiformis</th>\n      <th>k__Bacteria|p__Firmicutes|c__Bacilli|o__Bacillales|f__Bacillaceae|g__Lysinibacillus|s__Lysinibacillus_fusiformis|t__Lysinibacillus_fusiformis_unclassified</th>\n      <th>k__Bacteria|p__Firmicutes|c__Bacilli|o__Bacillales|f__Bacillaceae|g__Lysinibacillus|s__Lysinibacillus_sphaericus</th>\n      <th>k__Bacteria|p__Firmicutes|c__Bacilli|o__Bacillales|f__Bacillaceae|g__Lysinibacillus|s__Lysinibacillus_sphaericus|t__Lysinibacillus_sphaericus_unclassified</th>\n    </tr>\n  </thead>\n  <tbody>\n    <tr>\n      <th>38</th>\n      <td>Chatelier_gut_obesity</td>\n      <td>MH0002</td>\n      <td>n</td>\n      <td>NaN</td>\n      <td>NaN</td>\n      <td>denmark</td>\n      <td>139/370</td>\n      <td>75</td>\n      <td>46564054</td>\n      <td>28295708</td>\n      <td>...</td>\n      <td>0.0</td>\n      <td>0.0</td>\n      <td>0.0</td>\n      <td>0.0</td>\n      <td>0.0</td>\n      <td>0.0</td>\n      <td>0.0</td>\n      <td>0.0</td>\n      <td>0.0</td>\n      <td>0.0</td>\n    </tr>\n    <tr>\n      <th>39</th>\n      <td>Chatelier_gut_obesity</td>\n      <td>MH0003</td>\n      <td>obesity</td>\n      <td>NaN</td>\n      <td>NaN</td>\n      <td>denmark</td>\n      <td>143/357</td>\n      <td>75</td>\n      <td>50381662</td>\n      <td>31800850</td>\n      <td>...</td>\n      <td>0.0</td>\n      <td>0.0</td>\n      <td>0.0</td>\n      <td>0.0</td>\n      <td>0.0</td>\n      <td>0.0</td>\n      <td>0.0</td>\n      <td>0.0</td>\n      <td>0.0</td>\n      <td>0.0</td>\n    </tr>\n    <tr>\n      <th>40</th>\n      <td>Chatelier_gut_obesity</td>\n      <td>MH0006</td>\n      <td>leaness</td>\n      <td>NaN</td>\n      <td>NaN</td>\n      <td>denmark</td>\n      <td>233</td>\n      <td>44/75</td>\n      <td>161145974</td>\n      <td>112203684</td>\n      <td>...</td>\n      <td>0.0</td>\n      <td>0.0</td>\n      <td>0.0</td>\n      <td>0.0</td>\n      <td>0.0</td>\n      <td>0.0</td>\n      <td>0.0</td>\n      <td>0.0</td>\n      <td>0.0</td>\n      <td>0.0</td>\n    </tr>\n    <tr>\n      <th>41</th>\n      <td>Chatelier_gut_obesity</td>\n      <td>MH0009</td>\n      <td>n</td>\n      <td>NaN</td>\n      <td>NaN</td>\n      <td>denmark</td>\n      <td>146/373</td>\n      <td>75</td>\n      <td>58446132</td>\n      <td>34215593</td>\n      <td>...</td>\n      <td>0.0</td>\n      <td>0.0</td>\n      <td>0.0</td>\n      <td>0.0</td>\n      <td>0.0</td>\n      <td>0.0</td>\n      <td>0.0</td>\n      <td>0.0</td>\n      <td>0.0</td>\n      <td>0.0</td>\n    </tr>\n    <tr>\n      <th>42</th>\n      <td>Chatelier_gut_obesity</td>\n      <td>MH0011</td>\n      <td>leaness</td>\n      <td>NaN</td>\n      <td>NaN</td>\n      <td>denmark</td>\n      <td>146/368</td>\n      <td>75</td>\n      <td>58492736</td>\n      <td>34218208</td>\n      <td>...</td>\n      <td>0.0</td>\n      <td>0.0</td>\n      <td>0.0</td>\n      <td>0.0</td>\n      <td>0.0</td>\n      <td>0.0</td>\n      <td>0.0</td>\n      <td>0.0</td>\n      <td>0.0</td>\n      <td>0.0</td>\n    </tr>\n  </tbody>\n</table>\n<p>5 rows × 1769 columns</p>\n</div>"
     },
     "execution_count": 185,
     "metadata": {},
     "output_type": "execute_result"
    }
   ],
   "source": [
    "# merge the metadata and species data together after filtering out uninformative variables\n",
    "disease_short = disease_metadata_short.join(disease_species_short)\n",
    "disease_short.head()"
   ],
   "metadata": {
    "collapsed": false,
    "pycharm": {
     "name": "#%%\n"
    }
   }
  },
  {
   "cell_type": "code",
   "execution_count": 186,
   "outputs": [
    {
     "data": {
      "text/plain": "(786, 1769)"
     },
     "execution_count": 186,
     "metadata": {},
     "output_type": "execute_result"
    }
   ],
   "source": [
    "#all of the continuous and discrete variables in the metadata\n",
    "num_var = ['age','bmi','height','weight','fbg','sbp','dbp','fins','fcp','hbalc','tg',\n",
    "        'tcho','hdl','ldl','whr','wc','cholesterol','triglycerides','creatinine',\n",
    "         'y-gt','fasting_glucose','fasting_insulin','hba1c','hscrp','c-peptide','tnfa',\n",
    "         'il-1','cd163','years_in_sweden','glp-1','fgf-19','leptin','adiponectin',\n",
    "         'gad-antibodies']\n",
    "#converts all of the continuous and discrete variables to numeric\n",
    "disease_short.loc[:, num_var] = disease_short.loc[:, num_var].apply(pd.to_numeric,\n",
    "                                                                  errors='coerce', axis=1)\n",
    "disease_short.shape"
   ],
   "metadata": {
    "collapsed": false,
    "pycharm": {
     "name": "#%%\n"
    }
   }
  },
  {
   "cell_type": "code",
   "execution_count": 187,
   "outputs": [],
   "source": [
    "# replaces the missing values in cholesterol with tcho values\n",
    "# tcho and cholesterol are from WT2D and T2Dmeta respectively and they both represent\n",
    "# total cholesterol\n",
    "s = disease_short['sampleID'].map(disease_short.set_index('sampleID')['tcho'])\n",
    "disease_short['cholesterol'] = disease_short['cholesterol'].mask(disease_short['cholesterol'].isnull(), s)"
   ],
   "metadata": {
    "collapsed": false,
    "pycharm": {
     "name": "#%%\n"
    }
   }
  },
  {
   "cell_type": "code",
   "execution_count": 188,
   "outputs": [],
   "source": [
    "# replaces the missing values in fasting_glucose with fbg values\n",
    "# fasting_glucose and fbg are from WT2D and T2Dmeta respectively and they both represent\n",
    "# fasting blood glucose\n",
    "s = disease_short['sampleID'].map(disease_short.set_index('sampleID')['fbg'])\n",
    "disease_short['fasting_glucose'] = disease_short['fasting_glucose'].mask(disease_short['fasting_glucose'].isnull(), s)"
   ],
   "metadata": {
    "collapsed": false,
    "pycharm": {
     "name": "#%%\n"
    }
   }
  },
  {
   "cell_type": "code",
   "execution_count": 189,
   "outputs": [],
   "source": [
    "# replaces the missing values in triglycerides with tg values\n",
    "# triglycerides and tg are from WT2D and T2Dmeta respectively and they both represent\n",
    "# Triglyceride levels\n",
    "s = disease_short['sampleID'].map(disease_short.set_index('sampleID')['tg'])\n",
    "disease_short['triglycerides'] = disease_short['triglycerides'].mask(disease_short['triglycerides'].isnull(), s)"
   ],
   "metadata": {
    "collapsed": false,
    "pycharm": {
     "name": "#%%\n"
    }
   }
  },
  {
   "cell_type": "code",
   "execution_count": 190,
   "outputs": [
    {
     "data": {
      "text/plain": "(786, 1769)"
     },
     "execution_count": 190,
     "metadata": {},
     "output_type": "execute_result"
    }
   ],
   "source": [
    "# replaces the missing values in fasting_insulin with fins values\n",
    "# fasting_insulin and fins (Fasting Insulin Serum) are from WT2D and T2Dmeta respectively and they both represent\n",
    "# fasting insulin serum\n",
    "s = disease_short['sampleID'].map(disease_short.set_index('sampleID')['fins'])\n",
    "disease_short['fasting_insulin'] = disease_short['fasting_insulin'].mask(disease_short['fasting_insulin'].isnull(), s)\n",
    "disease_short.shape"
   ],
   "metadata": {
    "collapsed": false,
    "pycharm": {
     "name": "#%%\n"
    }
   }
  },
  {
   "cell_type": "code",
   "execution_count": 191,
   "outputs": [],
   "source": [
    "#gender is not recorded for the WT2D data b/c it was a study conducted on only women.\n",
    "#replace all nas with female in WT2D\n",
    "mask1 = (disease_short.dataset_name == \"WT2D\") & (disease_short.gender.isna())\n",
    "disease_short.loc[mask1, 'gender'] = 'female'"
   ],
   "metadata": {
    "collapsed": false,
    "pycharm": {
     "name": "#%%\n"
    }
   }
  },
  {
   "cell_type": "code",
   "execution_count": 192,
   "outputs": [
    {
     "data": {
      "text/plain": "(786, 1765)"
     },
     "execution_count": 192,
     "metadata": {},
     "output_type": "execute_result"
    }
   ],
   "source": [
    "redundant = ['tcho','fbg','fins','tg']\n",
    "disease_short = disease_short.drop(columns=redundant)\n",
    "disease_short.shape"
   ],
   "metadata": {
    "collapsed": false,
    "pycharm": {
     "name": "#%%\n"
    }
   }
  },
  {
   "cell_type": "code",
   "execution_count": 201,
   "outputs": [
    {
     "data": {
      "text/plain": "<AxesSubplot:ylabel='dataset_name'>"
     },
     "execution_count": 201,
     "metadata": {},
     "output_type": "execute_result"
    },
    {
     "data": {
      "text/plain": "<Figure size 432x288 with 1 Axes>",
      "image/png": "[encoded data removed]"
     },
     "metadata": {},
     "output_type": "display_data"
    }
   ],
   "source": [
    "# disease_short = disease_short.replace(['n','impaired_glucose_tolerance',\"t2d\"],\n",
    "#                                       ['No Disease','Pre-Diabetes',\"Type 2 Diabetes\"])\n",
    "disease_short = disease_short.replace(['n','impaired_glucose_tolerance',\"t2d\", \"leaness\"],\n",
    "                                      ['No Disease','Diabetes',\"Diabetes\", \"No Disease\"])\n",
    "disease_short = disease_short[disease_short['disease'].notna()]\n",
    "disease_short.groupby('dataset_name')['disease'].value_counts().unstack().plot.barh()"
   ],
   "metadata": {
    "collapsed": false,
    "pycharm": {
     "name": "#%%\n"
    }
   }
  },
  {
   "cell_type": "code",
   "execution_count": 202,
   "outputs": [],
   "source": [
    "## get summary statistics so that infrequent columns can be removed\n",
    "summary = disease_short.mask(disease_short == 0).describe()\n",
    "summary.reset_index(inplace=True)\n",
    "summary = summary.transpose()\n",
    "summary.reset_index(inplace=True)\n",
    "summary.columns = summary.iloc[0]\n",
    "summary.drop([0], inplace=True)\n",
    "summary.sort_values(by='count', inplace=True, ascending=False)\n",
    "summary.reset_index(inplace=True, drop=True)\n",
    "summary['count'] = summary['count'].astype('int')\n",
    "summary['column_name'] = summary['index'].astype('str')"
   ],
   "metadata": {
    "collapsed": false,
    "pycharm": {
     "name": "#%%\n"
    }
   }
  },
  {
   "cell_type": "code",
   "execution_count": 203,
   "outputs": [
    {
     "data": {
      "text/plain": "Text(0.5, 0, 'Column Number')"
     },
     "execution_count": 203,
     "metadata": {},
     "output_type": "execute_result"
    },
    {
     "data": {
      "text/plain": "<Figure size 432x288 with 1 Axes>",
      "image/png": "[encoded data removed]"
     },
     "metadata": {},
     "output_type": "display_data"
    }
   ],
   "source": [
    "## count can be a knob (30-100) -> columns(800-500)\n",
    "sns.lineplot(x=summary.index, y=\"count\", data=summary)\n",
    "plt.xlabel(\"Column Number\")"
   ],
   "metadata": {
    "collapsed": false,
    "pycharm": {
     "name": "#%%\n"
    }
   }
  },
  {
   "cell_type": "code",
   "execution_count": 204,
   "outputs": [
    {
     "data": {
      "text/plain": "(767, 1765)"
     },
     "execution_count": 204,
     "metadata": {},
     "output_type": "execute_result"
    }
   ],
   "source": [
    "## Remove columns by setting a threshold\n",
    "threshold_count = 0\n",
    "filter_columns = summary.loc[summary['count'] < threshold_count, 'column_name']\n",
    "disease_filtered = disease_short.drop(columns=filter_columns)\n",
    "disease_filtered.shape"
   ],
   "metadata": {
    "collapsed": false,
    "pycharm": {
     "name": "#%%\n"
    }
   }
  },
  {
   "cell_type": "code",
   "execution_count": 205,
   "outputs": [
    {
     "data": {
      "text/plain": "(767, 1745)"
     },
     "execution_count": 205,
     "metadata": {},
     "output_type": "execute_result"
    }
   ],
   "source": [
    "## Filter numeric types\n",
    "numeric_columns = disease_filtered.select_dtypes(include=['number']).columns\n",
    "object_columns = disease_filtered.select_dtypes(include=['object']).columns\n",
    "cols = disease_filtered.columns\n",
    "assert (len(set(cols) - (set(numeric_columns.to_list() + object_columns.to_list()))) == 0)\n",
    "disease_numeric_df = disease_filtered.drop(columns=object_columns)\n",
    "metadata_df = disease_filtered.loc[:, ['dataset_name', 'sampleID', 'disease', 'gender', 'country']]\n",
    "disease_numeric_df.shape"
   ],
   "metadata": {
    "collapsed": false,
    "pycharm": {
     "name": "#%%\n"
    }
   }
  },
  {
   "cell_type": "code",
   "execution_count": 206,
   "outputs": [],
   "source": [
    "disease_df = disease_numeric_df.copy(deep=True)\n",
    "disease_df = disease_df.fillna(disease_df.mean())"
   ],
   "metadata": {
    "collapsed": false,
    "pycharm": {
     "name": "#%%\n"
    }
   }
  },
  {
   "cell_type": "code",
   "execution_count": 207,
   "outputs": [],
   "source": [
    "from time import time\n",
    "from sklearn import metrics\n",
    "from sklearn.pipeline import make_pipeline\n",
    "from sklearn.preprocessing import StandardScaler\n",
    "def bench_k_means(kmeans, name, data, labels):\n",
    "    \"\"\"Benchmark to evaluate the KMeans initialization methods.\n",
    "\n",
    "    Parameters\n",
    "    ----------\n",
    "    kmeans : KMeans instance\n",
    "        A :class:`~sklearn.cluster.KMeans` instance with the initialization\n",
    "        already set.\n",
    "    name : str\n",
    "        Name given to the strategy. It will be used to show the results in a\n",
    "        table.\n",
    "    data : ndarray of shape (n_samples, n_features)\n",
    "        The data to cluster.\n",
    "    labels : ndarray of shape (n_samples,)\n",
    "        The labels used to compute the clustering metrics which requires some\n",
    "        supervision.\n",
    "    \"\"\"\n",
    "    t0 = time()\n",
    "    estimator = make_pipeline(kmeans).fit(data)\n",
    "    fit_time = time() - t0\n",
    "    results = [name, fit_time]\n",
    "\n",
    "    # Define the metrics which require only the true labels and estimator\n",
    "    # labels\n",
    "    clustering_metrics = [\n",
    "        metrics.homogeneity_score,\n",
    "        metrics.completeness_score,\n",
    "        metrics.v_measure_score,\n",
    "        metrics.adjusted_rand_score,\n",
    "        metrics.adjusted_mutual_info_score,\n",
    "    ]\n",
    "    results += [m(labels, estimator[-1].labels_) for m in clustering_metrics]\n",
    "\n",
    "    # The silhouette score requires the full dataset\n",
    "    results += [\n",
    "        metrics.silhouette_score(data, estimator[-1].labels_,\n",
    "                                 metric=\"euclidean\", sample_size=300,)\n",
    "    ]\n",
    "\n",
    "    # Show the results\n",
    "    formatter_result = (\"{:9s}\\t{:.3f}s\\t{:.3f}\\t{:.3f}\"\n",
    "                        \"\\t{:.3f}\\t{:.3f}\\t{:.3f}\\t{:.3f}\")\n",
    "    print(formatter_result.format(*results))"
   ],
   "metadata": {
    "collapsed": false,
    "pycharm": {
     "name": "#%%\n"
    }
   }
  },
  {
   "cell_type": "code",
   "execution_count": 208,
   "outputs": [
    {
     "name": "stdout",
     "output_type": "stream",
     "text": [
      "__________________________________________________________________________________\n",
      "init\t\ttime\thomo\tcompl\tv-meas\tARI\tAMI\tsilhouette\n",
      "k-means++\t0.076s\t0.056\t0.072\t0.063\t0.025\t0.058\t0.223\n",
      "random   \t0.066s\t0.056\t0.072\t0.063\t0.025\t0.058\t0.245\n",
      "PCA-based\t0.034s\t0.036\t0.118\t0.055\t0.024\t0.047\t0.549\n",
      "LDA-based\t0.032s\t0.015\t0.113\t0.027\t0.010\t0.021\t0.636\n",
      "__________________________________________________________________________________\n"
     ]
    }
   ],
   "source": [
    "from sklearn.cluster import KMeans\n",
    "from sklearn.decomposition import PCA\n",
    "from sklearn.preprocessing import LabelEncoder\n",
    "from sklearn.discriminant_analysis import LinearDiscriminantAnalysis\n",
    "\n",
    "n_disease = np.unique(metadata_df['disease'].to_list()).size\n",
    "le = LabelEncoder()\n",
    "labels = le.fit_transform(metadata_df['disease'])\n",
    "\n",
    "print(82 * '_')\n",
    "print('init\\t\\ttime\\thomo\\tcompl\\tv-meas\\tARI\\tAMI\\tsilhouette')\n",
    "\n",
    "kmeans = KMeans(init=\"k-means++\", n_clusters=n_disease, n_init=4,\n",
    "                random_state=0)\n",
    "bench_k_means(kmeans=kmeans, name=\"k-means++\", data=disease_df, labels=labels)\n",
    "\n",
    "kmeans = KMeans(init=\"random\", n_clusters=n_disease, n_init=4, random_state=0)\n",
    "bench_k_means(kmeans=kmeans, name=\"random\", data=disease_df, labels=labels)\n",
    "\n",
    "pca = PCA(n_components=n_disease).fit(disease_df)\n",
    "kmeans = KMeans(init=pca.components_, n_clusters=n_disease, n_init=1)\n",
    "bench_k_means(kmeans=kmeans, name=\"PCA-based\", data=disease_df, labels=labels)\n",
    "\n",
    "lda = LinearDiscriminantAnalysis(n_components=n_disease-1).fit(disease_df, labels)\n",
    "kmeans = KMeans(init=lda.scalings_.T, n_clusters=n_disease-1, n_init=1)\n",
    "bench_k_means(kmeans=kmeans, name=\"LDA-based\", data=disease_df, labels=labels)\n",
    "\n",
    "\n",
    "print(82 * '_')"
   ],
   "metadata": {
    "collapsed": false,
    "pycharm": {
     "name": "#%%\n"
    }
   }
  },
  {
   "cell_type": "code",
   "execution_count": 211,
   "outputs": [
    {
     "name": "stdout",
     "output_type": "stream",
     "text": [
      "__________________________________________________________________________________\n",
      "init\t\t\ttime\thomo\tcompl\tv-meas\tARI\tAMI\tsilhouette\n",
      "Hierarchical Clustering\t0.397s\t0.053\t0.141\t0.077\t0.038\t0.071\t0.495\n",
      "__________________________________________________________________________________\n"
     ]
    }
   ],
   "source": [
    "from sklearn.cluster import AgglomerativeClustering\n",
    "from time import time\n",
    "from sklearn import metrics\n",
    "from sklearn.pipeline import make_pipeline\n",
    "from sklearn.preprocessing import StandardScaler\n",
    "\n",
    "def bench_agg_clus(model, name, data, labels):\n",
    "    \"\"\"Benchmark to evaluate the KMeans initialization methods.\n",
    "\n",
    "    Parameters\n",
    "    ----------\n",
    "    model : Agglomerative Clustering instance\n",
    "        A :class:`~sklearn.cluster.KMeans` instance with the initialization\n",
    "        already set.\n",
    "    name : str\n",
    "        Name given to the strategy. It will be used to show the results in a\n",
    "        table.\n",
    "    data : ndarray of shape (n_samples, n_features)\n",
    "        The data to cluster.\n",
    "    labels : ndarray of shape (n_samples,)\n",
    "        The labels used to compute the clustering metrics which requires some\n",
    "        supervision.\n",
    "    \"\"\"\n",
    "    t0 = time()\n",
    "    estimator = make_pipeline(model).fit(data)\n",
    "    fit_time = time() - t0\n",
    "    results = [name, fit_time]\n",
    "\n",
    "    # Define the metrics which require only the true labels and estimator\n",
    "    # labels\n",
    "    clustering_metrics = [\n",
    "        metrics.homogeneity_score,\n",
    "        metrics.completeness_score,\n",
    "        metrics.v_measure_score,\n",
    "        metrics.adjusted_rand_score,\n",
    "        metrics.adjusted_mutual_info_score,\n",
    "    ]\n",
    "    results += [m(labels, estimator[-1].labels_) for m in clustering_metrics]\n",
    "\n",
    "    # The silhouette score requires the full dataset\n",
    "    results += [\n",
    "        metrics.silhouette_score(data, estimator[-1].labels_,\n",
    "                                 metric=\"euclidean\", sample_size=300,)\n",
    "    ]\n",
    "\n",
    "    # Show the results\n",
    "    formatter_result = (\"{:9s}\\t{:.3f}s\\t{:.3f}\\t{:.3f}\"\n",
    "                        \"\\t{:.3f}\\t{:.3f}\\t{:.3f}\\t{:.3f}\")\n",
    "    print(formatter_result.format(*results))\n",
    "\n",
    "print(82 * '_')\n",
    "print('init\\t\\t\\ttime\\thomo\\tcompl\\tv-meas\\tARI\\tAMI\\tsilhouette')\n",
    "agg_clustering = AgglomerativeClustering(n_clusters=n_disease)\n",
    "bench_agg_clus(model=agg_clustering, name=\"Hierarchical Clustering\",\n",
    "                            data=disease_df, labels=labels)\n",
    "print(82 * '_')\n"
   ],
   "metadata": {
    "collapsed": false,
    "pycharm": {
     "name": "#%%\n"
    }
   }
  },
  {
   "cell_type": "code",
   "execution_count": 212,
   "outputs": [
    {
     "data": {
      "text/plain": "<Figure size 432x288 with 1 Axes>",
      "image/png": "[encoded data removed]"
     },
     "metadata": {},
     "output_type": "display_data"
    }
   ],
   "source": [
    "from scipy.cluster.hierarchy import dendrogram\n",
    "\n",
    "def plot_dendrogram(model, **kwargs):\n",
    "    # Create linkage matrix and then plot the dendrogram\n",
    "\n",
    "    # create the counts of samples under each node\n",
    "    counts = np.zeros(model.children_.shape[0])\n",
    "    n_samples = len(model.labels_)\n",
    "    for i, merge in enumerate(model.children_):\n",
    "        current_count = 0\n",
    "        for child_idx in merge:\n",
    "            if child_idx < n_samples:\n",
    "                current_count += 1  # leaf node\n",
    "            else:\n",
    "                current_count += counts[child_idx - n_samples]\n",
    "        counts[i] = current_count\n",
    "\n",
    "    linkage_matrix = np.column_stack([model.children_, model.distances_,\n",
    "                                      counts]).astype(float)\n",
    "\n",
    "    # Plot the corresponding dendrogram\n",
    "    dendrogram(linkage_matrix, **kwargs)\n",
    "\n",
    "plt.title('Hierarchical Clustering Dendrogram')\n",
    "# plot the top three levels of the dendrogram\n",
    "agg_clustering = AgglomerativeClustering(n_clusters=None, distance_threshold=0).fit(disease_df)\n",
    "plot_dendrogram(agg_clustering, truncate_mode='level', p=3)\n",
    "plt.xlabel(\"Number of points in node (or index of point if no parenthesis).\")\n",
    "plt.show()"
   ],
   "metadata": {
    "collapsed": false,
    "pycharm": {
     "name": "#%%\n"
    }
   }
  },
  {
   "cell_type": "code",
   "execution_count": null,
   "outputs": [],
   "source": [],
   "metadata": {
    "collapsed": false,
    "pycharm": {
     "name": "#%%\n"
    }
   }
  }
 ],
 "metadata": {
  "kernelspec": {
   "display_name": "Python 3",
   "language": "python",
   "name": "python3"
  },
  "language_info": {
   "codemirror_mode": {
    "name": "ipython",
    "version": 2
   },
   "file_extension": ".py",
   "mimetype": "text/x-python",
   "name": "python",
   "nbconvert_exporter": "python",
   "pygments_lexer": "ipython2",
   "version": "2.7.6"
  }
 },
 "nbformat": 4,
 "nbformat_minor": 0
}