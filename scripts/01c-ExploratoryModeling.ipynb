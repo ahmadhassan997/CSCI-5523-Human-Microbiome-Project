{
 "cells": [
  {
   "cell_type": "markdown",
   "source": [
    "### Import Libraries and Data\n"
   ],
   "metadata": {
    "collapsed": false
   }
  },
  {
   "cell_type": "code",
   "execution_count": 19,
   "outputs": [
    {
     "name": "stdout",
     "output_type": "stream",
     "text": [
      "Dataset size: (3610, 3513)\n"
     ]
    },
    {
     "name": "stderr",
     "output_type": "stream",
     "text": [
      "c:\\users\\ahmad\\myenvs\\python3-9-env\\lib\\site-packages\\IPython\\core\\interactiveshell.py:3165: DtypeWarning: Columns (2,5,9,20,26,42,47,51,52,59,61,68,76,77,78,79) have mixed types.Specify dtype option on import or set low_memory=False.\n",
      "  has_raised = await self.run_ast_nodes(code_ast.body, cell_name,\n"
     ]
    },
    {
     "data": {
      "text/plain": "     dataset_name sampleID subjectID bodysite disease age  gender   country  \\\n0  Candela_Africa      H10       h10    stool       n  40  female  tanzania   \n1  Candela_Africa      H11       h11    stool       n  29  female  tanzania   \n2  Candela_Africa      H12       h12    stool       n   8  female  tanzania   \n3  Candela_Africa      H13       h13    stool       n  34    male  tanzania   \n4  Candela_Africa      H14       h14    stool       n  30    male  tanzania   \n\n  sequencing_technology  pubmedid  ...  \\\n0              Illumina  25981789  ...   \n1              Illumina  25981789  ...   \n2              Illumina  25981789  ...   \n3              Illumina  25981789  ...   \n4              Illumina  25981789  ...   \n\n  k__Bacteria|p__Firmicutes|c__Bacilli|o__Lactobacillales|f__Enterococcaceae|g__Enterococcus|s__Enterococcus_gilvus|t__Enterococcus_gilvus_unclassified  \\\n0                                                0.0                                                                                                      \n1                                                0.0                                                                                                      \n2                                                0.0                                                                                                      \n3                                                0.0                                                                                                      \n4                                                0.0                                                                                                      \n\n  k__Bacteria|p__Firmicutes|c__Bacilli|o__Lactobacillales|f__Lactobacillaceae|g__Lactobacillus|s__Lactobacillus_otakiensis  \\\n0                                                0.0                                                                         \n1                                                0.0                                                                         \n2                                                0.0                                                                         \n3                                                0.0                                                                         \n4                                                0.0                                                                         \n\n  k__Bacteria|p__Firmicutes|c__Bacilli|o__Lactobacillales|f__Lactobacillaceae|g__Lactobacillus|s__Lactobacillus_otakiensis|t__GCF_000415925  \\\n0                                                0.0                                                                                          \n1                                                0.0                                                                                          \n2                                                0.0                                                                                          \n3                                                0.0                                                                                          \n4                                                0.0                                                                                          \n\n  k__Bacteria|p__Firmicutes|c__Clostridia|o__Clostridiales|f__Peptococcaceae  \\\n0                                                0.0                           \n1                                                0.0                           \n2                                                0.0                           \n3                                                0.0                           \n4                                                0.0                           \n\n  k__Bacteria|p__Firmicutes|c__Clostridia|o__Clostridiales|f__Peptococcaceae|g__Desulfotomaculum  \\\n0                                                0.0                                               \n1                                                0.0                                               \n2                                                0.0                                               \n3                                                0.0                                               \n4                                                0.0                                               \n\n  k__Bacteria|p__Firmicutes|c__Clostridia|o__Clostridiales|f__Peptococcaceae|g__Desulfotomaculum|s__Desulfotomaculum_ruminis  \\\n0                                                0.0                                                                           \n1                                                0.0                                                                           \n2                                                0.0                                                                           \n3                                                0.0                                                                           \n4                                                0.0                                                                           \n\n  k__Bacteria|p__Firmicutes|c__Clostridia|o__Clostridiales|f__Peptococcaceae|g__Desulfotomaculum|s__Desulfotomaculum_ruminis|t__GCF_000215085  \\\n0                                                0.0                                                                                            \n1                                                0.0                                                                                            \n2                                                0.0                                                                                            \n3                                                0.0                                                                                            \n4                                                0.0                                                                                            \n\n  k__Bacteria|p__Firmicutes|c__Clostridia|o__Clostridiales|f__Ruminococcaceae|g__Faecalibacterium|s__Faecalibacterium_prausnitzii|t__GCF_000209855  \\\n0                                                0.0                                                                                                 \n1                                                0.0                                                                                                 \n2                                                0.0                                                                                                 \n3                                                0.0                                                                                                 \n4                                                0.0                                                                                                 \n\n  k__Bacteria|p__Firmicutes|c__Negativicutes|o__Selenomonadales|f__Veillonellaceae|g__Megasphaera|s__Megasphaera_sp_BV3C16_1  \\\n0                                                0.0                                                                           \n1                                                0.0                                                                           \n2                                                0.0                                                                           \n3                                                0.0                                                                           \n4                                                0.0                                                                           \n\n  k__Bacteria|p__Firmicutes|c__Negativicutes|o__Selenomonadales|f__Veillonellaceae|g__Megasphaera|s__Megasphaera_sp_BV3C16_1|t__GCF_000478965  \n0                                                0.0                                                                                           \n1                                                0.0                                                                                           \n2                                                0.0                                                                                           \n3                                                0.0                                                                                           \n4                                                0.0                                                                                           \n\n[5 rows x 3513 columns]",
      "text/html": "<div>\n<style scoped>\n    .dataframe tbody tr th:only-of-type {\n        vertical-align: middle;\n    }\n\n    .dataframe tbody tr th {\n        vertical-align: top;\n    }\n\n    .dataframe thead th {\n        text-align: right;\n    }\n</style>\n<table border=\"1\" class=\"dataframe\">\n  <thead>\n    <tr style=\"text-align: right;\">\n      <th></th>\n      <th>dataset_name</th>\n      <th>sampleID</th>\n      <th>subjectID</th>\n      <th>bodysite</th>\n      <th>disease</th>\n      <th>age</th>\n      <th>gender</th>\n      <th>country</th>\n      <th>sequencing_technology</th>\n      <th>pubmedid</th>\n      <th>...</th>\n      <th>k__Bacteria|p__Firmicutes|c__Bacilli|o__Lactobacillales|f__Enterococcaceae|g__Enterococcus|s__Enterococcus_gilvus|t__Enterococcus_gilvus_unclassified</th>\n      <th>k__Bacteria|p__Firmicutes|c__Bacilli|o__Lactobacillales|f__Lactobacillaceae|g__Lactobacillus|s__Lactobacillus_otakiensis</th>\n      <th>k__Bacteria|p__Firmicutes|c__Bacilli|o__Lactobacillales|f__Lactobacillaceae|g__Lactobacillus|s__Lactobacillus_otakiensis|t__GCF_000415925</th>\n      <th>k__Bacteria|p__Firmicutes|c__Clostridia|o__Clostridiales|f__Peptococcaceae</th>\n      <th>k__Bacteria|p__Firmicutes|c__Clostridia|o__Clostridiales|f__Peptococcaceae|g__Desulfotomaculum</th>\n      <th>k__Bacteria|p__Firmicutes|c__Clostridia|o__Clostridiales|f__Peptococcaceae|g__Desulfotomaculum|s__Desulfotomaculum_ruminis</th>\n      <th>k__Bacteria|p__Firmicutes|c__Clostridia|o__Clostridiales|f__Peptococcaceae|g__Desulfotomaculum|s__Desulfotomaculum_ruminis|t__GCF_000215085</th>\n      <th>k__Bacteria|p__Firmicutes|c__Clostridia|o__Clostridiales|f__Ruminococcaceae|g__Faecalibacterium|s__Faecalibacterium_prausnitzii|t__GCF_000209855</th>\n      <th>k__Bacteria|p__Firmicutes|c__Negativicutes|o__Selenomonadales|f__Veillonellaceae|g__Megasphaera|s__Megasphaera_sp_BV3C16_1</th>\n      <th>k__Bacteria|p__Firmicutes|c__Negativicutes|o__Selenomonadales|f__Veillonellaceae|g__Megasphaera|s__Megasphaera_sp_BV3C16_1|t__GCF_000478965</th>\n    </tr>\n  </thead>\n  <tbody>\n    <tr>\n      <th>0</th>\n      <td>Candela_Africa</td>\n      <td>H10</td>\n      <td>h10</td>\n      <td>stool</td>\n      <td>n</td>\n      <td>40</td>\n      <td>female</td>\n      <td>tanzania</td>\n      <td>Illumina</td>\n      <td>25981789</td>\n      <td>...</td>\n      <td>0.0</td>\n      <td>0.0</td>\n      <td>0.0</td>\n      <td>0.0</td>\n      <td>0.0</td>\n      <td>0.0</td>\n      <td>0.0</td>\n      <td>0.0</td>\n      <td>0.0</td>\n      <td>0.0</td>\n    </tr>\n    <tr>\n      <th>1</th>\n      <td>Candela_Africa</td>\n      <td>H11</td>\n      <td>h11</td>\n      <td>stool</td>\n      <td>n</td>\n      <td>29</td>\n      <td>female</td>\n      <td>tanzania</td>\n      <td>Illumina</td>\n      <td>25981789</td>\n      <td>...</td>\n      <td>0.0</td>\n      <td>0.0</td>\n      <td>0.0</td>\n      <td>0.0</td>\n      <td>0.0</td>\n      <td>0.0</td>\n      <td>0.0</td>\n      <td>0.0</td>\n      <td>0.0</td>\n      <td>0.0</td>\n    </tr>\n    <tr>\n      <th>2</th>\n      <td>Candela_Africa</td>\n      <td>H12</td>\n      <td>h12</td>\n      <td>stool</td>\n      <td>n</td>\n      <td>8</td>\n      <td>female</td>\n      <td>tanzania</td>\n      <td>Illumina</td>\n      <td>25981789</td>\n      <td>...</td>\n      <td>0.0</td>\n      <td>0.0</td>\n      <td>0.0</td>\n      <td>0.0</td>\n      <td>0.0</td>\n      <td>0.0</td>\n      <td>0.0</td>\n      <td>0.0</td>\n      <td>0.0</td>\n      <td>0.0</td>\n    </tr>\n    <tr>\n      <th>3</th>\n      <td>Candela_Africa</td>\n      <td>H13</td>\n      <td>h13</td>\n      <td>stool</td>\n      <td>n</td>\n      <td>34</td>\n      <td>male</td>\n      <td>tanzania</td>\n      <td>Illumina</td>\n      <td>25981789</td>\n      <td>...</td>\n      <td>0.0</td>\n      <td>0.0</td>\n      <td>0.0</td>\n      <td>0.0</td>\n      <td>0.0</td>\n      <td>0.0</td>\n      <td>0.0</td>\n      <td>0.0</td>\n      <td>0.0</td>\n      <td>0.0</td>\n    </tr>\n    <tr>\n      <th>4</th>\n      <td>Candela_Africa</td>\n      <td>H14</td>\n      <td>h14</td>\n      <td>stool</td>\n      <td>n</td>\n      <td>30</td>\n      <td>male</td>\n      <td>tanzania</td>\n      <td>Illumina</td>\n      <td>25981789</td>\n      <td>...</td>\n      <td>0.0</td>\n      <td>0.0</td>\n      <td>0.0</td>\n      <td>0.0</td>\n      <td>0.0</td>\n      <td>0.0</td>\n      <td>0.0</td>\n      <td>0.0</td>\n      <td>0.0</td>\n      <td>0.0</td>\n    </tr>\n  </tbody>\n</table>\n<p>5 rows × 3513 columns</p>\n</div>"
     },
     "execution_count": 19,
     "metadata": {},
     "output_type": "execute_result"
    }
   ],
   "source": [
    "import numpy as np\n",
    "import pandas as pd\n",
    "import matplotlib.pyplot as plt\n",
    "import seaborn as sns\n",
    "\n",
    "import context\n",
    "from os import path\n",
    "\n",
    "from xgboost import XGBClassifier\n",
    "import xgboost as xgb\n",
    "\n",
    "import sklearn\n",
    "from sklearn import metrics\n",
    "from sklearn import preprocessing\n",
    "from sklearn.model_selection import StratifiedKFold\n",
    "from sklearn.model_selection import train_test_split\n",
    "from sklearn.metrics import f1_score, roc_auc_score, confusion_matrix, precision_recall_curve, auc, roc_curve, recall_score\n",
    "\n",
    "\n",
    "%matplotlib inline\n",
    "sns.set_theme(style=\"whitegrid\")\n",
    "\n",
    "abundance_df = pd.read_csv(path.join(context.proj_dir, 'data', 'abundance.csv'))\n",
    "print(\"Dataset size: {}\".format(abundance_df.shape))\n",
    "abundance_df.head()"
   ],
   "metadata": {
    "collapsed": false,
    "pycharm": {
     "name": "#%%\n"
    }
   }
  },
  {
   "cell_type": "markdown",
   "source": [
    "### Exploring/Cleaning Dataset"
   ],
   "metadata": {
    "collapsed": false
   }
  },
  {
   "cell_type": "code",
   "execution_count": 20,
   "outputs": [
    {
     "name": "stdout",
     "output_type": "stream",
     "text": [
      "(508, 3513)\n"
     ]
    },
    {
     "data": {
      "text/plain": "      dataset_name sampleID subjectID bodysite disease age  gender country  \\\n2951  t2dmeta_long  CON-001   con-001    stool       n  21  female   china   \n2952  t2dmeta_long  CON-002   con-002    stool       n  53  female   china   \n2953  t2dmeta_long  CON-003   con-003    stool       n  61  female   china   \n2954  t2dmeta_long  CON-004   con-004    stool       n  55  female   china   \n2955  t2dmeta_long  CON-005   con-005    stool       n  53  female   china   \n\n     sequencing_technology  pubmedid  ...  \\\n2951              Illumina  23023125  ...   \n2952              Illumina  23023125  ...   \n2953              Illumina  23023125  ...   \n2954              Illumina  23023125  ...   \n2955              Illumina  23023125  ...   \n\n      k__Bacteria|p__Firmicutes|c__Bacilli|o__Lactobacillales|f__Enterococcaceae|g__Enterococcus|s__Enterococcus_gilvus|t__Enterococcus_gilvus_unclassified  \\\n2951                                                0.0                                                                                                       \n2952                                                0.0                                                                                                       \n2953                                                0.0                                                                                                       \n2954                                                0.0                                                                                                       \n2955                                                0.0                                                                                                       \n\n      k__Bacteria|p__Firmicutes|c__Bacilli|o__Lactobacillales|f__Lactobacillaceae|g__Lactobacillus|s__Lactobacillus_otakiensis  \\\n2951                                                0.0                                                                          \n2952                                                0.0                                                                          \n2953                                                0.0                                                                          \n2954                                                0.0                                                                          \n2955                                                0.0                                                                          \n\n      k__Bacteria|p__Firmicutes|c__Bacilli|o__Lactobacillales|f__Lactobacillaceae|g__Lactobacillus|s__Lactobacillus_otakiensis|t__GCF_000415925  \\\n2951                                                0.0                                                                                           \n2952                                                0.0                                                                                           \n2953                                                0.0                                                                                           \n2954                                                0.0                                                                                           \n2955                                                0.0                                                                                           \n\n      k__Bacteria|p__Firmicutes|c__Clostridia|o__Clostridiales|f__Peptococcaceae  \\\n2951                                                0.0                            \n2952                                                0.0                            \n2953                                                0.0                            \n2954                                                0.0                            \n2955                                                0.0                            \n\n      k__Bacteria|p__Firmicutes|c__Clostridia|o__Clostridiales|f__Peptococcaceae|g__Desulfotomaculum  \\\n2951                                                0.0                                                \n2952                                                0.0                                                \n2953                                                0.0                                                \n2954                                                0.0                                                \n2955                                                0.0                                                \n\n      k__Bacteria|p__Firmicutes|c__Clostridia|o__Clostridiales|f__Peptococcaceae|g__Desulfotomaculum|s__Desulfotomaculum_ruminis  \\\n2951                                                0.0                                                                            \n2952                                                0.0                                                                            \n2953                                                0.0                                                                            \n2954                                                0.0                                                                            \n2955                                                0.0                                                                            \n\n      k__Bacteria|p__Firmicutes|c__Clostridia|o__Clostridiales|f__Peptococcaceae|g__Desulfotomaculum|s__Desulfotomaculum_ruminis|t__GCF_000215085  \\\n2951                                                0.0                                                                                             \n2952                                                0.0                                                                                             \n2953                                                0.0                                                                                             \n2954                                                0.0                                                                                             \n2955                                                0.0                                                                                             \n\n      k__Bacteria|p__Firmicutes|c__Clostridia|o__Clostridiales|f__Ruminococcaceae|g__Faecalibacterium|s__Faecalibacterium_prausnitzii|t__GCF_000209855  \\\n2951                                                0.0                                                                                                  \n2952                                                0.0                                                                                                  \n2953                                                0.0                                                                                                  \n2954                                                0.0                                                                                                  \n2955                                                0.0                                                                                                  \n\n      k__Bacteria|p__Firmicutes|c__Negativicutes|o__Selenomonadales|f__Veillonellaceae|g__Megasphaera|s__Megasphaera_sp_BV3C16_1  \\\n2951                                                0.0                                                                            \n2952                                                0.0                                                                            \n2953                                                0.0                                                                            \n2954                                                0.0                                                                            \n2955                                                0.0                                                                            \n\n      k__Bacteria|p__Firmicutes|c__Negativicutes|o__Selenomonadales|f__Veillonellaceae|g__Megasphaera|s__Megasphaera_sp_BV3C16_1|t__GCF_000478965  \n2951                                                0.0                                                                                            \n2952                                                0.0                                                                                            \n2953                                                0.0                                                                                            \n2954                                                0.0                                                                                            \n2955                                                0.0                                                                                            \n\n[5 rows x 3513 columns]",
      "text/html": "<div>\n<style scoped>\n    .dataframe tbody tr th:only-of-type {\n        vertical-align: middle;\n    }\n\n    .dataframe tbody tr th {\n        vertical-align: top;\n    }\n\n    .dataframe thead th {\n        text-align: right;\n    }\n</style>\n<table border=\"1\" class=\"dataframe\">\n  <thead>\n    <tr style=\"text-align: right;\">\n      <th></th>\n      <th>dataset_name</th>\n      <th>sampleID</th>\n      <th>subjectID</th>\n      <th>bodysite</th>\n      <th>disease</th>\n      <th>age</th>\n      <th>gender</th>\n      <th>country</th>\n      <th>sequencing_technology</th>\n      <th>pubmedid</th>\n      <th>...</th>\n      <th>k__Bacteria|p__Firmicutes|c__Bacilli|o__Lactobacillales|f__Enterococcaceae|g__Enterococcus|s__Enterococcus_gilvus|t__Enterococcus_gilvus_unclassified</th>\n      <th>k__Bacteria|p__Firmicutes|c__Bacilli|o__Lactobacillales|f__Lactobacillaceae|g__Lactobacillus|s__Lactobacillus_otakiensis</th>\n      <th>k__Bacteria|p__Firmicutes|c__Bacilli|o__Lactobacillales|f__Lactobacillaceae|g__Lactobacillus|s__Lactobacillus_otakiensis|t__GCF_000415925</th>\n      <th>k__Bacteria|p__Firmicutes|c__Clostridia|o__Clostridiales|f__Peptococcaceae</th>\n      <th>k__Bacteria|p__Firmicutes|c__Clostridia|o__Clostridiales|f__Peptococcaceae|g__Desulfotomaculum</th>\n      <th>k__Bacteria|p__Firmicutes|c__Clostridia|o__Clostridiales|f__Peptococcaceae|g__Desulfotomaculum|s__Desulfotomaculum_ruminis</th>\n      <th>k__Bacteria|p__Firmicutes|c__Clostridia|o__Clostridiales|f__Peptococcaceae|g__Desulfotomaculum|s__Desulfotomaculum_ruminis|t__GCF_000215085</th>\n      <th>k__Bacteria|p__Firmicutes|c__Clostridia|o__Clostridiales|f__Ruminococcaceae|g__Faecalibacterium|s__Faecalibacterium_prausnitzii|t__GCF_000209855</th>\n      <th>k__Bacteria|p__Firmicutes|c__Negativicutes|o__Selenomonadales|f__Veillonellaceae|g__Megasphaera|s__Megasphaera_sp_BV3C16_1</th>\n      <th>k__Bacteria|p__Firmicutes|c__Negativicutes|o__Selenomonadales|f__Veillonellaceae|g__Megasphaera|s__Megasphaera_sp_BV3C16_1|t__GCF_000478965</th>\n    </tr>\n  </thead>\n  <tbody>\n    <tr>\n      <th>2951</th>\n      <td>t2dmeta_long</td>\n      <td>CON-001</td>\n      <td>con-001</td>\n      <td>stool</td>\n      <td>n</td>\n      <td>21</td>\n      <td>female</td>\n      <td>china</td>\n      <td>Illumina</td>\n      <td>23023125</td>\n      <td>...</td>\n      <td>0.0</td>\n      <td>0.0</td>\n      <td>0.0</td>\n      <td>0.0</td>\n      <td>0.0</td>\n      <td>0.0</td>\n      <td>0.0</td>\n      <td>0.0</td>\n      <td>0.0</td>\n      <td>0.0</td>\n    </tr>\n    <tr>\n      <th>2952</th>\n      <td>t2dmeta_long</td>\n      <td>CON-002</td>\n      <td>con-002</td>\n      <td>stool</td>\n      <td>n</td>\n      <td>53</td>\n      <td>female</td>\n      <td>china</td>\n      <td>Illumina</td>\n      <td>23023125</td>\n      <td>...</td>\n      <td>0.0</td>\n      <td>0.0</td>\n      <td>0.0</td>\n      <td>0.0</td>\n      <td>0.0</td>\n      <td>0.0</td>\n      <td>0.0</td>\n      <td>0.0</td>\n      <td>0.0</td>\n      <td>0.0</td>\n    </tr>\n    <tr>\n      <th>2953</th>\n      <td>t2dmeta_long</td>\n      <td>CON-003</td>\n      <td>con-003</td>\n      <td>stool</td>\n      <td>n</td>\n      <td>61</td>\n      <td>female</td>\n      <td>china</td>\n      <td>Illumina</td>\n      <td>23023125</td>\n      <td>...</td>\n      <td>0.0</td>\n      <td>0.0</td>\n      <td>0.0</td>\n      <td>0.0</td>\n      <td>0.0</td>\n      <td>0.0</td>\n      <td>0.0</td>\n      <td>0.0</td>\n      <td>0.0</td>\n      <td>0.0</td>\n    </tr>\n    <tr>\n      <th>2954</th>\n      <td>t2dmeta_long</td>\n      <td>CON-004</td>\n      <td>con-004</td>\n      <td>stool</td>\n      <td>n</td>\n      <td>55</td>\n      <td>female</td>\n      <td>china</td>\n      <td>Illumina</td>\n      <td>23023125</td>\n      <td>...</td>\n      <td>0.0</td>\n      <td>0.0</td>\n      <td>0.0</td>\n      <td>0.0</td>\n      <td>0.0</td>\n      <td>0.0</td>\n      <td>0.0</td>\n      <td>0.0</td>\n      <td>0.0</td>\n      <td>0.0</td>\n    </tr>\n    <tr>\n      <th>2955</th>\n      <td>t2dmeta_long</td>\n      <td>CON-005</td>\n      <td>con-005</td>\n      <td>stool</td>\n      <td>n</td>\n      <td>53</td>\n      <td>female</td>\n      <td>china</td>\n      <td>Illumina</td>\n      <td>23023125</td>\n      <td>...</td>\n      <td>0.0</td>\n      <td>0.0</td>\n      <td>0.0</td>\n      <td>0.0</td>\n      <td>0.0</td>\n      <td>0.0</td>\n      <td>0.0</td>\n      <td>0.0</td>\n      <td>0.0</td>\n      <td>0.0</td>\n    </tr>\n  </tbody>\n</table>\n<p>5 rows × 3513 columns</p>\n</div>"
     },
     "execution_count": 20,
     "metadata": {},
     "output_type": "execute_result"
    }
   ],
   "source": [
    "# lets work with diabetes only\n",
    "abundance_df = abundance_df.loc[(abundance_df.dataset_name=='WT2D') | (abundance_df.dataset_name=='t2dmeta_long')|\n",
    "                       (abundance_df.dataset_name=='t2dmeta_short'),:]\n",
    "\n",
    "# change missing values to nan\n",
    "abundance_df = abundance_df.replace('nd', np.nan).replace('na', np.nan).replace('-', np.nan).replace(' -', np.nan)\n",
    "print(abundance_df.shape)\n",
    "abundance_df.head()"
   ],
   "metadata": {
    "collapsed": false,
    "pycharm": {
     "name": "#%%\n"
    }
   }
  },
  {
   "cell_type": "code",
   "execution_count": 21,
   "outputs": [
    {
     "data": {
      "text/plain": "<Figure size 432x288 with 1 Axes>",
      "image/png": "[encoded data removed]"
     },
     "metadata": {},
     "output_type": "display_data"
    }
   ],
   "source": [
    "# unique datasets\n",
    "df = abundance_df['dataset_name'].value_counts().plot.bar()"
   ],
   "metadata": {
    "collapsed": false,
    "pycharm": {
     "name": "#%%\n"
    }
   }
  },
  {
   "cell_type": "code",
   "execution_count": 22,
   "outputs": [
    {
     "data": {
      "text/plain": "<AxesSubplot:ylabel='dataset_name'>"
     },
     "execution_count": 22,
     "metadata": {},
     "output_type": "execute_result"
    },
    {
     "data": {
      "text/plain": "<Figure size 432x288 with 1 Axes>",
      "image/png": "[encoded data removed]"
     },
     "metadata": {},
     "output_type": "display_data"
    }
   ],
   "source": [
    "# Unique diseases in all datasets\n",
    "abundance_df.groupby('dataset_name')['disease'].value_counts().unstack().plot.barh()"
   ],
   "metadata": {
    "collapsed": false,
    "pycharm": {
     "name": "#%%\n"
    }
   }
  },
  {
   "cell_type": "code",
   "execution_count": 23,
   "outputs": [
    {
     "name": "stdout",
     "output_type": "stream",
     "text": [
      "Disease Metadata: (508, 211)\n",
      "Disease Species: (508, 3302)\n"
     ]
    }
   ],
   "source": [
    "# divided the abundance data to metadata and species data\n",
    "split_index = abundance_df.columns.get_loc('k__Archaea')\n",
    "disease_metadata = abundance_df.iloc[:, 0:split_index]\n",
    "disease_species = abundance_df.iloc[:, split_index:]\n",
    "print(\"Disease Metadata: {}\".format(disease_metadata.shape))\n",
    "print(\"Disease Species: {}\".format(disease_species.shape))"
   ],
   "metadata": {
    "collapsed": false,
    "pycharm": {
     "name": "#%%\n"
    }
   }
  },
  {
   "cell_type": "code",
   "execution_count": 24,
   "outputs": [
    {
     "data": {
      "text/plain": "(508, 50)"
     },
     "execution_count": 24,
     "metadata": {},
     "output_type": "execute_result"
    }
   ],
   "source": [
    "# finding the columns with entry as na\n",
    "cols = (  disease_metadata.isna().sum()  !=  len(disease_metadata)  )\n",
    "# deleting the columns with every entry as na\n",
    "disease_metadata_short = disease_metadata[cols[cols].index]\n",
    "disease_metadata_short.shape"
   ],
   "metadata": {
    "collapsed": false,
    "pycharm": {
     "name": "#%%\n"
    }
   }
  },
  {
   "cell_type": "code",
   "execution_count": 25,
   "outputs": [
    {
     "data": {
      "text/plain": "(508, 43)"
     },
     "execution_count": 25,
     "metadata": {},
     "output_type": "execute_result"
    }
   ],
   "source": [
    "# get rid of more redundant and unnecessary variables in metadata\n",
    "unimportant =['subjectID', 'sequencing_technology', 'pubmedid','#SampleID',\n",
    "           'diabetic','bodysite','classification']\n",
    "disease_metadata_short = disease_metadata_short.drop(columns = unimportant)\n",
    "disease_metadata_short.shape"
   ],
   "metadata": {
    "collapsed": false,
    "pycharm": {
     "name": "#%%\n"
    }
   }
  },
  {
   "cell_type": "code",
   "execution_count": 26,
   "outputs": [
    {
     "data": {
      "text/plain": "(508, 1580)"
     },
     "execution_count": 26,
     "metadata": {},
     "output_type": "execute_result"
    }
   ],
   "source": [
    "# finding the columns with max entry to zero to remove uninformative variables\n",
    "# All values for species >=0, so a column with a max entry of zero means has all zeroes\n",
    "cols = (  disease_species.max()  !=  0 )\n",
    "#subseting the species data to informative variables\n",
    "disease_species_short = disease_species[cols[cols].index]\n",
    "disease_species_short.shape\n"
   ],
   "metadata": {
    "collapsed": false,
    "pycharm": {
     "name": "#%%\n"
    }
   }
  },
  {
   "cell_type": "code",
   "execution_count": 27,
   "outputs": [
    {
     "data": {
      "text/plain": "      dataset_name sampleID disease age  gender country    bmi     stage  \\\n2951  t2dmeta_long  CON-001       n  21  female   china   26.3  stage_ii   \n2952  t2dmeta_long  CON-002       n  53  female   china  26.67  stage_ii   \n2953  t2dmeta_long  CON-003       n  61  female   china  25.07  stage_ii   \n2954  t2dmeta_long  CON-004       n  55  female   china  25.39  stage_ii   \n2955  t2dmeta_long  CON-005       n  53  female   china  26.67  stage_ii   \n\n     height weight  ...  \\\n2951    156     64  ...   \n2952    150     60  ...   \n2953    156     61  ...   \n2954    160     65  ...   \n2955    150     60  ...   \n\n     k__Bacteria|p__Planctomycetes|c__Planctomycetia|o__Planctomycetales|f__Planctomycetaceae|g__Rhodopirellula  \\\n2951                                                0.0                                                           \n2952                                                0.0                                                           \n2953                                                0.0                                                           \n2954                                                0.0                                                           \n2955                                                0.0                                                           \n\n     k__Bacteria|p__Planctomycetes|c__Planctomycetia|o__Planctomycetales|f__Planctomycetaceae|g__Rhodopirellula|s__Rhodopirellula_unclassified  \\\n2951                                                0.0                                                                                          \n2952                                                0.0                                                                                          \n2953                                                0.0                                                                                          \n2954                                                0.0                                                                                          \n2955                                                0.0                                                                                          \n\n     k__Bacteria|p__Proteobacteria|c__Gammaproteobacteria|o__Vibrionales|f__Vibrionaceae|g__Vibrio|s__Vibrio_furnissii  \\\n2951                                                0.0                                                                  \n2952                                                0.0                                                                  \n2953                                                0.0                                                                  \n2954                                                0.0                                                                  \n2955                                                0.0                                                                  \n\n     k__Bacteria|p__Proteobacteria|c__Gammaproteobacteria|o__Vibrionales|f__Vibrionaceae|g__Vibrio|s__Vibrio_furnissii|t__Vibrio_furnissii_unclassified  \\\n2951                                                0.0                                                                                                   \n2952                                                0.0                                                                                                   \n2953                                                0.0                                                                                                   \n2954                                                0.0                                                                                                   \n2955                                                0.0                                                                                                   \n\n     k__Bacteria|p__Bacteroidetes|c__Bacteroidia|o__Bacteroidales|f__Bacteroidaceae|g__Bacteroides|s__Bacteroides_sp_2_2_4  \\\n2951                                                0.0                                                                      \n2952                                                0.0                                                                      \n2953                                                0.0                                                                      \n2954                                                0.0                                                                      \n2955                                                0.0                                                                      \n\n     k__Bacteria|p__Bacteroidetes|c__Bacteroidia|o__Bacteroidales|f__Bacteroidaceae|g__Bacteroides|s__Bacteroides_sp_2_2_4|t__GCF_000157055  \\\n2951                                                0.0                                                                                       \n2952                                                0.0                                                                                       \n2953                                                0.0                                                                                       \n2954                                                0.0                                                                                       \n2955                                                0.0                                                                                       \n\n     k__Bacteria|p__Firmicutes|c__Bacilli|o__Bacillales|f__Bacillaceae|g__Lysinibacillus|s__Lysinibacillus_fusiformis  \\\n2951                                                0.0                                                                 \n2952                                                0.0                                                                 \n2953                                                0.0                                                                 \n2954                                                0.0                                                                 \n2955                                                0.0                                                                 \n\n     k__Bacteria|p__Firmicutes|c__Bacilli|o__Bacillales|f__Bacillaceae|g__Lysinibacillus|s__Lysinibacillus_fusiformis|t__Lysinibacillus_fusiformis_unclassified  \\\n2951                                                0.0                                                                                                           \n2952                                                0.0                                                                                                           \n2953                                                0.0                                                                                                           \n2954                                                0.0                                                                                                           \n2955                                                0.0                                                                                                           \n\n     k__Bacteria|p__Firmicutes|c__Bacilli|o__Bacillales|f__Bacillaceae|g__Lysinibacillus|s__Lysinibacillus_sphaericus  \\\n2951                                                0.0                                                                 \n2952                                                0.0                                                                 \n2953                                                0.0                                                                 \n2954                                                0.0                                                                 \n2955                                                0.0                                                                 \n\n     k__Bacteria|p__Firmicutes|c__Bacilli|o__Bacillales|f__Bacillaceae|g__Lysinibacillus|s__Lysinibacillus_sphaericus|t__Lysinibacillus_sphaericus_unclassified  \n2951                                                0.0                                                                                                          \n2952                                                0.0                                                                                                          \n2953                                                0.0                                                                                                          \n2954                                                0.0                                                                                                          \n2955                                                0.0                                                                                                          \n\n[5 rows x 1623 columns]",
      "text/html": "<div>\n<style scoped>\n    .dataframe tbody tr th:only-of-type {\n        vertical-align: middle;\n    }\n\n    .dataframe tbody tr th {\n        vertical-align: top;\n    }\n\n    .dataframe thead th {\n        text-align: right;\n    }\n</style>\n<table border=\"1\" class=\"dataframe\">\n  <thead>\n    <tr style=\"text-align: right;\">\n      <th></th>\n      <th>dataset_name</th>\n      <th>sampleID</th>\n      <th>disease</th>\n      <th>age</th>\n      <th>gender</th>\n      <th>country</th>\n      <th>bmi</th>\n      <th>stage</th>\n      <th>height</th>\n      <th>weight</th>\n      <th>...</th>\n      <th>k__Bacteria|p__Planctomycetes|c__Planctomycetia|o__Planctomycetales|f__Planctomycetaceae|g__Rhodopirellula</th>\n      <th>k__Bacteria|p__Planctomycetes|c__Planctomycetia|o__Planctomycetales|f__Planctomycetaceae|g__Rhodopirellula|s__Rhodopirellula_unclassified</th>\n      <th>k__Bacteria|p__Proteobacteria|c__Gammaproteobacteria|o__Vibrionales|f__Vibrionaceae|g__Vibrio|s__Vibrio_furnissii</th>\n      <th>k__Bacteria|p__Proteobacteria|c__Gammaproteobacteria|o__Vibrionales|f__Vibrionaceae|g__Vibrio|s__Vibrio_furnissii|t__Vibrio_furnissii_unclassified</th>\n      <th>k__Bacteria|p__Bacteroidetes|c__Bacteroidia|o__Bacteroidales|f__Bacteroidaceae|g__Bacteroides|s__Bacteroides_sp_2_2_4</th>\n      <th>k__Bacteria|p__Bacteroidetes|c__Bacteroidia|o__Bacteroidales|f__Bacteroidaceae|g__Bacteroides|s__Bacteroides_sp_2_2_4|t__GCF_000157055</th>\n      <th>k__Bacteria|p__Firmicutes|c__Bacilli|o__Bacillales|f__Bacillaceae|g__Lysinibacillus|s__Lysinibacillus_fusiformis</th>\n      <th>k__Bacteria|p__Firmicutes|c__Bacilli|o__Bacillales|f__Bacillaceae|g__Lysinibacillus|s__Lysinibacillus_fusiformis|t__Lysinibacillus_fusiformis_unclassified</th>\n      <th>k__Bacteria|p__Firmicutes|c__Bacilli|o__Bacillales|f__Bacillaceae|g__Lysinibacillus|s__Lysinibacillus_sphaericus</th>\n      <th>k__Bacteria|p__Firmicutes|c__Bacilli|o__Bacillales|f__Bacillaceae|g__Lysinibacillus|s__Lysinibacillus_sphaericus|t__Lysinibacillus_sphaericus_unclassified</th>\n    </tr>\n  </thead>\n  <tbody>\n    <tr>\n      <th>2951</th>\n      <td>t2dmeta_long</td>\n      <td>CON-001</td>\n      <td>n</td>\n      <td>21</td>\n      <td>female</td>\n      <td>china</td>\n      <td>26.3</td>\n      <td>stage_ii</td>\n      <td>156</td>\n      <td>64</td>\n      <td>...</td>\n      <td>0.0</td>\n      <td>0.0</td>\n      <td>0.0</td>\n      <td>0.0</td>\n      <td>0.0</td>\n      <td>0.0</td>\n      <td>0.0</td>\n      <td>0.0</td>\n      <td>0.0</td>\n      <td>0.0</td>\n    </tr>\n    <tr>\n      <th>2952</th>\n      <td>t2dmeta_long</td>\n      <td>CON-002</td>\n      <td>n</td>\n      <td>53</td>\n      <td>female</td>\n      <td>china</td>\n      <td>26.67</td>\n      <td>stage_ii</td>\n      <td>150</td>\n      <td>60</td>\n      <td>...</td>\n      <td>0.0</td>\n      <td>0.0</td>\n      <td>0.0</td>\n      <td>0.0</td>\n      <td>0.0</td>\n      <td>0.0</td>\n      <td>0.0</td>\n      <td>0.0</td>\n      <td>0.0</td>\n      <td>0.0</td>\n    </tr>\n    <tr>\n      <th>2953</th>\n      <td>t2dmeta_long</td>\n      <td>CON-003</td>\n      <td>n</td>\n      <td>61</td>\n      <td>female</td>\n      <td>china</td>\n      <td>25.07</td>\n      <td>stage_ii</td>\n      <td>156</td>\n      <td>61</td>\n      <td>...</td>\n      <td>0.0</td>\n      <td>0.0</td>\n      <td>0.0</td>\n      <td>0.0</td>\n      <td>0.0</td>\n      <td>0.0</td>\n      <td>0.0</td>\n      <td>0.0</td>\n      <td>0.0</td>\n      <td>0.0</td>\n    </tr>\n    <tr>\n      <th>2954</th>\n      <td>t2dmeta_long</td>\n      <td>CON-004</td>\n      <td>n</td>\n      <td>55</td>\n      <td>female</td>\n      <td>china</td>\n      <td>25.39</td>\n      <td>stage_ii</td>\n      <td>160</td>\n      <td>65</td>\n      <td>...</td>\n      <td>0.0</td>\n      <td>0.0</td>\n      <td>0.0</td>\n      <td>0.0</td>\n      <td>0.0</td>\n      <td>0.0</td>\n      <td>0.0</td>\n      <td>0.0</td>\n      <td>0.0</td>\n      <td>0.0</td>\n    </tr>\n    <tr>\n      <th>2955</th>\n      <td>t2dmeta_long</td>\n      <td>CON-005</td>\n      <td>n</td>\n      <td>53</td>\n      <td>female</td>\n      <td>china</td>\n      <td>26.67</td>\n      <td>stage_ii</td>\n      <td>150</td>\n      <td>60</td>\n      <td>...</td>\n      <td>0.0</td>\n      <td>0.0</td>\n      <td>0.0</td>\n      <td>0.0</td>\n      <td>0.0</td>\n      <td>0.0</td>\n      <td>0.0</td>\n      <td>0.0</td>\n      <td>0.0</td>\n      <td>0.0</td>\n    </tr>\n  </tbody>\n</table>\n<p>5 rows × 1623 columns</p>\n</div>"
     },
     "execution_count": 27,
     "metadata": {},
     "output_type": "execute_result"
    }
   ],
   "source": [
    "# merge the metadata and species data together after filtering out uninformative variables\n",
    "disease_short = disease_metadata_short.join(disease_species_short)\n",
    "disease_short.head()"
   ],
   "metadata": {
    "collapsed": false,
    "pycharm": {
     "name": "#%%\n"
    }
   }
  },
  {
   "cell_type": "code",
   "execution_count": 28,
   "outputs": [
    {
     "data": {
      "text/plain": "(508, 1623)"
     },
     "execution_count": 28,
     "metadata": {},
     "output_type": "execute_result"
    }
   ],
   "source": [
    "#all of the continuous and discrete variables in the metadata\n",
    "num_var = ['age','bmi','height','weight','fbg','sbp','dbp','fins','fcp','hbalc','tg',\n",
    "        'tcho','hdl','ldl','whr','wc','cholesterol','triglycerides','creatinine',\n",
    "         'y-gt','fasting_glucose','fasting_insulin','hba1c','hscrp','c-peptide','tnfa',\n",
    "         'il-1','cd163','years_in_sweden','glp-1','fgf-19','leptin','adiponectin',\n",
    "         'gad-antibodies']\n",
    "#converts all of the continuous and discrete variables to numeric\n",
    "disease_short.loc[:, num_var] = disease_short.loc[:, num_var].apply(pd.to_numeric,\n",
    "                                                                  errors='coerce', axis=1)\n",
    "disease_short.shape"
   ],
   "metadata": {
    "collapsed": false,
    "pycharm": {
     "name": "#%%\n"
    }
   }
  },
  {
   "cell_type": "code",
   "execution_count": 29,
   "outputs": [],
   "source": [
    "# replaces the missing values in cholesterol with tcho values\n",
    "# tcho and cholesterol are from WT2D and T2Dmeta respectively and they both represent\n",
    "# total cholesterol\n",
    "s = disease_short['sampleID'].map(disease_short.set_index('sampleID')['tcho'])\n",
    "disease_short['cholesterol'] = disease_short['cholesterol'].mask(disease_short['cholesterol'].isnull(), s)"
   ],
   "metadata": {
    "collapsed": false,
    "pycharm": {
     "name": "#%%\n"
    }
   }
  },
  {
   "cell_type": "code",
   "execution_count": 30,
   "outputs": [],
   "source": [
    "# replaces the missing values in fasting_glucose with fbg values\n",
    "# fasting_glucose and fbg are from WT2D and T2Dmeta respectively and they both represent\n",
    "# fasting blood glucose\n",
    "s = disease_short['sampleID'].map(disease_short.set_index('sampleID')['fbg'])\n",
    "disease_short['fasting_glucose'] = disease_short['fasting_glucose'].mask(disease_short['fasting_glucose'].isnull(), s)"
   ],
   "metadata": {
    "collapsed": false,
    "pycharm": {
     "name": "#%%\n"
    }
   }
  },
  {
   "cell_type": "code",
   "execution_count": 31,
   "outputs": [],
   "source": [
    "# replaces the missing values in triglycerides with tg values\n",
    "# triglycerides and tg are from WT2D and T2Dmeta respectively and they both represent\n",
    "# Triglyceride levels\n",
    "s = disease_short['sampleID'].map(disease_short.set_index('sampleID')['tg'])\n",
    "disease_short['triglycerides'] = disease_short['triglycerides'].mask(disease_short['triglycerides'].isnull(), s)"
   ],
   "metadata": {
    "collapsed": false,
    "pycharm": {
     "name": "#%%\n"
    }
   }
  },
  {
   "cell_type": "code",
   "execution_count": 32,
   "outputs": [
    {
     "data": {
      "text/plain": "(508, 1623)"
     },
     "execution_count": 32,
     "metadata": {},
     "output_type": "execute_result"
    }
   ],
   "source": [
    "# replaces the missing values in fasting_insulin with fins values\n",
    "# fasting_insulin and fins (Fasting Insulin Serum) are from WT2D and T2Dmeta respectively and they both represent\n",
    "# fasting insulin serum\n",
    "s = disease_short['sampleID'].map(disease_short.set_index('sampleID')['fins'])\n",
    "disease_short['fasting_insulin'] = disease_short['fasting_insulin'].mask(disease_short['fasting_insulin'].isnull(), s)\n",
    "disease_short.shape"
   ],
   "metadata": {
    "collapsed": false,
    "pycharm": {
     "name": "#%%\n"
    }
   }
  },
  {
   "cell_type": "code",
   "execution_count": 33,
   "outputs": [],
   "source": [
    "#gender is not recorded for the WT2D data b/c it was a study conducted on only women.\n",
    "#replace all nas with female in WT2D\n",
    "mask1 = (disease_short.dataset_name == \"WT2D\") & (disease_short.gender.isna())\n",
    "disease_short.loc[mask1, 'gender'] = 'female'"
   ],
   "metadata": {
    "collapsed": false,
    "pycharm": {
     "name": "#%%\n"
    }
   }
  },
  {
   "cell_type": "code",
   "execution_count": 34,
   "outputs": [
    {
     "data": {
      "text/plain": "(508, 1619)"
     },
     "execution_count": 34,
     "metadata": {},
     "output_type": "execute_result"
    }
   ],
   "source": [
    "redundant = ['tcho','fbg','fins','tg']\n",
    "disease_short = disease_short.drop(columns=redundant)\n",
    "disease_short.shape"
   ],
   "metadata": {
    "collapsed": false,
    "pycharm": {
     "name": "#%%\n"
    }
   }
  },
  {
   "cell_type": "code",
   "execution_count": 35,
   "outputs": [],
   "source": [
    "disease_short = disease_short.replace(['n','impaired_glucose_tolerance',\"t2d\"],\n",
    "                                      ['No Diabetes','Pre-Diabetes',\"Type 2 Diabetes\"])"
   ],
   "metadata": {
    "collapsed": false,
    "pycharm": {
     "name": "#%%\n"
    }
   }
  },
  {
   "cell_type": "code",
   "execution_count": 35,
   "outputs": [],
   "source": [],
   "metadata": {
    "collapsed": false,
    "pycharm": {
     "name": "#%%\n"
    }
   }
  }
 ],
 "metadata": {
  "kernelspec": {
   "display_name": "Python 3",
   "language": "python",
   "name": "python3"
  },
  "language_info": {
   "codemirror_mode": {
    "name": "ipython",
    "version": 2
   },
   "file_extension": ".py",
   "mimetype": "text/x-python",
   "name": "python",
   "nbconvert_exporter": "python",
   "pygments_lexer": "ipython2",
   "version": "2.7.6"
  }
 },
 "nbformat": 4,
 "nbformat_minor": 0
}