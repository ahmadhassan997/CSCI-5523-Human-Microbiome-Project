{
 "cells": [
  {
   "cell_type": "code",
   "execution_count": 1,
   "metadata": {},
   "outputs": [],
   "source": [
    "import os #Setup\n",
    "from os import path\n",
    "import sys\n",
    "\n",
    "\n",
    "import pandas as pd\n",
    "import numpy as np\n",
    "import matplotlib.pyplot as plt"
   ]
  },
  {
   "cell_type": "code",
   "execution_count": 2,
   "metadata": {},
   "outputs": [],
   "source": [
    "proj_dir = os.path.abspath(os.path.join(os.path.dirname('abundance_stoolsubset.csv'), os.pardir,))\n",
    "sys.path.append(proj_dir) #Load in the dataset"
   ]
  },
  {
   "cell_type": "code",
   "execution_count": 3,
   "metadata": {},
   "outputs": [
    {
     "name": "stderr",
     "output_type": "stream",
     "text": [
      "C:\\Users\\Tommy\\anaconda3\\lib\\site-packages\\IPython\\core\\interactiveshell.py:3063: DtypeWarning: Columns (5,20) have mixed types.Specify dtype option on import or set low_memory=False.\n",
      "  interactivity=interactivity, compiler=compiler, result=result)\n"
     ]
    }
   ],
   "source": [
    "data = pd.read_csv(path.join(proj_dir, 'data', 'abundance_stoolsubset.csv'))"
   ]
  },
  {
   "cell_type": "code",
   "execution_count": 4,
   "metadata": {},
   "outputs": [
    {
     "data": {
      "text/html": [
       "<div>\n",
       "<style scoped>\n",
       "    .dataframe tbody tr th:only-of-type {\n",
       "        vertical-align: middle;\n",
       "    }\n",
       "\n",
       "    .dataframe tbody tr th {\n",
       "        vertical-align: top;\n",
       "    }\n",
       "\n",
       "    .dataframe thead th {\n",
       "        text-align: right;\n",
       "    }\n",
       "</style>\n",
       "<table border=\"1\" class=\"dataframe\">\n",
       "  <thead>\n",
       "    <tr style=\"text-align: right;\">\n",
       "      <th></th>\n",
       "      <th>dataset_name</th>\n",
       "      <th>sampleID</th>\n",
       "      <th>subjectID</th>\n",
       "      <th>bodysite</th>\n",
       "      <th>disease</th>\n",
       "      <th>age</th>\n",
       "      <th>gender</th>\n",
       "      <th>country</th>\n",
       "      <th>sequencing_technology</th>\n",
       "      <th>pubmedid</th>\n",
       "      <th>...</th>\n",
       "      <th>k__Bacteria|p__Firmicutes|c__Bacilli|o__Lactobacillales|f__Enterococcaceae|g__Enterococcus|s__Enterococcus_gilvus|t__Enterococcus_gilvus_unclassified</th>\n",
       "      <th>k__Bacteria|p__Firmicutes|c__Bacilli|o__Lactobacillales|f__Lactobacillaceae|g__Lactobacillus|s__Lactobacillus_otakiensis</th>\n",
       "      <th>k__Bacteria|p__Firmicutes|c__Bacilli|o__Lactobacillales|f__Lactobacillaceae|g__Lactobacillus|s__Lactobacillus_otakiensis|t__GCF_000415925</th>\n",
       "      <th>k__Bacteria|p__Firmicutes|c__Clostridia|o__Clostridiales|f__Peptococcaceae</th>\n",
       "      <th>k__Bacteria|p__Firmicutes|c__Clostridia|o__Clostridiales|f__Peptococcaceae|g__Desulfotomaculum</th>\n",
       "      <th>k__Bacteria|p__Firmicutes|c__Clostridia|o__Clostridiales|f__Peptococcaceae|g__Desulfotomaculum|s__Desulfotomaculum_ruminis</th>\n",
       "      <th>k__Bacteria|p__Firmicutes|c__Clostridia|o__Clostridiales|f__Peptococcaceae|g__Desulfotomaculum|s__Desulfotomaculum_ruminis|t__GCF_000215085</th>\n",
       "      <th>k__Bacteria|p__Firmicutes|c__Clostridia|o__Clostridiales|f__Ruminococcaceae|g__Faecalibacterium|s__Faecalibacterium_prausnitzii|t__GCF_000209855</th>\n",
       "      <th>k__Bacteria|p__Firmicutes|c__Negativicutes|o__Selenomonadales|f__Veillonellaceae|g__Megasphaera|s__Megasphaera_sp_BV3C16_1</th>\n",
       "      <th>k__Bacteria|p__Firmicutes|c__Negativicutes|o__Selenomonadales|f__Veillonellaceae|g__Megasphaera|s__Megasphaera_sp_BV3C16_1|t__GCF_000478965</th>\n",
       "    </tr>\n",
       "  </thead>\n",
       "  <tbody>\n",
       "    <tr>\n",
       "      <th>0</th>\n",
       "      <td>Candela_Africa</td>\n",
       "      <td>H10</td>\n",
       "      <td>h10</td>\n",
       "      <td>stool</td>\n",
       "      <td>n</td>\n",
       "      <td>40</td>\n",
       "      <td>female</td>\n",
       "      <td>tanzania</td>\n",
       "      <td>Illumina</td>\n",
       "      <td>25981789</td>\n",
       "      <td>...</td>\n",
       "      <td>0.0</td>\n",
       "      <td>0.0</td>\n",
       "      <td>0.0</td>\n",
       "      <td>0.0</td>\n",
       "      <td>0.0</td>\n",
       "      <td>0.0</td>\n",
       "      <td>0.0</td>\n",
       "      <td>0.0</td>\n",
       "      <td>0.0</td>\n",
       "      <td>0.0</td>\n",
       "    </tr>\n",
       "    <tr>\n",
       "      <th>1</th>\n",
       "      <td>Candela_Africa</td>\n",
       "      <td>H11</td>\n",
       "      <td>h11</td>\n",
       "      <td>stool</td>\n",
       "      <td>n</td>\n",
       "      <td>29</td>\n",
       "      <td>female</td>\n",
       "      <td>tanzania</td>\n",
       "      <td>Illumina</td>\n",
       "      <td>25981789</td>\n",
       "      <td>...</td>\n",
       "      <td>0.0</td>\n",
       "      <td>0.0</td>\n",
       "      <td>0.0</td>\n",
       "      <td>0.0</td>\n",
       "      <td>0.0</td>\n",
       "      <td>0.0</td>\n",
       "      <td>0.0</td>\n",
       "      <td>0.0</td>\n",
       "      <td>0.0</td>\n",
       "      <td>0.0</td>\n",
       "    </tr>\n",
       "    <tr>\n",
       "      <th>2</th>\n",
       "      <td>Candela_Africa</td>\n",
       "      <td>H12</td>\n",
       "      <td>h12</td>\n",
       "      <td>stool</td>\n",
       "      <td>n</td>\n",
       "      <td>8</td>\n",
       "      <td>female</td>\n",
       "      <td>tanzania</td>\n",
       "      <td>Illumina</td>\n",
       "      <td>25981789</td>\n",
       "      <td>...</td>\n",
       "      <td>0.0</td>\n",
       "      <td>0.0</td>\n",
       "      <td>0.0</td>\n",
       "      <td>0.0</td>\n",
       "      <td>0.0</td>\n",
       "      <td>0.0</td>\n",
       "      <td>0.0</td>\n",
       "      <td>0.0</td>\n",
       "      <td>0.0</td>\n",
       "      <td>0.0</td>\n",
       "    </tr>\n",
       "    <tr>\n",
       "      <th>3</th>\n",
       "      <td>Candela_Africa</td>\n",
       "      <td>H13</td>\n",
       "      <td>h13</td>\n",
       "      <td>stool</td>\n",
       "      <td>n</td>\n",
       "      <td>34</td>\n",
       "      <td>male</td>\n",
       "      <td>tanzania</td>\n",
       "      <td>Illumina</td>\n",
       "      <td>25981789</td>\n",
       "      <td>...</td>\n",
       "      <td>0.0</td>\n",
       "      <td>0.0</td>\n",
       "      <td>0.0</td>\n",
       "      <td>0.0</td>\n",
       "      <td>0.0</td>\n",
       "      <td>0.0</td>\n",
       "      <td>0.0</td>\n",
       "      <td>0.0</td>\n",
       "      <td>0.0</td>\n",
       "      <td>0.0</td>\n",
       "    </tr>\n",
       "    <tr>\n",
       "      <th>4</th>\n",
       "      <td>Candela_Africa</td>\n",
       "      <td>H14</td>\n",
       "      <td>h14</td>\n",
       "      <td>stool</td>\n",
       "      <td>n</td>\n",
       "      <td>30</td>\n",
       "      <td>male</td>\n",
       "      <td>tanzania</td>\n",
       "      <td>Illumina</td>\n",
       "      <td>25981789</td>\n",
       "      <td>...</td>\n",
       "      <td>0.0</td>\n",
       "      <td>0.0</td>\n",
       "      <td>0.0</td>\n",
       "      <td>0.0</td>\n",
       "      <td>0.0</td>\n",
       "      <td>0.0</td>\n",
       "      <td>0.0</td>\n",
       "      <td>0.0</td>\n",
       "      <td>0.0</td>\n",
       "      <td>0.0</td>\n",
       "    </tr>\n",
       "  </tbody>\n",
       "</table>\n",
       "<p>5 rows × 2339 columns</p>\n",
       "</div>"
      ],
      "text/plain": [
       "     dataset_name sampleID subjectID bodysite disease age  gender   country  \\\n",
       "0  Candela_Africa      H10       h10    stool       n  40  female  tanzania   \n",
       "1  Candela_Africa      H11       h11    stool       n  29  female  tanzania   \n",
       "2  Candela_Africa      H12       h12    stool       n   8  female  tanzania   \n",
       "3  Candela_Africa      H13       h13    stool       n  34    male  tanzania   \n",
       "4  Candela_Africa      H14       h14    stool       n  30    male  tanzania   \n",
       "\n",
       "  sequencing_technology  pubmedid  ...  \\\n",
       "0              Illumina  25981789  ...   \n",
       "1              Illumina  25981789  ...   \n",
       "2              Illumina  25981789  ...   \n",
       "3              Illumina  25981789  ...   \n",
       "4              Illumina  25981789  ...   \n",
       "\n",
       "  k__Bacteria|p__Firmicutes|c__Bacilli|o__Lactobacillales|f__Enterococcaceae|g__Enterococcus|s__Enterococcus_gilvus|t__Enterococcus_gilvus_unclassified  \\\n",
       "0                                                0.0                                                                                                      \n",
       "1                                                0.0                                                                                                      \n",
       "2                                                0.0                                                                                                      \n",
       "3                                                0.0                                                                                                      \n",
       "4                                                0.0                                                                                                      \n",
       "\n",
       "  k__Bacteria|p__Firmicutes|c__Bacilli|o__Lactobacillales|f__Lactobacillaceae|g__Lactobacillus|s__Lactobacillus_otakiensis  \\\n",
       "0                                                0.0                                                                         \n",
       "1                                                0.0                                                                         \n",
       "2                                                0.0                                                                         \n",
       "3                                                0.0                                                                         \n",
       "4                                                0.0                                                                         \n",
       "\n",
       "  k__Bacteria|p__Firmicutes|c__Bacilli|o__Lactobacillales|f__Lactobacillaceae|g__Lactobacillus|s__Lactobacillus_otakiensis|t__GCF_000415925  \\\n",
       "0                                                0.0                                                                                          \n",
       "1                                                0.0                                                                                          \n",
       "2                                                0.0                                                                                          \n",
       "3                                                0.0                                                                                          \n",
       "4                                                0.0                                                                                          \n",
       "\n",
       "  k__Bacteria|p__Firmicutes|c__Clostridia|o__Clostridiales|f__Peptococcaceae  \\\n",
       "0                                                0.0                           \n",
       "1                                                0.0                           \n",
       "2                                                0.0                           \n",
       "3                                                0.0                           \n",
       "4                                                0.0                           \n",
       "\n",
       "  k__Bacteria|p__Firmicutes|c__Clostridia|o__Clostridiales|f__Peptococcaceae|g__Desulfotomaculum  \\\n",
       "0                                                0.0                                               \n",
       "1                                                0.0                                               \n",
       "2                                                0.0                                               \n",
       "3                                                0.0                                               \n",
       "4                                                0.0                                               \n",
       "\n",
       "  k__Bacteria|p__Firmicutes|c__Clostridia|o__Clostridiales|f__Peptococcaceae|g__Desulfotomaculum|s__Desulfotomaculum_ruminis  \\\n",
       "0                                                0.0                                                                           \n",
       "1                                                0.0                                                                           \n",
       "2                                                0.0                                                                           \n",
       "3                                                0.0                                                                           \n",
       "4                                                0.0                                                                           \n",
       "\n",
       "  k__Bacteria|p__Firmicutes|c__Clostridia|o__Clostridiales|f__Peptococcaceae|g__Desulfotomaculum|s__Desulfotomaculum_ruminis|t__GCF_000215085  \\\n",
       "0                                                0.0                                                                                            \n",
       "1                                                0.0                                                                                            \n",
       "2                                                0.0                                                                                            \n",
       "3                                                0.0                                                                                            \n",
       "4                                                0.0                                                                                            \n",
       "\n",
       "  k__Bacteria|p__Firmicutes|c__Clostridia|o__Clostridiales|f__Ruminococcaceae|g__Faecalibacterium|s__Faecalibacterium_prausnitzii|t__GCF_000209855  \\\n",
       "0                                                0.0                                                                                                 \n",
       "1                                                0.0                                                                                                 \n",
       "2                                                0.0                                                                                                 \n",
       "3                                                0.0                                                                                                 \n",
       "4                                                0.0                                                                                                 \n",
       "\n",
       "  k__Bacteria|p__Firmicutes|c__Negativicutes|o__Selenomonadales|f__Veillonellaceae|g__Megasphaera|s__Megasphaera_sp_BV3C16_1  \\\n",
       "0                                                0.0                                                                           \n",
       "1                                                0.0                                                                           \n",
       "2                                                0.0                                                                           \n",
       "3                                                0.0                                                                           \n",
       "4                                                0.0                                                                           \n",
       "\n",
       "  k__Bacteria|p__Firmicutes|c__Negativicutes|o__Selenomonadales|f__Veillonellaceae|g__Megasphaera|s__Megasphaera_sp_BV3C16_1|t__GCF_000478965  \n",
       "0                                                0.0                                                                                           \n",
       "1                                                0.0                                                                                           \n",
       "2                                                0.0                                                                                           \n",
       "3                                                0.0                                                                                           \n",
       "4                                                0.0                                                                                           \n",
       "\n",
       "[5 rows x 2339 columns]"
      ]
     },
     "execution_count": 4,
     "metadata": {},
     "output_type": "execute_result"
    }
   ],
   "source": [
    "data.head()\n"
   ]
  },
  {
   "cell_type": "code",
   "execution_count": 5,
   "metadata": {},
   "outputs": [
    {
     "name": "stdout",
     "output_type": "stream",
     "text": [
      "(1989, 2339)\n"
     ]
    }
   ],
   "source": [
    "print(data.shape)"
   ]
  },
  {
   "cell_type": "code",
   "execution_count": 6,
   "metadata": {},
   "outputs": [
    {
     "name": "stdout",
     "output_type": "stream",
     "text": [
      "<bound method DataFrame.info of                         dataset_name            sampleID subjectID bodysite  \\\n",
      "0                     Candela_Africa                 H10       h10    stool   \n",
      "1                     Candela_Africa                 H11       h11    stool   \n",
      "2                     Candela_Africa                 H12       h12    stool   \n",
      "3                     Candela_Africa                 H13       h13    stool   \n",
      "4                     Candela_Africa                 H14       h14    stool   \n",
      "...                              ...                 ...       ...      ...   \n",
      "1984  Zeller_fecal_colorectal_cancer  CCIS95409808ST-4-0    fr-152    stool   \n",
      "1985  Zeller_fecal_colorectal_cancer  CCIS96387239ST-4-0    fr-626    stool   \n",
      "1986  Zeller_fecal_colorectal_cancer  CCIS98482370ST-3-0    fr-052    stool   \n",
      "1987  Zeller_fecal_colorectal_cancer  CCIS98512455ST-4-0    fr-459    stool   \n",
      "1988  Zeller_fecal_colorectal_cancer  CCIS98832363ST-4-0    fr-552    stool   \n",
      "\n",
      "            disease age  gender   country sequencing_technology  pubmedid  \\\n",
      "0                 n  40  female  tanzania              Illumina  25981789   \n",
      "1                 n  29  female  tanzania              Illumina  25981789   \n",
      "2                 n   8  female  tanzania              Illumina  25981789   \n",
      "3                 n  34    male  tanzania              Illumina  25981789   \n",
      "4                 n  30    male  tanzania              Illumina  25981789   \n",
      "...             ...  ..     ...       ...                   ...       ...   \n",
      "1984              n  63  female    france              Illumina  25432777   \n",
      "1985  small_adenoma  66    male    france              Illumina  25432777   \n",
      "1986              n  53  female    france              Illumina  25432777   \n",
      "1987         cancer  63    male    france              Illumina  25432777   \n",
      "1988         cancer  55  female    france              Illumina  25432777   \n",
      "\n",
      "      ...  \\\n",
      "0     ...   \n",
      "1     ...   \n",
      "2     ...   \n",
      "3     ...   \n",
      "4     ...   \n",
      "...   ...   \n",
      "1984  ...   \n",
      "1985  ...   \n",
      "1986  ...   \n",
      "1987  ...   \n",
      "1988  ...   \n",
      "\n",
      "     k__Bacteria|p__Firmicutes|c__Bacilli|o__Lactobacillales|f__Enterococcaceae|g__Enterococcus|s__Enterococcus_gilvus|t__Enterococcus_gilvus_unclassified  \\\n",
      "0                                                   0.0                                                                                                      \n",
      "1                                                   0.0                                                                                                      \n",
      "2                                                   0.0                                                                                                      \n",
      "3                                                   0.0                                                                                                      \n",
      "4                                                   0.0                                                                                                      \n",
      "...                                                 ...                                                                                                      \n",
      "1984                                                0.0                                                                                                      \n",
      "1985                                                0.0                                                                                                      \n",
      "1986                                                0.0                                                                                                      \n",
      "1987                                                0.0                                                                                                      \n",
      "1988                                                0.0                                                                                                      \n",
      "\n",
      "     k__Bacteria|p__Firmicutes|c__Bacilli|o__Lactobacillales|f__Lactobacillaceae|g__Lactobacillus|s__Lactobacillus_otakiensis  \\\n",
      "0                                                   0.0                                                                         \n",
      "1                                                   0.0                                                                         \n",
      "2                                                   0.0                                                                         \n",
      "3                                                   0.0                                                                         \n",
      "4                                                   0.0                                                                         \n",
      "...                                                 ...                                                                         \n",
      "1984                                                0.0                                                                         \n",
      "1985                                                0.0                                                                         \n",
      "1986                                                0.0                                                                         \n",
      "1987                                                0.0                                                                         \n",
      "1988                                                0.0                                                                         \n",
      "\n",
      "     k__Bacteria|p__Firmicutes|c__Bacilli|o__Lactobacillales|f__Lactobacillaceae|g__Lactobacillus|s__Lactobacillus_otakiensis|t__GCF_000415925  \\\n",
      "0                                                   0.0                                                                                          \n",
      "1                                                   0.0                                                                                          \n",
      "2                                                   0.0                                                                                          \n",
      "3                                                   0.0                                                                                          \n",
      "4                                                   0.0                                                                                          \n",
      "...                                                 ...                                                                                          \n",
      "1984                                                0.0                                                                                          \n",
      "1985                                                0.0                                                                                          \n",
      "1986                                                0.0                                                                                          \n",
      "1987                                                0.0                                                                                          \n",
      "1988                                                0.0                                                                                          \n",
      "\n",
      "     k__Bacteria|p__Firmicutes|c__Clostridia|o__Clostridiales|f__Peptococcaceae  \\\n",
      "0                                                   0.0                           \n",
      "1                                                   0.0                           \n",
      "2                                                   0.0                           \n",
      "3                                                   0.0                           \n",
      "4                                                   0.0                           \n",
      "...                                                 ...                           \n",
      "1984                                                0.0                           \n",
      "1985                                                0.0                           \n",
      "1986                                                0.0                           \n",
      "1987                                                0.0                           \n",
      "1988                                                0.0                           \n",
      "\n",
      "     k__Bacteria|p__Firmicutes|c__Clostridia|o__Clostridiales|f__Peptococcaceae|g__Desulfotomaculum  \\\n",
      "0                                                   0.0                                               \n",
      "1                                                   0.0                                               \n",
      "2                                                   0.0                                               \n",
      "3                                                   0.0                                               \n",
      "4                                                   0.0                                               \n",
      "...                                                 ...                                               \n",
      "1984                                                0.0                                               \n",
      "1985                                                0.0                                               \n",
      "1986                                                0.0                                               \n",
      "1987                                                0.0                                               \n",
      "1988                                                0.0                                               \n",
      "\n",
      "     k__Bacteria|p__Firmicutes|c__Clostridia|o__Clostridiales|f__Peptococcaceae|g__Desulfotomaculum|s__Desulfotomaculum_ruminis  \\\n",
      "0                                                   0.0                                                                           \n",
      "1                                                   0.0                                                                           \n",
      "2                                                   0.0                                                                           \n",
      "3                                                   0.0                                                                           \n",
      "4                                                   0.0                                                                           \n",
      "...                                                 ...                                                                           \n",
      "1984                                                0.0                                                                           \n",
      "1985                                                0.0                                                                           \n",
      "1986                                                0.0                                                                           \n",
      "1987                                                0.0                                                                           \n",
      "1988                                                0.0                                                                           \n",
      "\n",
      "     k__Bacteria|p__Firmicutes|c__Clostridia|o__Clostridiales|f__Peptococcaceae|g__Desulfotomaculum|s__Desulfotomaculum_ruminis|t__GCF_000215085  \\\n",
      "0                                                   0.0                                                                                            \n",
      "1                                                   0.0                                                                                            \n",
      "2                                                   0.0                                                                                            \n",
      "3                                                   0.0                                                                                            \n",
      "4                                                   0.0                                                                                            \n",
      "...                                                 ...                                                                                            \n",
      "1984                                                0.0                                                                                            \n",
      "1985                                                0.0                                                                                            \n",
      "1986                                                0.0                                                                                            \n",
      "1987                                                0.0                                                                                            \n",
      "1988                                                0.0                                                                                            \n",
      "\n",
      "     k__Bacteria|p__Firmicutes|c__Clostridia|o__Clostridiales|f__Ruminococcaceae|g__Faecalibacterium|s__Faecalibacterium_prausnitzii|t__GCF_000209855  \\\n",
      "0                                                   0.0                                                                                                 \n",
      "1                                                   0.0                                                                                                 \n",
      "2                                                   0.0                                                                                                 \n",
      "3                                                   0.0                                                                                                 \n",
      "4                                                   0.0                                                                                                 \n",
      "...                                                 ...                                                                                                 \n",
      "1984                                                0.0                                                                                                 \n",
      "1985                                                0.0                                                                                                 \n",
      "1986                                                0.0                                                                                                 \n",
      "1987                                                0.0                                                                                                 \n",
      "1988                                                0.0                                                                                                 \n",
      "\n",
      "     k__Bacteria|p__Firmicutes|c__Negativicutes|o__Selenomonadales|f__Veillonellaceae|g__Megasphaera|s__Megasphaera_sp_BV3C16_1  \\\n",
      "0                                                   0.0                                                                           \n",
      "1                                                   0.0                                                                           \n",
      "2                                                   0.0                                                                           \n",
      "3                                                   0.0                                                                           \n",
      "4                                                   0.0                                                                           \n",
      "...                                                 ...                                                                           \n",
      "1984                                                0.0                                                                           \n",
      "1985                                                0.0                                                                           \n",
      "1986                                                0.0                                                                           \n",
      "1987                                                0.0                                                                           \n",
      "1988                                                0.0                                                                           \n",
      "\n",
      "     k__Bacteria|p__Firmicutes|c__Negativicutes|o__Selenomonadales|f__Veillonellaceae|g__Megasphaera|s__Megasphaera_sp_BV3C16_1|t__GCF_000478965  \n",
      "0                                                   0.0                                                                                           \n",
      "1                                                   0.0                                                                                           \n",
      "2                                                   0.0                                                                                           \n",
      "3                                                   0.0                                                                                           \n",
      "4                                                   0.0                                                                                           \n",
      "...                                                 ...                                                                                           \n",
      "1984                                                0.0                                                                                           \n",
      "1985                                                0.0                                                                                           \n",
      "1986                                                0.0                                                                                           \n",
      "1987                                                0.0                                                                                           \n",
      "1988                                                0.0                                                                                           \n",
      "\n",
      "[1989 rows x 2339 columns]>\n"
     ]
    }
   ],
   "source": [
    "print(data.info)"
   ]
  },
  {
   "cell_type": "code",
   "execution_count": 7,
   "metadata": {},
   "outputs": [
    {
     "data": {
      "text/plain": [
       "array(['Candela_Africa', 'Chatelier_gut_obesity', 'hmp', 'hmpii',\n",
       "       'Loman2013_EcoliOutbreak_DNA_HiSeq',\n",
       "       'Loman2013_EcoliOutbreak_DNA_MiSeq', 'metahit',\n",
       "       'Neilsen_genome_assembly', 'Quin_gut_liver_cirrhosis',\n",
       "       'Tito_subsistence_gut', 't2dmeta_long', 't2dmeta_short', 'WT2D',\n",
       "       'Zeller_fecal_colorectal_cancer'], dtype=object)"
      ]
     },
     "execution_count": 7,
     "metadata": {},
     "output_type": "execute_result"
    }
   ],
   "source": [
    "data.dataset_name.unique()"
   ]
  },
  {
   "cell_type": "code",
   "execution_count": 8,
   "metadata": {},
   "outputs": [
    {
     "data": {
      "text/plain": [
       "Neilsen_genome_assembly              382\n",
       "t2dmeta_long                         290\n",
       "Chatelier_gut_obesity                278\n",
       "Quin_gut_liver_cirrhosis             232\n",
       "hmp                                  152\n",
       "WT2D                                 145\n",
       "Zeller_fecal_colorectal_cancer       134\n",
       "metahit                              110\n",
       "t2dmeta_short                         73\n",
       "Tito_subsistence_gut                  58\n",
       "hmpii                                 44\n",
       "Loman2013_EcoliOutbreak_DNA_HiSeq     44\n",
       "Candela_Africa                        38\n",
       "Loman2013_EcoliOutbreak_DNA_MiSeq      9\n",
       "Name: dataset_name, dtype: int64"
      ]
     },
     "execution_count": 8,
     "metadata": {},
     "output_type": "execute_result"
    }
   ],
   "source": [
    "data['dataset_name'].value_counts() #metahit is the IBD dataset"
   ]
  },
  {
   "cell_type": "code",
   "execution_count": 9,
   "metadata": {},
   "outputs": [],
   "source": [
    "ibd = data[data[\"dataset_name\"]=='metahit']"
   ]
  },
  {
   "cell_type": "code",
   "execution_count": 10,
   "metadata": {},
   "outputs": [
    {
     "name": "stdout",
     "output_type": "stream",
     "text": [
      "(110, 2339)\n"
     ]
    }
   ],
   "source": [
    "print(ibd.shape)"
   ]
  },
  {
   "cell_type": "code",
   "execution_count": 11,
   "metadata": {},
   "outputs": [
    {
     "data": {
      "text/html": [
       "<div>\n",
       "<style scoped>\n",
       "    .dataframe tbody tr th:only-of-type {\n",
       "        vertical-align: middle;\n",
       "    }\n",
       "\n",
       "    .dataframe tbody tr th {\n",
       "        vertical-align: top;\n",
       "    }\n",
       "\n",
       "    .dataframe thead th {\n",
       "        text-align: right;\n",
       "    }\n",
       "</style>\n",
       "<table border=\"1\" class=\"dataframe\">\n",
       "  <thead>\n",
       "    <tr style=\"text-align: right;\">\n",
       "      <th></th>\n",
       "      <th>dataset_name</th>\n",
       "      <th>sampleID</th>\n",
       "      <th>subjectID</th>\n",
       "      <th>bodysite</th>\n",
       "      <th>disease</th>\n",
       "      <th>age</th>\n",
       "      <th>gender</th>\n",
       "      <th>country</th>\n",
       "      <th>sequencing_technology</th>\n",
       "      <th>pubmedid</th>\n",
       "      <th>...</th>\n",
       "      <th>k__Bacteria|p__Firmicutes|c__Bacilli|o__Lactobacillales|f__Enterococcaceae|g__Enterococcus|s__Enterococcus_gilvus|t__Enterococcus_gilvus_unclassified</th>\n",
       "      <th>k__Bacteria|p__Firmicutes|c__Bacilli|o__Lactobacillales|f__Lactobacillaceae|g__Lactobacillus|s__Lactobacillus_otakiensis</th>\n",
       "      <th>k__Bacteria|p__Firmicutes|c__Bacilli|o__Lactobacillales|f__Lactobacillaceae|g__Lactobacillus|s__Lactobacillus_otakiensis|t__GCF_000415925</th>\n",
       "      <th>k__Bacteria|p__Firmicutes|c__Clostridia|o__Clostridiales|f__Peptococcaceae</th>\n",
       "      <th>k__Bacteria|p__Firmicutes|c__Clostridia|o__Clostridiales|f__Peptococcaceae|g__Desulfotomaculum</th>\n",
       "      <th>k__Bacteria|p__Firmicutes|c__Clostridia|o__Clostridiales|f__Peptococcaceae|g__Desulfotomaculum|s__Desulfotomaculum_ruminis</th>\n",
       "      <th>k__Bacteria|p__Firmicutes|c__Clostridia|o__Clostridiales|f__Peptococcaceae|g__Desulfotomaculum|s__Desulfotomaculum_ruminis|t__GCF_000215085</th>\n",
       "      <th>k__Bacteria|p__Firmicutes|c__Clostridia|o__Clostridiales|f__Ruminococcaceae|g__Faecalibacterium|s__Faecalibacterium_prausnitzii|t__GCF_000209855</th>\n",
       "      <th>k__Bacteria|p__Firmicutes|c__Negativicutes|o__Selenomonadales|f__Veillonellaceae|g__Megasphaera|s__Megasphaera_sp_BV3C16_1</th>\n",
       "      <th>k__Bacteria|p__Firmicutes|c__Negativicutes|o__Selenomonadales|f__Veillonellaceae|g__Megasphaera|s__Megasphaera_sp_BV3C16_1|t__GCF_000478965</th>\n",
       "    </tr>\n",
       "  </thead>\n",
       "  <tbody>\n",
       "    <tr>\n",
       "      <th>565</th>\n",
       "      <td>metahit</td>\n",
       "      <td>MH0002</td>\n",
       "      <td>mh0002</td>\n",
       "      <td>stool</td>\n",
       "      <td>n</td>\n",
       "      <td>59</td>\n",
       "      <td>female</td>\n",
       "      <td>denmark</td>\n",
       "      <td>Illumina</td>\n",
       "      <td>20203603</td>\n",
       "      <td>...</td>\n",
       "      <td>0.0</td>\n",
       "      <td>0.0</td>\n",
       "      <td>0.0</td>\n",
       "      <td>0.0</td>\n",
       "      <td>0.0</td>\n",
       "      <td>0.0</td>\n",
       "      <td>0.0</td>\n",
       "      <td>0.0</td>\n",
       "      <td>0.0</td>\n",
       "      <td>0.0</td>\n",
       "    </tr>\n",
       "    <tr>\n",
       "      <th>566</th>\n",
       "      <td>metahit</td>\n",
       "      <td>MH0003</td>\n",
       "      <td>mh0003</td>\n",
       "      <td>stool</td>\n",
       "      <td>n</td>\n",
       "      <td>69</td>\n",
       "      <td>male</td>\n",
       "      <td>denmark</td>\n",
       "      <td>Illumina</td>\n",
       "      <td>20203603</td>\n",
       "      <td>...</td>\n",
       "      <td>0.0</td>\n",
       "      <td>0.0</td>\n",
       "      <td>0.0</td>\n",
       "      <td>0.0</td>\n",
       "      <td>0.0</td>\n",
       "      <td>0.0</td>\n",
       "      <td>0.0</td>\n",
       "      <td>0.0</td>\n",
       "      <td>0.0</td>\n",
       "      <td>0.0</td>\n",
       "    </tr>\n",
       "    <tr>\n",
       "      <th>567</th>\n",
       "      <td>metahit</td>\n",
       "      <td>MH0006</td>\n",
       "      <td>mh0006</td>\n",
       "      <td>stool</td>\n",
       "      <td>n</td>\n",
       "      <td>59</td>\n",
       "      <td>female</td>\n",
       "      <td>denmark</td>\n",
       "      <td>Illumina</td>\n",
       "      <td>20203603</td>\n",
       "      <td>...</td>\n",
       "      <td>0.0</td>\n",
       "      <td>0.0</td>\n",
       "      <td>0.0</td>\n",
       "      <td>0.0</td>\n",
       "      <td>0.0</td>\n",
       "      <td>0.0</td>\n",
       "      <td>0.0</td>\n",
       "      <td>0.0</td>\n",
       "      <td>0.0</td>\n",
       "      <td>0.0</td>\n",
       "    </tr>\n",
       "    <tr>\n",
       "      <th>568</th>\n",
       "      <td>metahit</td>\n",
       "      <td>MH0009</td>\n",
       "      <td>mh0009</td>\n",
       "      <td>stool</td>\n",
       "      <td>n</td>\n",
       "      <td>64</td>\n",
       "      <td>male</td>\n",
       "      <td>denmark</td>\n",
       "      <td>Illumina</td>\n",
       "      <td>20203603</td>\n",
       "      <td>...</td>\n",
       "      <td>0.0</td>\n",
       "      <td>0.0</td>\n",
       "      <td>0.0</td>\n",
       "      <td>0.0</td>\n",
       "      <td>0.0</td>\n",
       "      <td>0.0</td>\n",
       "      <td>0.0</td>\n",
       "      <td>0.0</td>\n",
       "      <td>0.0</td>\n",
       "      <td>0.0</td>\n",
       "    </tr>\n",
       "    <tr>\n",
       "      <th>569</th>\n",
       "      <td>metahit</td>\n",
       "      <td>MH0011</td>\n",
       "      <td>mh0011</td>\n",
       "      <td>stool</td>\n",
       "      <td>n</td>\n",
       "      <td>0</td>\n",
       "      <td>female</td>\n",
       "      <td>denmark</td>\n",
       "      <td>Illumina</td>\n",
       "      <td>20203603</td>\n",
       "      <td>...</td>\n",
       "      <td>0.0</td>\n",
       "      <td>0.0</td>\n",
       "      <td>0.0</td>\n",
       "      <td>0.0</td>\n",
       "      <td>0.0</td>\n",
       "      <td>0.0</td>\n",
       "      <td>0.0</td>\n",
       "      <td>0.0</td>\n",
       "      <td>0.0</td>\n",
       "      <td>0.0</td>\n",
       "    </tr>\n",
       "  </tbody>\n",
       "</table>\n",
       "<p>5 rows × 2339 columns</p>\n",
       "</div>"
      ],
      "text/plain": [
       "    dataset_name sampleID subjectID bodysite disease age  gender  country  \\\n",
       "565      metahit   MH0002    mh0002    stool       n  59  female  denmark   \n",
       "566      metahit   MH0003    mh0003    stool       n  69    male  denmark   \n",
       "567      metahit   MH0006    mh0006    stool       n  59  female  denmark   \n",
       "568      metahit   MH0009    mh0009    stool       n  64    male  denmark   \n",
       "569      metahit   MH0011    mh0011    stool       n   0  female  denmark   \n",
       "\n",
       "    sequencing_technology  pubmedid  ...  \\\n",
       "565              Illumina  20203603  ...   \n",
       "566              Illumina  20203603  ...   \n",
       "567              Illumina  20203603  ...   \n",
       "568              Illumina  20203603  ...   \n",
       "569              Illumina  20203603  ...   \n",
       "\n",
       "    k__Bacteria|p__Firmicutes|c__Bacilli|o__Lactobacillales|f__Enterococcaceae|g__Enterococcus|s__Enterococcus_gilvus|t__Enterococcus_gilvus_unclassified  \\\n",
       "565                                                0.0                                                                                                      \n",
       "566                                                0.0                                                                                                      \n",
       "567                                                0.0                                                                                                      \n",
       "568                                                0.0                                                                                                      \n",
       "569                                                0.0                                                                                                      \n",
       "\n",
       "    k__Bacteria|p__Firmicutes|c__Bacilli|o__Lactobacillales|f__Lactobacillaceae|g__Lactobacillus|s__Lactobacillus_otakiensis  \\\n",
       "565                                                0.0                                                                         \n",
       "566                                                0.0                                                                         \n",
       "567                                                0.0                                                                         \n",
       "568                                                0.0                                                                         \n",
       "569                                                0.0                                                                         \n",
       "\n",
       "    k__Bacteria|p__Firmicutes|c__Bacilli|o__Lactobacillales|f__Lactobacillaceae|g__Lactobacillus|s__Lactobacillus_otakiensis|t__GCF_000415925  \\\n",
       "565                                                0.0                                                                                          \n",
       "566                                                0.0                                                                                          \n",
       "567                                                0.0                                                                                          \n",
       "568                                                0.0                                                                                          \n",
       "569                                                0.0                                                                                          \n",
       "\n",
       "    k__Bacteria|p__Firmicutes|c__Clostridia|o__Clostridiales|f__Peptococcaceae  \\\n",
       "565                                                0.0                           \n",
       "566                                                0.0                           \n",
       "567                                                0.0                           \n",
       "568                                                0.0                           \n",
       "569                                                0.0                           \n",
       "\n",
       "    k__Bacteria|p__Firmicutes|c__Clostridia|o__Clostridiales|f__Peptococcaceae|g__Desulfotomaculum  \\\n",
       "565                                                0.0                                               \n",
       "566                                                0.0                                               \n",
       "567                                                0.0                                               \n",
       "568                                                0.0                                               \n",
       "569                                                0.0                                               \n",
       "\n",
       "    k__Bacteria|p__Firmicutes|c__Clostridia|o__Clostridiales|f__Peptococcaceae|g__Desulfotomaculum|s__Desulfotomaculum_ruminis  \\\n",
       "565                                                0.0                                                                           \n",
       "566                                                0.0                                                                           \n",
       "567                                                0.0                                                                           \n",
       "568                                                0.0                                                                           \n",
       "569                                                0.0                                                                           \n",
       "\n",
       "    k__Bacteria|p__Firmicutes|c__Clostridia|o__Clostridiales|f__Peptococcaceae|g__Desulfotomaculum|s__Desulfotomaculum_ruminis|t__GCF_000215085  \\\n",
       "565                                                0.0                                                                                            \n",
       "566                                                0.0                                                                                            \n",
       "567                                                0.0                                                                                            \n",
       "568                                                0.0                                                                                            \n",
       "569                                                0.0                                                                                            \n",
       "\n",
       "    k__Bacteria|p__Firmicutes|c__Clostridia|o__Clostridiales|f__Ruminococcaceae|g__Faecalibacterium|s__Faecalibacterium_prausnitzii|t__GCF_000209855  \\\n",
       "565                                                0.0                                                                                                 \n",
       "566                                                0.0                                                                                                 \n",
       "567                                                0.0                                                                                                 \n",
       "568                                                0.0                                                                                                 \n",
       "569                                                0.0                                                                                                 \n",
       "\n",
       "    k__Bacteria|p__Firmicutes|c__Negativicutes|o__Selenomonadales|f__Veillonellaceae|g__Megasphaera|s__Megasphaera_sp_BV3C16_1  \\\n",
       "565                                                0.0                                                                           \n",
       "566                                                0.0                                                                           \n",
       "567                                                0.0                                                                           \n",
       "568                                                0.0                                                                           \n",
       "569                                                0.0                                                                           \n",
       "\n",
       "    k__Bacteria|p__Firmicutes|c__Negativicutes|o__Selenomonadales|f__Veillonellaceae|g__Megasphaera|s__Megasphaera_sp_BV3C16_1|t__GCF_000478965  \n",
       "565                                                0.0                                                                                           \n",
       "566                                                0.0                                                                                           \n",
       "567                                                0.0                                                                                           \n",
       "568                                                0.0                                                                                           \n",
       "569                                                0.0                                                                                           \n",
       "\n",
       "[5 rows x 2339 columns]"
      ]
     },
     "execution_count": 11,
     "metadata": {},
     "output_type": "execute_result"
    }
   ],
   "source": [
    "ibd.head()"
   ]
  },
  {
   "cell_type": "code",
   "execution_count": 12,
   "metadata": {},
   "outputs": [],
   "source": [
    "from sklearn.ensemble import RandomForestClassifier"
   ]
  },
  {
   "cell_type": "code",
   "execution_count": 13,
   "metadata": {},
   "outputs": [],
   "source": [
    "rf = RandomForestClassifier(n_estimators = 500, max_depth=5, random_state=5523) #Try a random forest"
   ]
  },
  {
   "cell_type": "code",
   "execution_count": 14,
   "metadata": {},
   "outputs": [],
   "source": [
    "from sklearn.model_selection import train_test_split"
   ]
  },
  {
   "cell_type": "code",
   "execution_count": 15,
   "metadata": {},
   "outputs": [
    {
     "data": {
      "text/plain": [
       "array(['n', 'ibd_ulcerative_colitis', 'ibd_crohn_disease'], dtype=object)"
      ]
     },
     "execution_count": 15,
     "metadata": {},
     "output_type": "execute_result"
    }
   ],
   "source": [
    "ibd.disease.unique()"
   ]
  },
  {
   "cell_type": "code",
   "execution_count": 16,
   "metadata": {},
   "outputs": [
    {
     "name": "stderr",
     "output_type": "stream",
     "text": [
      "C:\\Users\\Tommy\\anaconda3\\lib\\site-packages\\pandas\\core\\indexing.py:965: SettingWithCopyWarning: \n",
      "A value is trying to be set on a copy of a slice from a DataFrame.\n",
      "Try using .loc[row_indexer,col_indexer] = value instead\n",
      "\n",
      "See the caveats in the documentation: https://pandas.pydata.org/pandas-docs/stable/user_guide/indexing.html#returning-a-view-versus-a-copy\n",
      "  self.obj[item] = s\n"
     ]
    }
   ],
   "source": [
    "ibd.loc[:,'disease'] = ibd.disease.map({'n':0, 'ibd_ulcerative_colitis':1, 'ibd_crohn_disease':1}) #Map no diesease to 0 and all others to 1"
   ]
  },
  {
   "cell_type": "code",
   "execution_count": 17,
   "metadata": {},
   "outputs": [],
   "source": [
    "\n",
    "ibd.loc[:, (ibd != 0).any(axis=0)] #Eliminate bacteria that are 0 in all rows.\n",
    "\n",
    "ibd = ibd.loc[:, (ibd != 0).any(axis=0)]"
   ]
  },
  {
   "cell_type": "code",
   "execution_count": 53,
   "metadata": {},
   "outputs": [],
   "source": [
    "X, y = ibd.iloc[:,211:], ibd['disease'] #Separate predictors and labels"
   ]
  },
  {
   "cell_type": "code",
   "execution_count": 55,
   "metadata": {},
   "outputs": [
    {
     "data": {
      "text/plain": [
       "565    0\n",
       "566    0\n",
       "567    0\n",
       "568    0\n",
       "569    0\n",
       "      ..\n",
       "670    1\n",
       "671    0\n",
       "672    0\n",
       "673    0\n",
       "674    0\n",
       "Name: disease, Length: 110, dtype: int64"
      ]
     },
     "execution_count": 55,
     "metadata": {},
     "output_type": "execute_result"
    }
   ],
   "source": []
  },
  {
   "cell_type": "code",
   "execution_count": 18,
   "metadata": {},
   "outputs": [],
   "source": [
    "X_train, X_test, y_train, y_test = train_test_split(ibd.iloc[:,211:], ibd['disease']\n",
    "                                                    ,test_size=0.20, random_state=5523)"
   ]
  },
  {
   "cell_type": "code",
   "execution_count": 19,
   "metadata": {},
   "outputs": [
    {
     "data": {
      "text/plain": [
       "RandomForestClassifier(bootstrap=True, ccp_alpha=0.0, class_weight=None,\n",
       "                       criterion='gini', max_depth=5, max_features='auto',\n",
       "                       max_leaf_nodes=None, max_samples=None,\n",
       "                       min_impurity_decrease=0.0, min_impurity_split=None,\n",
       "                       min_samples_leaf=1, min_samples_split=2,\n",
       "                       min_weight_fraction_leaf=0.0, n_estimators=500,\n",
       "                       n_jobs=None, oob_score=False, random_state=5523,\n",
       "                       verbose=0, warm_start=False)"
      ]
     },
     "execution_count": 19,
     "metadata": {},
     "output_type": "execute_result"
    }
   ],
   "source": [
    "rf.fit(X_train, y_train)"
   ]
  },
  {
   "cell_type": "code",
   "execution_count": 20,
   "metadata": {},
   "outputs": [],
   "source": [
    "from sklearn import metrics"
   ]
  },
  {
   "cell_type": "code",
   "execution_count": 21,
   "metadata": {},
   "outputs": [],
   "source": [
    "rf_pred = rf.predict(X_test)"
   ]
  },
  {
   "cell_type": "code",
   "execution_count": 22,
   "metadata": {},
   "outputs": [
    {
     "data": {
      "text/plain": [
       "array([0, 0, 0, 0, 0, 0, 0, 0, 0, 0, 0, 0, 0, 0, 0, 0, 0, 0, 0, 0, 0, 0],\n",
       "      dtype=int64)"
      ]
     },
     "execution_count": 22,
     "metadata": {},
     "output_type": "execute_result"
    }
   ],
   "source": [
    "rf_pred #Predict all 0's, not ideal"
   ]
  },
  {
   "cell_type": "code",
   "execution_count": 79,
   "metadata": {},
   "outputs": [
    {
     "data": {
      "text/plain": [
       "0.5"
      ]
     },
     "execution_count": 79,
     "metadata": {},
     "output_type": "execute_result"
    }
   ],
   "source": [
    "fpr, tpr, thresholds = metrics.roc_curve(y_test, rf_pred, pos_label=1)\n",
    "\n",
    "metrics.auc(fpr, tpr) #AUC is 0.5, also not ideal"
   ]
  },
  {
   "cell_type": "code",
   "execution_count": 87,
   "metadata": {},
   "outputs": [
    {
     "data": {
      "text/plain": [
       "0.5"
      ]
     },
     "execution_count": 87,
     "metadata": {},
     "output_type": "execute_result"
    }
   ],
   "source": [
    "metrics.roc_auc_score(y_test, rf.predict_proba(X_test)[:,1])"
   ]
  },
  {
   "cell_type": "code",
   "execution_count": 76,
   "metadata": {},
   "outputs": [
    {
     "data": {
      "text/plain": [
       "0.5"
      ]
     },
     "execution_count": 76,
     "metadata": {},
     "output_type": "execute_result"
    }
   ],
   "source": [
    "from sklearn.metrics import roc_curve, auc\n",
    "false_positive_rate, true_positive_rate, thresholds = roc_curve(y_test, rf_pred)\n",
    "roc_auc = auc(false_positive_rate, true_positive_rate)\n",
    "roc_auc"
   ]
  },
  {
   "cell_type": "code",
   "execution_count": 97,
   "metadata": {},
   "outputs": [
    {
     "ename": "ValueError",
     "evalue": "bad input shape (88, 2)",
     "output_type": "error",
     "traceback": [
      "\u001b[1;31m---------------------------------------------------------------------------\u001b[0m",
      "\u001b[1;31mValueError\u001b[0m                                Traceback (most recent call last)",
      "\u001b[1;32m<ipython-input-97-e1c14518e684>\u001b[0m in \u001b[0;36m<module>\u001b[1;34m\u001b[0m\n\u001b[0;32m      6\u001b[0m    \u001b[0mrf\u001b[0m\u001b[1;33m.\u001b[0m\u001b[0mfit\u001b[0m\u001b[1;33m(\u001b[0m\u001b[0mX_train\u001b[0m\u001b[1;33m,\u001b[0m \u001b[0my_train\u001b[0m\u001b[1;33m)\u001b[0m\u001b[1;33m\u001b[0m\u001b[1;33m\u001b[0m\u001b[0m\n\u001b[0;32m      7\u001b[0m    \u001b[0mtrain_pred\u001b[0m \u001b[1;33m=\u001b[0m \u001b[0mrf\u001b[0m\u001b[1;33m.\u001b[0m\u001b[0mpredict_proba\u001b[0m\u001b[1;33m(\u001b[0m\u001b[0mX_train\u001b[0m\u001b[1;33m)\u001b[0m\u001b[1;33m\u001b[0m\u001b[1;33m\u001b[0m\u001b[0m\n\u001b[1;32m----> 8\u001b[1;33m    \u001b[0mfalse_positive_rate\u001b[0m\u001b[1;33m,\u001b[0m \u001b[0mtrue_positive_rate\u001b[0m\u001b[1;33m,\u001b[0m \u001b[0mthresholds\u001b[0m \u001b[1;33m=\u001b[0m \u001b[0mroc_curve\u001b[0m\u001b[1;33m(\u001b[0m\u001b[0my_train\u001b[0m\u001b[1;33m,\u001b[0m \u001b[0mtrain_pred\u001b[0m\u001b[1;33m)\u001b[0m\u001b[1;33m\u001b[0m\u001b[1;33m\u001b[0m\u001b[0m\n\u001b[0m\u001b[0;32m      9\u001b[0m    \u001b[0mroc_auc\u001b[0m \u001b[1;33m=\u001b[0m \u001b[0mauc\u001b[0m\u001b[1;33m(\u001b[0m\u001b[0mfalse_positive_rate\u001b[0m\u001b[1;33m,\u001b[0m \u001b[0mtrue_positive_rate\u001b[0m\u001b[1;33m)\u001b[0m\u001b[1;33m\u001b[0m\u001b[1;33m\u001b[0m\u001b[0m\n\u001b[0;32m     10\u001b[0m    \u001b[0mtrain_results\u001b[0m\u001b[1;33m.\u001b[0m\u001b[0mappend\u001b[0m\u001b[1;33m(\u001b[0m\u001b[0mroc_auc\u001b[0m\u001b[1;33m)\u001b[0m\u001b[1;33m\u001b[0m\u001b[1;33m\u001b[0m\u001b[0m\n",
      "\u001b[1;32m~\\anaconda3\\lib\\site-packages\\sklearn\\metrics\\_ranking.py\u001b[0m in \u001b[0;36mroc_curve\u001b[1;34m(y_true, y_score, pos_label, sample_weight, drop_intermediate)\u001b[0m\n\u001b[0;32m    769\u001b[0m     \"\"\"\n\u001b[0;32m    770\u001b[0m     fps, tps, thresholds = _binary_clf_curve(\n\u001b[1;32m--> 771\u001b[1;33m         y_true, y_score, pos_label=pos_label, sample_weight=sample_weight)\n\u001b[0m\u001b[0;32m    772\u001b[0m \u001b[1;33m\u001b[0m\u001b[0m\n\u001b[0;32m    773\u001b[0m     \u001b[1;31m# Attempt to drop thresholds corresponding to points in between and\u001b[0m\u001b[1;33m\u001b[0m\u001b[1;33m\u001b[0m\u001b[1;33m\u001b[0m\u001b[0m\n",
      "\u001b[1;32m~\\anaconda3\\lib\\site-packages\\sklearn\\metrics\\_ranking.py\u001b[0m in \u001b[0;36m_binary_clf_curve\u001b[1;34m(y_true, y_score, pos_label, sample_weight)\u001b[0m\n\u001b[0;32m    538\u001b[0m     \u001b[0mcheck_consistent_length\u001b[0m\u001b[1;33m(\u001b[0m\u001b[0my_true\u001b[0m\u001b[1;33m,\u001b[0m \u001b[0my_score\u001b[0m\u001b[1;33m,\u001b[0m \u001b[0msample_weight\u001b[0m\u001b[1;33m)\u001b[0m\u001b[1;33m\u001b[0m\u001b[1;33m\u001b[0m\u001b[0m\n\u001b[0;32m    539\u001b[0m     \u001b[0my_true\u001b[0m \u001b[1;33m=\u001b[0m \u001b[0mcolumn_or_1d\u001b[0m\u001b[1;33m(\u001b[0m\u001b[0my_true\u001b[0m\u001b[1;33m)\u001b[0m\u001b[1;33m\u001b[0m\u001b[1;33m\u001b[0m\u001b[0m\n\u001b[1;32m--> 540\u001b[1;33m     \u001b[0my_score\u001b[0m \u001b[1;33m=\u001b[0m \u001b[0mcolumn_or_1d\u001b[0m\u001b[1;33m(\u001b[0m\u001b[0my_score\u001b[0m\u001b[1;33m)\u001b[0m\u001b[1;33m\u001b[0m\u001b[1;33m\u001b[0m\u001b[0m\n\u001b[0m\u001b[0;32m    541\u001b[0m     \u001b[0massert_all_finite\u001b[0m\u001b[1;33m(\u001b[0m\u001b[0my_true\u001b[0m\u001b[1;33m)\u001b[0m\u001b[1;33m\u001b[0m\u001b[1;33m\u001b[0m\u001b[0m\n\u001b[0;32m    542\u001b[0m     \u001b[0massert_all_finite\u001b[0m\u001b[1;33m(\u001b[0m\u001b[0my_score\u001b[0m\u001b[1;33m)\u001b[0m\u001b[1;33m\u001b[0m\u001b[1;33m\u001b[0m\u001b[0m\n",
      "\u001b[1;32m~\\anaconda3\\lib\\site-packages\\sklearn\\utils\\validation.py\u001b[0m in \u001b[0;36mcolumn_or_1d\u001b[1;34m(y, warn)\u001b[0m\n\u001b[0;32m    795\u001b[0m         \u001b[1;32mreturn\u001b[0m \u001b[0mnp\u001b[0m\u001b[1;33m.\u001b[0m\u001b[0mravel\u001b[0m\u001b[1;33m(\u001b[0m\u001b[0my\u001b[0m\u001b[1;33m)\u001b[0m\u001b[1;33m\u001b[0m\u001b[1;33m\u001b[0m\u001b[0m\n\u001b[0;32m    796\u001b[0m \u001b[1;33m\u001b[0m\u001b[0m\n\u001b[1;32m--> 797\u001b[1;33m     \u001b[1;32mraise\u001b[0m \u001b[0mValueError\u001b[0m\u001b[1;33m(\u001b[0m\u001b[1;34m\"bad input shape {0}\"\u001b[0m\u001b[1;33m.\u001b[0m\u001b[0mformat\u001b[0m\u001b[1;33m(\u001b[0m\u001b[0mshape\u001b[0m\u001b[1;33m)\u001b[0m\u001b[1;33m)\u001b[0m\u001b[1;33m\u001b[0m\u001b[1;33m\u001b[0m\u001b[0m\n\u001b[0m\u001b[0;32m    798\u001b[0m \u001b[1;33m\u001b[0m\u001b[0m\n\u001b[0;32m    799\u001b[0m \u001b[1;33m\u001b[0m\u001b[0m\n",
      "\u001b[1;31mValueError\u001b[0m: bad input shape (88, 2)"
     ]
    }
   ],
   "source": [
    "n_estimators = [1, 2, 4, 8, 16, 32, 64, 100, 200, 500, 1000] #Try tuning parameters, AUC still 0.5\n",
    "train_results = []\n",
    "test_results = []\n",
    "for estimator in n_estimators:\n",
    "   rf = RandomForestClassifier(n_estimators=estimator, n_jobs=-1)\n",
    "   rf.fit(X_train, y_train)\n",
    "   train_pred = rf.predict(X_train)\n",
    "   false_positive_rate, true_positive_rate, thresholds = roc_curve(y_train, train_pred)\n",
    "   roc_auc = auc(false_positive_rate, true_positive_rate)\n",
    "   train_results.append(roc_auc)\n",
    "   y_pred = rf.predict(X_test)\n",
    "   false_positive_rate, true_positive_rate, thresholds = roc_curve(y_test, y_pred)\n",
    "   roc_auc = auc(false_positive_rate, true_positive_rate)\n",
    "   test_results.append(roc_auc)\n",
    "from matplotlib.legend_handler import HandlerLine2D\n",
    "line1, = plt.plot(n_estimators, train_results, 'b', label='Train AUC')\n",
    "line2, = plt.plot(n_estimators, test_results, 'r', label='Test AUC')\n",
    "plt.legend(handler_map={line1: HandlerLine2D(numpoints=2)})\n",
    "plt.ylabel('AUC score')\n",
    "plt.xlabel('n_estimators')\n",
    "plt.show()"
   ]
  },
  {
   "cell_type": "code",
   "execution_count": 27,
   "metadata": {},
   "outputs": [
    {
     "data": {
      "image/png": "[encoded data removed]",
      "text/plain": [
       "<Figure size 432x288 with 1 Axes>"
      ]
     },
     "metadata": {
      "needs_background": "light"
     },
     "output_type": "display_data"
    }
   ],
   "source": [
    "max_depths = np.linspace(1, 32, 32, endpoint=True) #Parameter tuning, no improvement :/\n",
    "train_results = []\n",
    "test_results = []\n",
    "for max_depth in max_depths:\n",
    "   rf = RandomForestClassifier(max_depth=max_depth, n_jobs=-1)\n",
    "   rf.fit(X_train, y_train)\n",
    "   train_pred = rf.predict(X_train)\n",
    "   false_positive_rate, true_positive_rate, thresholds = roc_curve(y_train, train_pred)\n",
    "   roc_auc = auc(false_positive_rate, true_positive_rate)\n",
    "   train_results.append(roc_auc)\n",
    "   y_pred = rf.predict(X_test)\n",
    "   false_positive_rate, true_positive_rate, thresholds = roc_curve(y_test, y_pred)\n",
    "   roc_auc = auc(false_positive_rate, true_positive_rate)\n",
    "   test_results.append(roc_auc)\n",
    "from matplotlib.legend_handler import HandlerLine2D\n",
    "line1, = plt.plot(max_depths, train_results, 'b', label='Train AUC')\n",
    "line2, = plt.plot(max_depths, test_results, 'r', label='Test AUC')\n",
    "plt.legend(handler_map={line1: HandlerLine2D(numpoints=2)})\n",
    "plt.ylabel('AUC score')\n",
    "plt.xlabel('Tree depth')\n",
    "plt.show()"
   ]
  },
  {
   "cell_type": "code",
   "execution_count": 28,
   "metadata": {},
   "outputs": [
    {
     "data": {
      "image/png": "[encoded data removed]",
      "text/plain": [
       "<Figure size 432x288 with 1 Axes>"
      ]
     },
     "metadata": {
      "needs_background": "light"
     },
     "output_type": "display_data"
    }
   ],
   "source": [
    "min_samples_splits = np.linspace(0.1, 1.0, 10, endpoint=True)\n",
    "train_results = []\n",
    "test_results = []\n",
    "for min_samples_split in min_samples_splits:\n",
    "   rf = RandomForestClassifier(min_samples_split=min_samples_split)\n",
    "   rf.fit(X_train, y_train)\n",
    "   train_pred = rf.predict(X_train)\n",
    "   false_positive_rate, true_positive_rate, thresholds = roc_curve(y_train, train_pred)\n",
    "   roc_auc = auc(false_positive_rate, true_positive_rate)\n",
    "   train_results.append(roc_auc)\n",
    "   y_pred = rf.predict(X_test)\n",
    "   false_positive_rate, true_positive_rate, thresholds = roc_curve(y_test, y_pred)\n",
    "   roc_auc = auc(false_positive_rate, true_positive_rate)\n",
    "   test_results.append(roc_auc)\n",
    "from matplotlib.legend_handler import HandlerLine2D\n",
    "line1, = plt.plot(min_samples_splits, train_results, 'b', label='Train AUC')\n",
    "line2, = plt.plot(min_samples_splits, test_results, 'r', label='Test AUC')\n",
    "plt.legend(handler_map={line1: HandlerLine2D(numpoints=2)})\n",
    "plt.ylabel('AUC score')\n",
    "plt.xlabel('min samples split')\n",
    "plt.show()"
   ]
  },
  {
   "cell_type": "code",
   "execution_count": 29,
   "metadata": {},
   "outputs": [],
   "source": [
    "from sklearn.naive_bayes import GaussianNB"
   ]
  },
  {
   "cell_type": "code",
   "execution_count": 30,
   "metadata": {},
   "outputs": [],
   "source": [
    "gnb = GaussianNB()\n"
   ]
  },
  {
   "cell_type": "code",
   "execution_count": 31,
   "metadata": {},
   "outputs": [],
   "source": [
    "gnb_pred = gnb.fit(X_train, y_train).predict(X_test)"
   ]
  },
  {
   "cell_type": "code",
   "execution_count": 32,
   "metadata": {},
   "outputs": [],
   "source": [
    "from sklearn.neural_network import MLPClassifier"
   ]
  },
  {
   "cell_type": "code",
   "execution_count": 33,
   "metadata": {},
   "outputs": [],
   "source": [
    "NN = MLPClassifier(solver='lbfgs', alpha=1e-5, hidden_layer_sizes=(5, 100), random_state=5523)"
   ]
  },
  {
   "cell_type": "code",
   "execution_count": 34,
   "metadata": {},
   "outputs": [
    {
     "data": {
      "text/plain": [
       "MLPClassifier(activation='relu', alpha=1e-05, batch_size='auto', beta_1=0.9,\n",
       "              beta_2=0.999, early_stopping=False, epsilon=1e-08,\n",
       "              hidden_layer_sizes=(5, 100), learning_rate='constant',\n",
       "              learning_rate_init=0.001, max_fun=15000, max_iter=200,\n",
       "              momentum=0.9, n_iter_no_change=10, nesterovs_momentum=True,\n",
       "              power_t=0.5, random_state=5523, shuffle=True, solver='lbfgs',\n",
       "              tol=0.0001, validation_fraction=0.1, verbose=False,\n",
       "              warm_start=False)"
      ]
     },
     "execution_count": 34,
     "metadata": {},
     "output_type": "execute_result"
    }
   ],
   "source": [
    "NN.fit(X_train, y_train)"
   ]
  },
  {
   "cell_type": "code",
   "execution_count": 35,
   "metadata": {},
   "outputs": [
    {
     "data": {
      "text/plain": [
       "array([0, 0, 0, 0, 0, 0, 0, 0, 0, 0, 0, 0, 0, 0, 0, 0, 0, 0, 0, 0, 0, 0],\n",
       "      dtype=int64)"
      ]
     },
     "execution_count": 35,
     "metadata": {},
     "output_type": "execute_result"
    }
   ],
   "source": [
    "NN.predict(X_test)"
   ]
  },
  {
   "cell_type": "code",
   "execution_count": 36,
   "metadata": {},
   "outputs": [
    {
     "data": {
      "text/plain": [
       "array([0, 0, 0, 0, 0, 0, 0, 0, 0, 0, 0, 0, 0, 0, 0, 0, 0, 0, 0, 0, 0, 0],\n",
       "      dtype=int64)"
      ]
     },
     "execution_count": 36,
     "metadata": {},
     "output_type": "execute_result"
    }
   ],
   "source": [
    "gnb_pred"
   ]
  },
  {
   "cell_type": "code",
   "execution_count": 37,
   "metadata": {},
   "outputs": [
    {
     "data": {
      "text/plain": [
       "2"
      ]
     },
     "execution_count": 37,
     "metadata": {},
     "output_type": "execute_result"
    }
   ],
   "source": [
    "sum(y_test)"
   ]
  },
  {
   "cell_type": "code",
   "execution_count": 38,
   "metadata": {},
   "outputs": [],
   "source": [
    "rf2 = RandomForestClassifier(n_estimators = 500, max_depth=5, max_features = \"auto\", random_state=5523) #Try a random forest"
   ]
  },
  {
   "cell_type": "code",
   "execution_count": 39,
   "metadata": {},
   "outputs": [],
   "source": [
    "rf2.fit(X_train, y_train)\n",
    "\n",
    "rf2_pred= rf2.predict(X_test)\n"
   ]
  },
  {
   "cell_type": "code",
   "execution_count": 40,
   "metadata": {},
   "outputs": [],
   "source": [
    "fpr, tpr, thresholds = metrics.roc_curve(y_test, rf2_pred, pos_label=1)"
   ]
  },
  {
   "cell_type": "code",
   "execution_count": 41,
   "metadata": {},
   "outputs": [
    {
     "data": {
      "text/plain": [
       "0.5"
      ]
     },
     "execution_count": 41,
     "metadata": {},
     "output_type": "execute_result"
    }
   ],
   "source": [
    "metrics.auc(fpr, tpr) #AUC is 0.5, also not ideal"
   ]
  },
  {
   "cell_type": "code",
   "execution_count": 42,
   "metadata": {},
   "outputs": [],
   "source": [
    "importances = rf2.feature_importances_"
   ]
  },
  {
   "cell_type": "code",
   "execution_count": 43,
   "metadata": {},
   "outputs": [
    {
     "data": {
      "text/plain": [
       "array([0.01712437, 0.01647223, 0.01613167, ..., 0.        , 0.        ,\n",
       "       0.        ])"
      ]
     },
     "execution_count": 43,
     "metadata": {},
     "output_type": "execute_result"
    }
   ],
   "source": [
    "np.sort(importances)[::-1]"
   ]
  },
  {
   "cell_type": "code",
   "execution_count": 44,
   "metadata": {},
   "outputs": [],
   "source": [
    "from sklearn.feature_selection import SelectFromModel\n",
    "\n",
    "sfm = SelectFromModel(rf2, threshold = -np.inf, max_features = 69) #Select only the 200 most important features"
   ]
  },
  {
   "cell_type": "code",
   "execution_count": 45,
   "metadata": {},
   "outputs": [
    {
     "data": {
      "text/plain": [
       "SelectFromModel(estimator=RandomForestClassifier(bootstrap=True, ccp_alpha=0.0,\n",
       "                                                 class_weight=None,\n",
       "                                                 criterion='gini', max_depth=5,\n",
       "                                                 max_features='auto',\n",
       "                                                 max_leaf_nodes=None,\n",
       "                                                 max_samples=None,\n",
       "                                                 min_impurity_decrease=0.0,\n",
       "                                                 min_impurity_split=None,\n",
       "                                                 min_samples_leaf=1,\n",
       "                                                 min_samples_split=2,\n",
       "                                                 min_weight_fraction_leaf=0.0,\n",
       "                                                 n_estimators=500, n_jobs=None,\n",
       "                                                 oob_score=False,\n",
       "                                                 random_state=5523, verbose=0,\n",
       "                                                 warm_start=False),\n",
       "                max_features=69, norm_order=1, prefit=False, threshold=-inf)"
      ]
     },
     "execution_count": 45,
     "metadata": {},
     "output_type": "execute_result"
    }
   ],
   "source": [
    "sfm.fit(X_train, y_train)"
   ]
  },
  {
   "cell_type": "code",
   "execution_count": 46,
   "metadata": {},
   "outputs": [],
   "source": [
    "X_important_train = sfm.transform(X_train)\n",
    "X_important_test = sfm.transform(X_test)"
   ]
  },
  {
   "cell_type": "code",
   "execution_count": 47,
   "metadata": {},
   "outputs": [],
   "source": [
    "rf2_important = RandomForestClassifier(n_estimators = 500, max_depth=5, max_features = \"auto\", random_state=5523) #Try a random forest"
   ]
  },
  {
   "cell_type": "code",
   "execution_count": 48,
   "metadata": {},
   "outputs": [
    {
     "data": {
      "text/plain": [
       "RandomForestClassifier(bootstrap=True, ccp_alpha=0.0, class_weight=None,\n",
       "                       criterion='gini', max_depth=5, max_features='auto',\n",
       "                       max_leaf_nodes=None, max_samples=None,\n",
       "                       min_impurity_decrease=0.0, min_impurity_split=None,\n",
       "                       min_samples_leaf=1, min_samples_split=2,\n",
       "                       min_weight_fraction_leaf=0.0, n_estimators=500,\n",
       "                       n_jobs=None, oob_score=False, random_state=5523,\n",
       "                       verbose=0, warm_start=False)"
      ]
     },
     "execution_count": 48,
     "metadata": {},
     "output_type": "execute_result"
    }
   ],
   "source": [
    "rf2_important.fit(X_important_train, y_train)"
   ]
  },
  {
   "cell_type": "code",
   "execution_count": 49,
   "metadata": {},
   "outputs": [],
   "source": [
    "y_important_pred = rf2_important.predict(X_important_test)"
   ]
  },
  {
   "cell_type": "code",
   "execution_count": 89,
   "metadata": {},
   "outputs": [
    {
     "data": {
      "text/plain": [
       "0.5"
      ]
     },
     "execution_count": 89,
     "metadata": {},
     "output_type": "execute_result"
    }
   ],
   "source": [
    "fpr, tpr, thresholds = metrics.roc_curve(y_test, y_important_pred, pos_label=1)\n",
    "metrics.auc(fpr, tpr)"
   ]
  },
  {
   "cell_type": "code",
   "execution_count": 96,
   "metadata": {},
   "outputs": [
    {
     "data": {
      "text/plain": [
       "array([[0.84332338, 0.15667662],\n",
       "       [0.99019446, 0.00980554],\n",
       "       [0.99049692, 0.00950308],\n",
       "       [0.75087748, 0.24912252],\n",
       "       [0.95979855, 0.04020145],\n",
       "       [0.80840274, 0.19159726],\n",
       "       [0.87015939, 0.12984061],\n",
       "       [0.77185419, 0.22814581],\n",
       "       [0.86079712, 0.13920288],\n",
       "       [0.93598912, 0.06401088],\n",
       "       [0.9414714 , 0.0585286 ],\n",
       "       [0.64819508, 0.35180492],\n",
       "       [0.70931152, 0.29068848],\n",
       "       [0.6763066 , 0.3236934 ],\n",
       "       [0.90994651, 0.09005349],\n",
       "       [0.96299389, 0.03700611],\n",
       "       [0.85312876, 0.14687124],\n",
       "       [0.87687142, 0.12312858],\n",
       "       [0.95682669, 0.04317331],\n",
       "       [0.98478143, 0.01521857],\n",
       "       [0.90052917, 0.09947083],\n",
       "       [0.93315452, 0.06684548]])"
      ]
     },
     "execution_count": 96,
     "metadata": {},
     "output_type": "execute_result"
    }
   ],
   "source": []
  },
  {
   "cell_type": "code",
   "execution_count": 51,
   "metadata": {},
   "outputs": [
    {
     "data": {
      "text/plain": [
       "0.9090909090909091"
      ]
     },
     "execution_count": 51,
     "metadata": {},
     "output_type": "execute_result"
    }
   ],
   "source": [
    "metrics.accuracy_score(y_test, y_important_pred)"
   ]
  },
  {
   "cell_type": "code",
   "execution_count": 61,
   "metadata": {},
   "outputs": [],
   "source": [
    "from sklearn.model_selection import KFold #Doing kfold\n",
    "from sklearn.model_selection import cross_val_score #Other way to do Kfold?"
   ]
  },
  {
   "cell_type": "code",
   "execution_count": 84,
   "metadata": {},
   "outputs": [],
   "source": [
    "    scores = cross_val_score(rf2, X, y, cv=10, scoring = 'roc_auc') #This suggests we have good AUC values. "
   ]
  },
  {
   "cell_type": "code",
   "execution_count": 85,
   "metadata": {},
   "outputs": [
    {
     "data": {
      "text/plain": [
       "(0.8902777777777778,\n",
       " array([1.        , 0.83333333, 1.        , 1.        , 0.77777778,\n",
       "        0.875     , 0.91666667, 1.        , 0.625     , 0.875     ]))"
      ]
     },
     "execution_count": 85,
     "metadata": {},
     "output_type": "execute_result"
    }
   ],
   "source": [
    "scores.mean(), scores"
   ]
  }
 ],
 "metadata": {
  "kernelspec": {
   "display_name": "Python 3",
   "language": "python",
   "name": "python3"
  },
  "language_info": {
   "codemirror_mode": {
    "name": "ipython",
    "version": 3
   },
   "file_extension": ".py",
   "mimetype": "text/x-python",
   "name": "python",
   "nbconvert_exporter": "python",
   "pygments_lexer": "ipython3",
   "version": "3.7.6"
  }
 },
 "nbformat": 4,
 "nbformat_minor": 4
}
